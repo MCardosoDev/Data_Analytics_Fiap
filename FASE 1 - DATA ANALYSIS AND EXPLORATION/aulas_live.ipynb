{
 "cells": [
  {
   "cell_type": "code",
   "execution_count": 1,
   "metadata": {},
   "outputs": [],
   "source": [
    "import polars as pl\n",
    "import pandas as pd"
   ]
  },
  {
   "cell_type": "code",
   "execution_count": 2,
   "metadata": {},
   "outputs": [],
   "source": [
    "df = pl.read_csv('../Data/ca-2022-02.csv', separator=';', try_parse_dates=True)"
   ]
  },
  {
   "cell_type": "code",
   "execution_count": 3,
   "metadata": {},
   "outputs": [
    {
     "data": {
      "text/html": [
       "<div><style>\n",
       ".dataframe > thead > tr > th,\n",
       ".dataframe > tbody > tr > td {\n",
       "  text-align: right;\n",
       "}\n",
       "</style>\n",
       "<small>shape: (5, 16)</small><table border=\"1\" class=\"dataframe\"><thead><tr><th>Regiao - Sigla</th><th>Estado - Sigla</th><th>Municipio</th><th>Revenda</th><th>CNPJ da Revenda</th><th>Nome da Rua</th><th>Numero Rua</th><th>Complemento</th><th>Bairro</th><th>Cep</th><th>Produto</th><th>Data da Coleta</th><th>Valor de Venda</th><th>Valor de Compra</th><th>Unidade de Medida</th><th>Bandeira</th></tr><tr><td>str</td><td>str</td><td>str</td><td>str</td><td>str</td><td>str</td><td>str</td><td>str</td><td>str</td><td>str</td><td>str</td><td>date</td><td>str</td><td>str</td><td>str</td><td>str</td></tr></thead><tbody><tr><td>&quot;SE&quot;</td><td>&quot;ES&quot;</td><td>&quot;COLATINA&quot;</td><td>&quot;SAO FRANCISCO …</td><td>&quot; 08.519.545/00…</td><td>&quot;PRACA FIDELIS …</td><td>&quot;35&quot;</td><td>null</td><td>&quot;LACE&quot;</td><td>&quot;29703-030&quot;</td><td>&quot;GASOLINA ADITI…</td><td>2022-07-01</td><td>&quot;7,48&quot;</td><td>null</td><td>&quot;R$ / litro&quot;</td><td>&quot;VIBRA ENERGIA&quot;</td></tr><tr><td>&quot;SE&quot;</td><td>&quot;ES&quot;</td><td>&quot;COLATINA&quot;</td><td>&quot;SAO FRANCISCO …</td><td>&quot; 08.519.545/00…</td><td>&quot;PRACA FIDELIS …</td><td>&quot;35&quot;</td><td>null</td><td>&quot;LACE&quot;</td><td>&quot;29703-030&quot;</td><td>&quot;GASOLINA&quot;</td><td>2022-07-01</td><td>&quot;7,38&quot;</td><td>null</td><td>&quot;R$ / litro&quot;</td><td>&quot;VIBRA ENERGIA&quot;</td></tr><tr><td>&quot;SE&quot;</td><td>&quot;ES&quot;</td><td>&quot;COLATINA&quot;</td><td>&quot;POSTO MOTOCAP …</td><td>&quot; 04.814.652/00…</td><td>&quot;PRACA ALMIRANT…</td><td>&quot;52&quot;</td><td>&quot;LETRA A&quot;</td><td>&quot;LACE&quot;</td><td>&quot;29703-055&quot;</td><td>&quot;DIESEL S10&quot;</td><td>2022-07-01</td><td>&quot;7,69&quot;</td><td>null</td><td>&quot;R$ / litro&quot;</td><td>&quot;VIBRA ENERGIA&quot;</td></tr><tr><td>&quot;SE&quot;</td><td>&quot;ES&quot;</td><td>&quot;COLATINA&quot;</td><td>&quot;POSTO MOTOCAP …</td><td>&quot; 04.814.652/00…</td><td>&quot;PRACA ALMIRANT…</td><td>&quot;52&quot;</td><td>&quot;LETRA A&quot;</td><td>&quot;LACE&quot;</td><td>&quot;29703-055&quot;</td><td>&quot;ETANOL&quot;</td><td>2022-07-01</td><td>&quot;5,99&quot;</td><td>null</td><td>&quot;R$ / litro&quot;</td><td>&quot;VIBRA ENERGIA&quot;</td></tr><tr><td>&quot;SE&quot;</td><td>&quot;ES&quot;</td><td>&quot;COLATINA&quot;</td><td>&quot;POSTO MOTOCAP …</td><td>&quot; 04.814.652/00…</td><td>&quot;PRACA ALMIRANT…</td><td>&quot;52&quot;</td><td>&quot;LETRA A&quot;</td><td>&quot;LACE&quot;</td><td>&quot;29703-055&quot;</td><td>&quot;GASOLINA&quot;</td><td>2022-07-01</td><td>&quot;7,39&quot;</td><td>null</td><td>&quot;R$ / litro&quot;</td><td>&quot;VIBRA ENERGIA&quot;</td></tr></tbody></table></div>"
      ],
      "text/plain": [
       "shape: (5, 16)\n",
       "┌────────────┬────────────┬─────────┬──────────┬───┬────────────┬────────────┬────────────┬────────┐\n",
       "│ Regiao -   ┆ Estado -   ┆ Municip ┆ Revenda  ┆ … ┆ Valor de   ┆ Valor de   ┆ Unidade de ┆ Bandei │\n",
       "│ Sigla      ┆ Sigla      ┆ io      ┆ ---      ┆   ┆ Venda      ┆ Compra     ┆ Medida     ┆ ra     │\n",
       "│ ---        ┆ ---        ┆ ---     ┆ str      ┆   ┆ ---        ┆ ---        ┆ ---        ┆ ---    │\n",
       "│ str        ┆ str        ┆ str     ┆          ┆   ┆ str        ┆ str        ┆ str        ┆ str    │\n",
       "╞════════════╪════════════╪═════════╪══════════╪═══╪════════════╪════════════╪════════════╪════════╡\n",
       "│ SE         ┆ ES         ┆ COLATIN ┆ SAO FRAN ┆ … ┆ 7,48       ┆ null       ┆ R$ / litro ┆ VIBRA  │\n",
       "│            ┆            ┆ A       ┆ CISCO DE ┆   ┆            ┆            ┆            ┆ ENERGI │\n",
       "│            ┆            ┆         ┆ ASSIS    ┆   ┆            ┆            ┆            ┆ A      │\n",
       "│            ┆            ┆         ┆ COMERCIO ┆   ┆            ┆            ┆            ┆        │\n",
       "│            ┆            ┆         ┆ …        ┆   ┆            ┆            ┆            ┆        │\n",
       "│ SE         ┆ ES         ┆ COLATIN ┆ SAO FRAN ┆ … ┆ 7,38       ┆ null       ┆ R$ / litro ┆ VIBRA  │\n",
       "│            ┆            ┆ A       ┆ CISCO DE ┆   ┆            ┆            ┆            ┆ ENERGI │\n",
       "│            ┆            ┆         ┆ ASSIS    ┆   ┆            ┆            ┆            ┆ A      │\n",
       "│            ┆            ┆         ┆ COMERCIO ┆   ┆            ┆            ┆            ┆        │\n",
       "│            ┆            ┆         ┆ …        ┆   ┆            ┆            ┆            ┆        │\n",
       "│ SE         ┆ ES         ┆ COLATIN ┆ POSTO    ┆ … ┆ 7,69       ┆ null       ┆ R$ / litro ┆ VIBRA  │\n",
       "│            ┆            ┆ A       ┆ MOTOCAP  ┆   ┆            ┆            ┆            ┆ ENERGI │\n",
       "│            ┆            ┆         ┆ LTDA     ┆   ┆            ┆            ┆            ┆ A      │\n",
       "│ SE         ┆ ES         ┆ COLATIN ┆ POSTO    ┆ … ┆ 5,99       ┆ null       ┆ R$ / litro ┆ VIBRA  │\n",
       "│            ┆            ┆ A       ┆ MOTOCAP  ┆   ┆            ┆            ┆            ┆ ENERGI │\n",
       "│            ┆            ┆         ┆ LTDA     ┆   ┆            ┆            ┆            ┆ A      │\n",
       "│ SE         ┆ ES         ┆ COLATIN ┆ POSTO    ┆ … ┆ 7,39       ┆ null       ┆ R$ / litro ┆ VIBRA  │\n",
       "│            ┆            ┆ A       ┆ MOTOCAP  ┆   ┆            ┆            ┆            ┆ ENERGI │\n",
       "│            ┆            ┆         ┆ LTDA     ┆   ┆            ┆            ┆            ┆ A      │\n",
       "└────────────┴────────────┴─────────┴──────────┴───┴────────────┴────────────┴────────────┴────────┘"
      ]
     },
     "execution_count": 3,
     "metadata": {},
     "output_type": "execute_result"
    }
   ],
   "source": [
    "df.head()"
   ]
  },
  {
   "cell_type": "code",
   "execution_count": 4,
   "metadata": {},
   "outputs": [
    {
     "data": {
      "text/html": [
       "<div><style>\n",
       ".dataframe > thead > tr > th,\n",
       ".dataframe > tbody > tr > td {\n",
       "  text-align: right;\n",
       "}\n",
       "</style>\n",
       "<small>shape: (2, 16)</small><table border=\"1\" class=\"dataframe\"><thead><tr><th>Regiao - Sigla</th><th>Estado - Sigla</th><th>Municipio</th><th>Revenda</th><th>CNPJ da Revenda</th><th>Nome da Rua</th><th>Numero Rua</th><th>Complemento</th><th>Bairro</th><th>Cep</th><th>Produto</th><th>Data da Coleta</th><th>Valor de Venda</th><th>Valor de Compra</th><th>Unidade de Medida</th><th>Bandeira</th></tr><tr><td>str</td><td>str</td><td>str</td><td>str</td><td>str</td><td>str</td><td>str</td><td>str</td><td>str</td><td>str</td><td>str</td><td>date</td><td>str</td><td>str</td><td>str</td><td>str</td></tr></thead><tbody><tr><td>&quot;SE&quot;</td><td>&quot;ES&quot;</td><td>&quot;COLATINA&quot;</td><td>&quot;SAO FRANCISCO …</td><td>&quot; 08.519.545/00…</td><td>&quot;PRACA FIDELIS …</td><td>&quot;35&quot;</td><td>null</td><td>&quot;LACE&quot;</td><td>&quot;29703-030&quot;</td><td>&quot;GASOLINA ADITI…</td><td>2022-07-01</td><td>&quot;7.48&quot;</td><td>null</td><td>&quot;R$ / litro&quot;</td><td>&quot;VIBRA ENERGIA&quot;</td></tr><tr><td>&quot;SE&quot;</td><td>&quot;ES&quot;</td><td>&quot;COLATINA&quot;</td><td>&quot;SAO FRANCISCO …</td><td>&quot; 08.519.545/00…</td><td>&quot;PRACA FIDELIS …</td><td>&quot;35&quot;</td><td>null</td><td>&quot;LACE&quot;</td><td>&quot;29703-030&quot;</td><td>&quot;GASOLINA&quot;</td><td>2022-07-01</td><td>&quot;7.38&quot;</td><td>null</td><td>&quot;R$ / litro&quot;</td><td>&quot;VIBRA ENERGIA&quot;</td></tr></tbody></table></div>"
      ],
      "text/plain": [
       "shape: (2, 16)\n",
       "┌────────────┬────────────┬─────────┬──────────┬───┬────────────┬────────────┬────────────┬────────┐\n",
       "│ Regiao -   ┆ Estado -   ┆ Municip ┆ Revenda  ┆ … ┆ Valor de   ┆ Valor de   ┆ Unidade de ┆ Bandei │\n",
       "│ Sigla      ┆ Sigla      ┆ io      ┆ ---      ┆   ┆ Venda      ┆ Compra     ┆ Medida     ┆ ra     │\n",
       "│ ---        ┆ ---        ┆ ---     ┆ str      ┆   ┆ ---        ┆ ---        ┆ ---        ┆ ---    │\n",
       "│ str        ┆ str        ┆ str     ┆          ┆   ┆ str        ┆ str        ┆ str        ┆ str    │\n",
       "╞════════════╪════════════╪═════════╪══════════╪═══╪════════════╪════════════╪════════════╪════════╡\n",
       "│ SE         ┆ ES         ┆ COLATIN ┆ SAO FRAN ┆ … ┆ 7.48       ┆ null       ┆ R$ / litro ┆ VIBRA  │\n",
       "│            ┆            ┆ A       ┆ CISCO DE ┆   ┆            ┆            ┆            ┆ ENERGI │\n",
       "│            ┆            ┆         ┆ ASSIS    ┆   ┆            ┆            ┆            ┆ A      │\n",
       "│            ┆            ┆         ┆ COMERCIO ┆   ┆            ┆            ┆            ┆        │\n",
       "│            ┆            ┆         ┆ …        ┆   ┆            ┆            ┆            ┆        │\n",
       "│ SE         ┆ ES         ┆ COLATIN ┆ SAO FRAN ┆ … ┆ 7.38       ┆ null       ┆ R$ / litro ┆ VIBRA  │\n",
       "│            ┆            ┆ A       ┆ CISCO DE ┆   ┆            ┆            ┆            ┆ ENERGI │\n",
       "│            ┆            ┆         ┆ ASSIS    ┆   ┆            ┆            ┆            ┆ A      │\n",
       "│            ┆            ┆         ┆ COMERCIO ┆   ┆            ┆            ┆            ┆        │\n",
       "│            ┆            ┆         ┆ …        ┆   ┆            ┆            ┆            ┆        │\n",
       "└────────────┴────────────┴─────────┴──────────┴───┴────────────┴────────────┴────────────┴────────┘"
      ]
     },
     "execution_count": 4,
     "metadata": {},
     "output_type": "execute_result"
    }
   ],
   "source": [
    "df = df.with_columns(pl.col(\"Valor de Venda\").str.replace(\",\", \".\"))\n",
    "df.head(2)"
   ]
  },
  {
   "cell_type": "code",
   "execution_count": 5,
   "metadata": {},
   "outputs": [
    {
     "data": {
      "text/html": [
       "<div><style>\n",
       ".dataframe > thead > tr > th,\n",
       ".dataframe > tbody > tr > td {\n",
       "  text-align: right;\n",
       "}\n",
       "</style>\n",
       "<small>shape: (2, 16)</small><table border=\"1\" class=\"dataframe\"><thead><tr><th>Regiao - Sigla</th><th>Estado - Sigla</th><th>Municipio</th><th>Revenda</th><th>CNPJ da Revenda</th><th>Nome da Rua</th><th>Numero Rua</th><th>Complemento</th><th>Bairro</th><th>Cep</th><th>Produto</th><th>Data da Coleta</th><th>Valor de Venda</th><th>Valor de Compra</th><th>Unidade de Medida</th><th>Bandeira</th></tr><tr><td>str</td><td>str</td><td>str</td><td>str</td><td>str</td><td>str</td><td>str</td><td>str</td><td>str</td><td>str</td><td>str</td><td>date</td><td>f64</td><td>str</td><td>str</td><td>str</td></tr></thead><tbody><tr><td>&quot;SE&quot;</td><td>&quot;ES&quot;</td><td>&quot;COLATINA&quot;</td><td>&quot;SAO FRANCISCO …</td><td>&quot; 08.519.545/00…</td><td>&quot;PRACA FIDELIS …</td><td>&quot;35&quot;</td><td>null</td><td>&quot;LACE&quot;</td><td>&quot;29703-030&quot;</td><td>&quot;GASOLINA ADITI…</td><td>2022-07-01</td><td>7.48</td><td>null</td><td>&quot;R$ / litro&quot;</td><td>&quot;VIBRA ENERGIA&quot;</td></tr><tr><td>&quot;SE&quot;</td><td>&quot;ES&quot;</td><td>&quot;COLATINA&quot;</td><td>&quot;SAO FRANCISCO …</td><td>&quot; 08.519.545/00…</td><td>&quot;PRACA FIDELIS …</td><td>&quot;35&quot;</td><td>null</td><td>&quot;LACE&quot;</td><td>&quot;29703-030&quot;</td><td>&quot;GASOLINA&quot;</td><td>2022-07-01</td><td>7.38</td><td>null</td><td>&quot;R$ / litro&quot;</td><td>&quot;VIBRA ENERGIA&quot;</td></tr></tbody></table></div>"
      ],
      "text/plain": [
       "shape: (2, 16)\n",
       "┌────────────┬────────────┬─────────┬──────────┬───┬────────────┬────────────┬────────────┬────────┐\n",
       "│ Regiao -   ┆ Estado -   ┆ Municip ┆ Revenda  ┆ … ┆ Valor de   ┆ Valor de   ┆ Unidade de ┆ Bandei │\n",
       "│ Sigla      ┆ Sigla      ┆ io      ┆ ---      ┆   ┆ Venda      ┆ Compra     ┆ Medida     ┆ ra     │\n",
       "│ ---        ┆ ---        ┆ ---     ┆ str      ┆   ┆ ---        ┆ ---        ┆ ---        ┆ ---    │\n",
       "│ str        ┆ str        ┆ str     ┆          ┆   ┆ f64        ┆ str        ┆ str        ┆ str    │\n",
       "╞════════════╪════════════╪═════════╪══════════╪═══╪════════════╪════════════╪════════════╪════════╡\n",
       "│ SE         ┆ ES         ┆ COLATIN ┆ SAO FRAN ┆ … ┆ 7.48       ┆ null       ┆ R$ / litro ┆ VIBRA  │\n",
       "│            ┆            ┆ A       ┆ CISCO DE ┆   ┆            ┆            ┆            ┆ ENERGI │\n",
       "│            ┆            ┆         ┆ ASSIS    ┆   ┆            ┆            ┆            ┆ A      │\n",
       "│            ┆            ┆         ┆ COMERCIO ┆   ┆            ┆            ┆            ┆        │\n",
       "│            ┆            ┆         ┆ …        ┆   ┆            ┆            ┆            ┆        │\n",
       "│ SE         ┆ ES         ┆ COLATIN ┆ SAO FRAN ┆ … ┆ 7.38       ┆ null       ┆ R$ / litro ┆ VIBRA  │\n",
       "│            ┆            ┆ A       ┆ CISCO DE ┆   ┆            ┆            ┆            ┆ ENERGI │\n",
       "│            ┆            ┆         ┆ ASSIS    ┆   ┆            ┆            ┆            ┆ A      │\n",
       "│            ┆            ┆         ┆ COMERCIO ┆   ┆            ┆            ┆            ┆        │\n",
       "│            ┆            ┆         ┆ …        ┆   ┆            ┆            ┆            ┆        │\n",
       "└────────────┴────────────┴─────────┴──────────┴───┴────────────┴────────────┴────────────┴────────┘"
      ]
     },
     "execution_count": 5,
     "metadata": {},
     "output_type": "execute_result"
    }
   ],
   "source": [
    "df = df.with_columns(pl.col(\"Valor de Venda\").cast(pl.Float64))\n",
    "df.head(2)"
   ]
  },
  {
   "cell_type": "code",
   "execution_count": 6,
   "metadata": {},
   "outputs": [
    {
     "data": {
      "text/html": [
       "<div><style>\n",
       ".dataframe > thead > tr > th,\n",
       ".dataframe > tbody > tr > td {\n",
       "  text-align: right;\n",
       "}\n",
       "</style>\n",
       "<small>shape: (5, 7)</small><table border=\"1\" class=\"dataframe\"><thead><tr><th>Regiao - Sigla</th><th>Estado - Sigla</th><th>Revenda</th><th>Produto</th><th>Data da Coleta</th><th>Valor de Venda</th><th>Bandeira</th></tr><tr><td>str</td><td>str</td><td>str</td><td>str</td><td>date</td><td>f64</td><td>str</td></tr></thead><tbody><tr><td>&quot;SE&quot;</td><td>&quot;ES&quot;</td><td>&quot;SAO FRANCISCO …</td><td>&quot;GASOLINA ADITI…</td><td>2022-07-01</td><td>7.48</td><td>&quot;VIBRA ENERGIA&quot;</td></tr><tr><td>&quot;SE&quot;</td><td>&quot;ES&quot;</td><td>&quot;SAO FRANCISCO …</td><td>&quot;GASOLINA&quot;</td><td>2022-07-01</td><td>7.38</td><td>&quot;VIBRA ENERGIA&quot;</td></tr><tr><td>&quot;SE&quot;</td><td>&quot;ES&quot;</td><td>&quot;POSTO MOTOCAP …</td><td>&quot;DIESEL S10&quot;</td><td>2022-07-01</td><td>7.69</td><td>&quot;VIBRA ENERGIA&quot;</td></tr><tr><td>&quot;SE&quot;</td><td>&quot;ES&quot;</td><td>&quot;POSTO MOTOCAP …</td><td>&quot;ETANOL&quot;</td><td>2022-07-01</td><td>5.99</td><td>&quot;VIBRA ENERGIA&quot;</td></tr><tr><td>&quot;SE&quot;</td><td>&quot;ES&quot;</td><td>&quot;POSTO MOTOCAP …</td><td>&quot;GASOLINA&quot;</td><td>2022-07-01</td><td>7.39</td><td>&quot;VIBRA ENERGIA&quot;</td></tr></tbody></table></div>"
      ],
      "text/plain": [
       "shape: (5, 7)\n",
       "┌────────────┬────────────┬─────────────────┬────────────┬────────────┬──────────┬─────────────────┐\n",
       "│ Regiao -   ┆ Estado -   ┆ Revenda         ┆ Produto    ┆ Data da    ┆ Valor de ┆ Bandeira        │\n",
       "│ Sigla      ┆ Sigla      ┆ ---             ┆ ---        ┆ Coleta     ┆ Venda    ┆ ---             │\n",
       "│ ---        ┆ ---        ┆ str             ┆ str        ┆ ---        ┆ ---      ┆ str             │\n",
       "│ str        ┆ str        ┆                 ┆            ┆ date       ┆ f64      ┆                 │\n",
       "╞════════════╪════════════╪═════════════════╪════════════╪════════════╪══════════╪═════════════════╡\n",
       "│ SE         ┆ ES         ┆ SAO FRANCISCO   ┆ GASOLINA   ┆ 2022-07-01 ┆ 7.48     ┆ VIBRA ENERGIA   │\n",
       "│            ┆            ┆ DE ASSIS        ┆ ADITIVADA  ┆            ┆          ┆                 │\n",
       "│            ┆            ┆ COMERCIO …      ┆            ┆            ┆          ┆                 │\n",
       "│ SE         ┆ ES         ┆ SAO FRANCISCO   ┆ GASOLINA   ┆ 2022-07-01 ┆ 7.38     ┆ VIBRA ENERGIA   │\n",
       "│            ┆            ┆ DE ASSIS        ┆            ┆            ┆          ┆                 │\n",
       "│            ┆            ┆ COMERCIO …      ┆            ┆            ┆          ┆                 │\n",
       "│ SE         ┆ ES         ┆ POSTO MOTOCAP   ┆ DIESEL S10 ┆ 2022-07-01 ┆ 7.69     ┆ VIBRA ENERGIA   │\n",
       "│            ┆            ┆ LTDA            ┆            ┆            ┆          ┆                 │\n",
       "│ SE         ┆ ES         ┆ POSTO MOTOCAP   ┆ ETANOL     ┆ 2022-07-01 ┆ 5.99     ┆ VIBRA ENERGIA   │\n",
       "│            ┆            ┆ LTDA            ┆            ┆            ┆          ┆                 │\n",
       "│ SE         ┆ ES         ┆ POSTO MOTOCAP   ┆ GASOLINA   ┆ 2022-07-01 ┆ 7.39     ┆ VIBRA ENERGIA   │\n",
       "│            ┆            ┆ LTDA            ┆            ┆            ┆          ┆                 │\n",
       "└────────────┴────────────┴─────────────────┴────────────┴────────────┴──────────┴─────────────────┘"
      ]
     },
     "execution_count": 6,
     "metadata": {},
     "output_type": "execute_result"
    }
   ],
   "source": [
    "df_temp = df.select([\"Regiao - Sigla\", \"Estado - Sigla\", \"Revenda\", \"Produto\", \"Data da Coleta\", \"Valor de Venda\", \"Bandeira\"])\n",
    "df_temp.head()"
   ]
  },
  {
   "cell_type": "code",
   "execution_count": 7,
   "metadata": {},
   "outputs": [
    {
     "data": {
      "text/html": [
       "<div><style>\n",
       ".dataframe > thead > tr > th,\n",
       ".dataframe > tbody > tr > td {\n",
       "  text-align: right;\n",
       "}\n",
       "</style>\n",
       "<small>shape: (5, 7)</small><table border=\"1\" class=\"dataframe\"><thead><tr><th>Regiao - Sigla</th><th>Estado - Sigla</th><th>Revenda</th><th>Produto</th><th>Data da Coleta</th><th>Valor de Venda</th><th>Bandeira</th></tr><tr><td>str</td><td>str</td><td>str</td><td>str</td><td>date</td><td>f64</td><td>str</td></tr></thead><tbody><tr><td>&quot;S&quot;</td><td>&quot;SC&quot;</td><td>&quot;POSTO DE COMBU…</td><td>&quot;GASOLINA&quot;</td><td>2022-12-30</td><td>5.04</td><td>&quot;MAXSUL&quot;</td></tr><tr><td>&quot;S&quot;</td><td>&quot;SC&quot;</td><td>&quot;POSTO DE COMBU…</td><td>&quot;DIESEL S10&quot;</td><td>2022-12-30</td><td>6.19</td><td>&quot;MAXSUL&quot;</td></tr><tr><td>&quot;S&quot;</td><td>&quot;SC&quot;</td><td>&quot;REDE DE POSTOS…</td><td>&quot;GASOLINA ADITI…</td><td>2022-12-30</td><td>5.31</td><td>&quot;VIBRA ENERGIA&quot;</td></tr><tr><td>&quot;S&quot;</td><td>&quot;SC&quot;</td><td>&quot;REDE DE POSTOS…</td><td>&quot;GASOLINA&quot;</td><td>2022-12-30</td><td>5.11</td><td>&quot;VIBRA ENERGIA&quot;</td></tr><tr><td>&quot;S&quot;</td><td>&quot;SC&quot;</td><td>&quot;FISCHER COMBUS…</td><td>&quot;GASOLINA&quot;</td><td>2022-12-30</td><td>5.09</td><td>&quot;IPIRANGA&quot;</td></tr></tbody></table></div>"
      ],
      "text/plain": [
       "shape: (5, 7)\n",
       "┌────────────┬────────────┬─────────────────┬────────────┬────────────┬──────────┬─────────────────┐\n",
       "│ Regiao -   ┆ Estado -   ┆ Revenda         ┆ Produto    ┆ Data da    ┆ Valor de ┆ Bandeira        │\n",
       "│ Sigla      ┆ Sigla      ┆ ---             ┆ ---        ┆ Coleta     ┆ Venda    ┆ ---             │\n",
       "│ ---        ┆ ---        ┆ str             ┆ str        ┆ ---        ┆ ---      ┆ str             │\n",
       "│ str        ┆ str        ┆                 ┆            ┆ date       ┆ f64      ┆                 │\n",
       "╞════════════╪════════════╪═════════════════╪════════════╪════════════╪══════════╪═════════════════╡\n",
       "│ S          ┆ SC         ┆ POSTO DE        ┆ GASOLINA   ┆ 2022-12-30 ┆ 5.04     ┆ MAXSUL          │\n",
       "│            ┆            ┆ COMBUSTIVEIS    ┆            ┆            ┆          ┆                 │\n",
       "│            ┆            ┆ MAX LTDA        ┆            ┆            ┆          ┆                 │\n",
       "│ S          ┆ SC         ┆ POSTO DE        ┆ DIESEL S10 ┆ 2022-12-30 ┆ 6.19     ┆ MAXSUL          │\n",
       "│            ┆            ┆ COMBUSTIVEIS    ┆            ┆            ┆          ┆                 │\n",
       "│            ┆            ┆ MAX LTDA        ┆            ┆            ┆          ┆                 │\n",
       "│ S          ┆ SC         ┆ REDE DE POSTOS  ┆ GASOLINA   ┆ 2022-12-30 ┆ 5.31     ┆ VIBRA ENERGIA   │\n",
       "│            ┆            ┆ R4 LTDA         ┆ ADITIVADA  ┆            ┆          ┆                 │\n",
       "│ S          ┆ SC         ┆ REDE DE POSTOS  ┆ GASOLINA   ┆ 2022-12-30 ┆ 5.11     ┆ VIBRA ENERGIA   │\n",
       "│            ┆            ┆ R4 LTDA         ┆            ┆            ┆          ┆                 │\n",
       "│ S          ┆ SC         ┆ FISCHER         ┆ GASOLINA   ┆ 2022-12-30 ┆ 5.09     ┆ IPIRANGA        │\n",
       "│            ┆            ┆ COMBUSTIVEL     ┆            ┆            ┆          ┆                 │\n",
       "│            ┆            ┆ EIRELI          ┆            ┆            ┆          ┆                 │\n",
       "└────────────┴────────────┴─────────────────┴────────────┴────────────┴──────────┴─────────────────┘"
      ]
     },
     "execution_count": 7,
     "metadata": {},
     "output_type": "execute_result"
    }
   ],
   "source": [
    "df_temp.tail()"
   ]
  },
  {
   "cell_type": "code",
   "execution_count": 8,
   "metadata": {},
   "outputs": [],
   "source": [
    "df_temp2 = df_temp.to_pandas()"
   ]
  },
  {
   "cell_type": "code",
   "execution_count": 9,
   "metadata": {},
   "outputs": [],
   "source": [
    "import matplotlib.pyplot as plt\n",
    "import seaborn as sns"
   ]
  },
  {
   "cell_type": "code",
   "execution_count": 10,
   "metadata": {},
   "outputs": [
    {
     "data": {
      "text/plain": [
       "5"
      ]
     },
     "execution_count": 10,
     "metadata": {},
     "output_type": "execute_result"
    }
   ],
   "source": [
    "len(df_temp2['Regiao - Sigla'].unique())"
   ]
  },
  {
   "cell_type": "code",
   "execution_count": 11,
   "metadata": {},
   "outputs": [
    {
     "data": {
      "text/plain": [
       "Regiao - Sigla\n",
       "SE    182865\n",
       "NE     71457\n",
       "S      65231\n",
       "CO     33552\n",
       "N      24973\n",
       "Name: count, dtype: int64"
      ]
     },
     "execution_count": 11,
     "metadata": {},
     "output_type": "execute_result"
    }
   ],
   "source": [
    "df_temp2['Regiao - Sigla'].value_counts()"
   ]
  },
  {
   "cell_type": "code",
   "execution_count": 12,
   "metadata": {},
   "outputs": [
    {
     "data": {
      "text/plain": [
       "Regiao - Sigla\n",
       "SE    0.483670\n",
       "NE    0.189001\n",
       "S     0.172533\n",
       "CO    0.088744\n",
       "N     0.066053\n",
       "Name: proportion, dtype: float64"
      ]
     },
     "execution_count": 12,
     "metadata": {},
     "output_type": "execute_result"
    }
   ],
   "source": [
    "df_temp2['Regiao - Sigla'].value_counts(normalize= True)"
   ]
  },
  {
   "cell_type": "code",
   "execution_count": 13,
   "metadata": {},
   "outputs": [
    {
     "data": {
      "text/plain": [
       "count    378078.000000\n",
       "mean          5.642364\n",
       "std           1.200443\n",
       "min           2.490000\n",
       "25%           4.850000\n",
       "50%           5.490000\n",
       "75%           6.650000\n",
       "max           9.650000\n",
       "Name: Valor de Venda, dtype: float64"
      ]
     },
     "execution_count": 13,
     "metadata": {},
     "output_type": "execute_result"
    }
   ],
   "source": [
    "df_temp2['Valor de Venda'].describe()"
   ]
  },
  {
   "cell_type": "code",
   "execution_count": 14,
   "metadata": {},
   "outputs": [
    {
     "data": {
      "text/plain": [
       "<Axes: ylabel='Valor de Venda'>"
      ]
     },
     "execution_count": 14,
     "metadata": {},
     "output_type": "execute_result"
    },
    {
     "data": {
      "image/png": "[encoded data removed]",
      "text/plain": [
       "<Figure size 640x480 with 1 Axes>"
      ]
     },
     "metadata": {},
     "output_type": "display_data"
    }
   ],
   "source": [
    "sns.boxplot(y=df_temp2['Valor de Venda'])"
   ]
  }
 ],
 "metadata": {
  "kernelspec": {
   "display_name": ".venv3_11",
   "language": "python",
   "name": "python3"
  },
  "language_info": {
   "codemirror_mode": {
    "name": "ipython",
    "version": 3
   },
   "file_extension": ".py",
   "mimetype": "text/x-python",
   "name": "python",
   "nbconvert_exporter": "python",
   "pygments_lexer": "ipython3",
   "version": "3.11.3"
  },
  "orig_nbformat": 4
 },
 "nbformat": 4,
 "nbformat_minor": 2
}
