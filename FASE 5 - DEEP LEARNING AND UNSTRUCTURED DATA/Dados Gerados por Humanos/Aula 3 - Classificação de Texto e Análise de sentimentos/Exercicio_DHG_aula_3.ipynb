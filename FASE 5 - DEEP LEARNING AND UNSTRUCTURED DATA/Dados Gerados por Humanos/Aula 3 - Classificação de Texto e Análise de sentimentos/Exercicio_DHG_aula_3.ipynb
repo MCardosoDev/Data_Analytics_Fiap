{
 "cells": [
  {
   "cell_type": "markdown",
   "id": "238a115d-f26e-46f3-b250-4f93649107b2",
   "metadata": {},
   "source": [
    "# Exercícios"
   ]
  },
  {
   "cell_type": "code",
   "execution_count": null,
   "id": "9c3cd6b9-caec-4dae-8f2a-828f136f3244",
   "metadata": {},
   "outputs": [],
   "source": [
    "import pandas as pd\n",
    "\n",
    "df = pd.read_csv(\"https://dados-ml-pln.s3.sa-east-1.amazonaws.com/tweets_classificados.csv\", encoding='utf-8')\n",
    "df.head()"
   ]
  },
  {
   "cell_type": "markdown",
   "id": "16438df8-d978-4680-8049-70093533fd0e",
   "metadata": {},
   "source": [
    "## ToDo 1\n",
    "\n",
    "Altere as funções de tratamento de texto apresentadas em sala para que elas façam a remoção de links também. \n",
    "\n",
    "Crie uma nova coluna chamada texto_tratado que conterá o resultado da aplicação das funções. "
   ]
  },
  {
   "cell_type": "code",
   "execution_count": null,
   "id": "c09d7e0e-4d25-4d51-83a4-c509b89ac1a7",
   "metadata": {},
   "outputs": [],
   "source": [
    "# resposta"
   ]
  },
  {
   "cell_type": "markdown",
   "id": "9c91a5c5-c909-4af7-8b9e-3a6e224f0d23",
   "metadata": {},
   "source": [
    "## ToDo 2\n",
    "\n",
    "Ao fazer a remoção de links, percebemos que algumas linhas da coluna texto_tratado possuem valores faltantes. Entretanto, o Python trata eles como ''(str) e nao como Null. Assim, um simples dropna nao resolve o problema. \n",
    "\n",
    "Encontre uma forma de remover tais elementos. Dica: use o índice das linhas cujos elementos da coluna texto_tratado seja nulo. "
   ]
  },
  {
   "cell_type": "code",
   "execution_count": null,
   "id": "9297ec43-a5ac-4f48-b3cb-284b5b8a8ad8",
   "metadata": {},
   "outputs": [],
   "source": [
    "#resposta"
   ]
  },
  {
   "cell_type": "markdown",
   "id": "9657c5a9-de70-4500-b2ef-b28065659888",
   "metadata": {},
   "source": [
    "## ToDo 3\n",
    "\n",
    "Separe a coluna texto_tratado em conjunto de treino e teste na proporção 70/30"
   ]
  },
  {
   "cell_type": "code",
   "execution_count": null,
   "id": "7e9a01f6-af94-4b98-9091-94b08ccc48f6",
   "metadata": {},
   "outputs": [],
   "source": [
    "# resposta"
   ]
  },
  {
   "cell_type": "markdown",
   "id": "b7434514-3e94-4d8d-abd3-f711bbada875",
   "metadata": {},
   "source": [
    "## ToDo 4\n",
    "\n",
    "Transforme os dados para criar a representação numérica dos textos. Use uma versão com CountVectorizer e outra com TFIDFVectorizer"
   ]
  },
  {
   "cell_type": "code",
   "execution_count": null,
   "id": "64278ca9-3618-4002-a4d5-8b95803c70ec",
   "metadata": {},
   "outputs": [],
   "source": [
    "# resposta - CountVectorizer"
   ]
  },
  {
   "cell_type": "code",
   "execution_count": null,
   "id": "9017f885-b3cb-4cfa-88f7-5dc7f52bd668",
   "metadata": {},
   "outputs": [],
   "source": [
    "# resposta - TFIDFVectorizer"
   ]
  },
  {
   "cell_type": "markdown",
   "id": "fabfb366-1e15-433a-a6e6-00ebe3f0844f",
   "metadata": {},
   "source": [
    "## ToDo 5\n",
    "\n",
    "Treine uma árvore de decisão nas duas abordagens e compare seus resultados"
   ]
  },
  {
   "cell_type": "code",
   "execution_count": null,
   "id": "0925a9b3-ffd2-40cf-86ca-5a75c02ecd9b",
   "metadata": {},
   "outputs": [],
   "source": [
    "# resposta - CountVecorizer"
   ]
  },
  {
   "cell_type": "code",
   "execution_count": null,
   "id": "12ea2e86-2685-426b-aad2-b58a75b9000f",
   "metadata": {},
   "outputs": [],
   "source": [
    "# resposta - TFIDFVectorizer"
   ]
  },
  {
   "cell_type": "markdown",
   "id": "ad7c2477-5e10-4d3a-a5e7-477812b5629f",
   "metadata": {},
   "source": [
    "## ToDo 6\n",
    "Crie uma função que lematiza as palavras da coluna texto_tratado apenas se elas forem um verbo. Depois, crie uma nova coluna chamada texto_tratado_lemma que conterá o resultado da aplicação da função na coluna texto_tratado. \n",
    "\n",
    "Dica: use o Corpus pt_core_news_sm como referência para determinar a classe gramatical da palavra"
   ]
  },
  {
   "cell_type": "code",
   "execution_count": null,
   "id": "dec1f603-2481-47bd-b4e1-95dc5bba803d",
   "metadata": {},
   "outputs": [],
   "source": [
    "# resposta"
   ]
  },
  {
   "cell_type": "markdown",
   "id": "492f00ad-56d7-40d4-857b-1156c6f77bc3",
   "metadata": {},
   "source": [
    "## ToDo 7\n",
    "\n",
    "repita os ToDo 3, ToDo 4 e ToDo 5, usando como feature a coluna texto_tratado_lemma, e veja se os resultados tiveram melhora."
   ]
  },
  {
   "cell_type": "code",
   "execution_count": null,
   "id": "e43f8ffe-358f-40a1-bed4-4470910c657d",
   "metadata": {},
   "outputs": [],
   "source": [
    "# resposta"
   ]
  }
 ],
 "metadata": {
  "kernelspec": {
   "display_name": "Python 3 (ipykernel)",
   "language": "python",
   "name": "python3"
  },
  "language_info": {
   "codemirror_mode": {
    "name": "ipython",
    "version": 3
   },
   "file_extension": ".py",
   "mimetype": "text/x-python",
   "name": "python",
   "nbconvert_exporter": "python",
   "pygments_lexer": "ipython3",
   "version": "3.10.9"
  }
 },
 "nbformat": 4,
 "nbformat_minor": 5
}
