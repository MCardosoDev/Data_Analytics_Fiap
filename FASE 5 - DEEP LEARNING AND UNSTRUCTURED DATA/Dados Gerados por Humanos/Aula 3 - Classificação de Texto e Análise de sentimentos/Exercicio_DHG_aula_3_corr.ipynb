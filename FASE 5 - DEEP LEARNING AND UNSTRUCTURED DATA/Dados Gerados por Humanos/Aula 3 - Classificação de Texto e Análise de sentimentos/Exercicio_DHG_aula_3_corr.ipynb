{
 "cells": [
  {
   "cell_type": "markdown",
   "id": "238a115d-f26e-46f3-b250-4f93649107b2",
   "metadata": {},
   "source": [
    "# Exercícios"
   ]
  },
  {
   "cell_type": "code",
   "execution_count": 1,
   "id": "9c3cd6b9-caec-4dae-8f2a-828f136f3244",
   "metadata": {},
   "outputs": [
    {
     "data": {
      "text/html": [
       "<div>\n",
       "<style scoped>\n",
       "    .dataframe tbody tr th:only-of-type {\n",
       "        vertical-align: middle;\n",
       "    }\n",
       "\n",
       "    .dataframe tbody tr th {\n",
       "        vertical-align: top;\n",
       "    }\n",
       "\n",
       "    .dataframe thead th {\n",
       "        text-align: right;\n",
       "    }\n",
       "</style>\n",
       "<table border=\"1\" class=\"dataframe\">\n",
       "  <thead>\n",
       "    <tr style=\"text-align: right;\">\n",
       "      <th></th>\n",
       "      <th>id</th>\n",
       "      <th>data_tweet</th>\n",
       "      <th>texto</th>\n",
       "      <th>sentimento</th>\n",
       "    </tr>\n",
       "  </thead>\n",
       "  <tbody>\n",
       "    <tr>\n",
       "      <th>0</th>\n",
       "      <td>0</td>\n",
       "      <td>Sun Jan 08 01:22:05 +0000 2017</td>\n",
       "      <td>���⛪ @ Catedral de Santo Antônio - Governador ...</td>\n",
       "      <td>Neutro</td>\n",
       "    </tr>\n",
       "    <tr>\n",
       "      <th>1</th>\n",
       "      <td>1</td>\n",
       "      <td>Sun Jan 08 01:49:01 +0000 2017</td>\n",
       "      <td>� @ Governador Valadares, Minas Gerais https:/...</td>\n",
       "      <td>Neutro</td>\n",
       "    </tr>\n",
       "    <tr>\n",
       "      <th>2</th>\n",
       "      <td>2</td>\n",
       "      <td>Sun Jan 08 01:01:46 +0000 2017</td>\n",
       "      <td>�� @ Governador Valadares, Minas Gerais https:...</td>\n",
       "      <td>Neutro</td>\n",
       "    </tr>\n",
       "    <tr>\n",
       "      <th>3</th>\n",
       "      <td>3</td>\n",
       "      <td>Wed Jan 04 21:43:51 +0000 2017</td>\n",
       "      <td>��� https://t.co/BnDsO34qK0</td>\n",
       "      <td>Neutro</td>\n",
       "    </tr>\n",
       "    <tr>\n",
       "      <th>4</th>\n",
       "      <td>4</td>\n",
       "      <td>Mon Jan 09 15:08:21 +0000 2017</td>\n",
       "      <td>��� PSOL vai questionar aumento de vereadores ...</td>\n",
       "      <td>Negativo</td>\n",
       "    </tr>\n",
       "  </tbody>\n",
       "</table>\n",
       "</div>"
      ],
      "text/plain": [
       "   id                      data_tweet  \\\n",
       "0   0  Sun Jan 08 01:22:05 +0000 2017   \n",
       "1   1  Sun Jan 08 01:49:01 +0000 2017   \n",
       "2   2  Sun Jan 08 01:01:46 +0000 2017   \n",
       "3   3  Wed Jan 04 21:43:51 +0000 2017   \n",
       "4   4  Mon Jan 09 15:08:21 +0000 2017   \n",
       "\n",
       "                                               texto sentimento  \n",
       "0  ���⛪ @ Catedral de Santo Antônio - Governador ...     Neutro  \n",
       "1  � @ Governador Valadares, Minas Gerais https:/...     Neutro  \n",
       "2  �� @ Governador Valadares, Minas Gerais https:...     Neutro  \n",
       "3                        ��� https://t.co/BnDsO34qK0     Neutro  \n",
       "4  ��� PSOL vai questionar aumento de vereadores ...   Negativo  "
      ]
     },
     "execution_count": 1,
     "metadata": {},
     "output_type": "execute_result"
    }
   ],
   "source": [
    "import pandas as pd\n",
    "\n",
    "df = pd.read_csv(\"https://dados-ml-pln.s3.sa-east-1.amazonaws.com/tweets_classificados.csv\", encoding='utf-8')\n",
    "df.head()"
   ]
  },
  {
   "cell_type": "code",
   "execution_count": 2,
   "id": "f1e66d0b-0d0c-4345-800b-994cf9ffc9ea",
   "metadata": {},
   "outputs": [
    {
     "data": {
      "text/plain": [
       "array(['Neutro', 'Negativo', 'Positivo'], dtype=object)"
      ]
     },
     "execution_count": 2,
     "metadata": {},
     "output_type": "execute_result"
    }
   ],
   "source": [
    "df['sentimento'].unique()"
   ]
  },
  {
   "cell_type": "markdown",
   "id": "16438df8-d978-4680-8049-70093533fd0e",
   "metadata": {},
   "source": [
    "## ToDo 1\n",
    "\n",
    "Altere as funções de tratamento de texto apresentadas em sala para que elas façam a remoção de links também. \n",
    "\n",
    "Crie uma nova coluna chamada texto_tratado que conterá o resultado da aplicação das funções. "
   ]
  },
  {
   "cell_type": "code",
   "execution_count": 8,
   "id": "c09d7e0e-4d25-4d51-83a4-c509b89ac1a7",
   "metadata": {},
   "outputs": [],
   "source": [
    "# resposta\n",
    "import nltk\n",
    "import re\n",
    "import string\n",
    "import unicodedata\n",
    "\n",
    "from nltk.tokenize import word_tokenize\n",
    "from nltk.corpus import stopwords\n",
    "    \n",
    "        \n",
    "def normalize_accents(text):\n",
    "    return unicodedata.normalize(\"NFKD\", text).encode(\"ASCII\", \"ignore\").decode(\"utf-8\")\n",
    "\n",
    "def normalize_str(text):\n",
    "    text = text.lower()\n",
    "    text = re.sub(\"(https?:\\/\\/)?([\\da-z\\.-]+)\\.([a-z\\.]{2,6})([\\/\\w \\.-]*)\", \" \",text) #remove links\n",
    "    text = remove_punctuation(text)\n",
    "    text = normalize_accents(text)\n",
    "    text = re.sub(re.compile(r\" +\"), \" \",text)\n",
    "    return \" \".join([w for w in text.split()])\n",
    "\n",
    "def remove_punctuation(text):\n",
    "    punctuations = string.punctuation\n",
    "    table = str.maketrans({key: \" \" for key in punctuations})\n",
    "    text = text.translate(table)\n",
    "    return text\n",
    "\n",
    "\n",
    "def tokenizer(text):\n",
    "    stop_words = nltk.corpus.stopwords.words(\"english\") # portuguese, caso o dataset seja em português\n",
    "    if isinstance(text, str):\n",
    "        text = normalize_str(text)\n",
    "        text = \"\".join([w for w in text if not w.isdigit()])\n",
    "        text = word_tokenize(text)\n",
    "        text = [x for x in text if x not in stop_words]\n",
    "        text = [y for y in text if len(y) > 2]\n",
    "        return \" \".join([t for t in text])\n",
    "    else:\n",
    "        return None\n"
   ]
  },
  {
   "cell_type": "code",
   "execution_count": 9,
   "id": "bdd995a8-7b9d-4dee-83a0-d79ea798be92",
   "metadata": {},
   "outputs": [],
   "source": [
    "df['texto_tratado'] = df['texto'].apply(tokenizer)"
   ]
  },
  {
   "cell_type": "code",
   "execution_count": 10,
   "id": "4a285105-f7b9-4780-900b-8edd6595fa39",
   "metadata": {},
   "outputs": [
    {
     "data": {
      "text/html": [
       "<div>\n",
       "<style scoped>\n",
       "    .dataframe tbody tr th:only-of-type {\n",
       "        vertical-align: middle;\n",
       "    }\n",
       "\n",
       "    .dataframe tbody tr th {\n",
       "        vertical-align: top;\n",
       "    }\n",
       "\n",
       "    .dataframe thead th {\n",
       "        text-align: right;\n",
       "    }\n",
       "</style>\n",
       "<table border=\"1\" class=\"dataframe\">\n",
       "  <thead>\n",
       "    <tr style=\"text-align: right;\">\n",
       "      <th></th>\n",
       "      <th>id</th>\n",
       "      <th>data_tweet</th>\n",
       "      <th>texto</th>\n",
       "      <th>sentimento</th>\n",
       "      <th>texto_tratado</th>\n",
       "    </tr>\n",
       "  </thead>\n",
       "  <tbody>\n",
       "    <tr>\n",
       "      <th>0</th>\n",
       "      <td>0</td>\n",
       "      <td>Sun Jan 08 01:22:05 +0000 2017</td>\n",
       "      <td>���⛪ @ Catedral de Santo Antônio - Governador ...</td>\n",
       "      <td>Neutro</td>\n",
       "      <td>catedral santo antonio governador valadares</td>\n",
       "    </tr>\n",
       "    <tr>\n",
       "      <th>1</th>\n",
       "      <td>1</td>\n",
       "      <td>Sun Jan 08 01:49:01 +0000 2017</td>\n",
       "      <td>� @ Governador Valadares, Minas Gerais https:/...</td>\n",
       "      <td>Neutro</td>\n",
       "      <td>governador valadares minas gerais</td>\n",
       "    </tr>\n",
       "    <tr>\n",
       "      <th>2</th>\n",
       "      <td>2</td>\n",
       "      <td>Sun Jan 08 01:01:46 +0000 2017</td>\n",
       "      <td>�� @ Governador Valadares, Minas Gerais https:...</td>\n",
       "      <td>Neutro</td>\n",
       "      <td>governador valadares minas gerais</td>\n",
       "    </tr>\n",
       "    <tr>\n",
       "      <th>3</th>\n",
       "      <td>3</td>\n",
       "      <td>Wed Jan 04 21:43:51 +0000 2017</td>\n",
       "      <td>��� https://t.co/BnDsO34qK0</td>\n",
       "      <td>Neutro</td>\n",
       "      <td></td>\n",
       "    </tr>\n",
       "    <tr>\n",
       "      <th>4</th>\n",
       "      <td>4</td>\n",
       "      <td>Mon Jan 09 15:08:21 +0000 2017</td>\n",
       "      <td>��� PSOL vai questionar aumento de vereadores ...</td>\n",
       "      <td>Negativo</td>\n",
       "      <td>psol vai questionar aumento vereadores prefeit...</td>\n",
       "    </tr>\n",
       "  </tbody>\n",
       "</table>\n",
       "</div>"
      ],
      "text/plain": [
       "   id                      data_tweet  \\\n",
       "0   0  Sun Jan 08 01:22:05 +0000 2017   \n",
       "1   1  Sun Jan 08 01:49:01 +0000 2017   \n",
       "2   2  Sun Jan 08 01:01:46 +0000 2017   \n",
       "3   3  Wed Jan 04 21:43:51 +0000 2017   \n",
       "4   4  Mon Jan 09 15:08:21 +0000 2017   \n",
       "\n",
       "                                               texto sentimento  \\\n",
       "0  ���⛪ @ Catedral de Santo Antônio - Governador ...     Neutro   \n",
       "1  � @ Governador Valadares, Minas Gerais https:/...     Neutro   \n",
       "2  �� @ Governador Valadares, Minas Gerais https:...     Neutro   \n",
       "3                        ��� https://t.co/BnDsO34qK0     Neutro   \n",
       "4  ��� PSOL vai questionar aumento de vereadores ...   Negativo   \n",
       "\n",
       "                                       texto_tratado  \n",
       "0        catedral santo antonio governador valadares  \n",
       "1                  governador valadares minas gerais  \n",
       "2                  governador valadares minas gerais  \n",
       "3                                                     \n",
       "4  psol vai questionar aumento vereadores prefeit...  "
      ]
     },
     "execution_count": 10,
     "metadata": {},
     "output_type": "execute_result"
    }
   ],
   "source": [
    "df.head()"
   ]
  },
  {
   "cell_type": "markdown",
   "id": "9c91a5c5-c909-4af7-8b9e-3a6e224f0d23",
   "metadata": {},
   "source": [
    "## ToDo 2\n",
    "\n",
    "Ao fazer a remoção de links, percebemos que algumas linhas da coluna texto_tratado possuem valores faltantes. Entretanto, o Python trata eles como ''(str) e nao como Null. Assim, um simples dropna nao resolve o problema. \n",
    "\n",
    "Encontre uma forma de remover tais elementos. Dica: use o índice das linhas cujos elementos da coluna texto_tratado seja nulo. "
   ]
  },
  {
   "cell_type": "code",
   "execution_count": 29,
   "id": "9297ec43-a5ac-4f48-b3cb-284b5b8a8ad8",
   "metadata": {},
   "outputs": [
    {
     "name": "stderr",
     "output_type": "stream",
     "text": [
      "/opt/anaconda3/lib/python3.9/site-packages/pandas/core/indexes/base.py:5055: FutureWarning: Using a non-tuple sequence for multidimensional indexing is deprecated; use `arr[tuple(seq)]` instead of `arr[seq]`. In the future this will be interpreted as an array index, `arr[np.array(seq)]`, which will result either in an error or a different result.\n",
      "  result = getitem(key)\n"
     ]
    },
    {
     "data": {
      "text/html": [
       "<div>\n",
       "<style scoped>\n",
       "    .dataframe tbody tr th:only-of-type {\n",
       "        vertical-align: middle;\n",
       "    }\n",
       "\n",
       "    .dataframe tbody tr th {\n",
       "        vertical-align: top;\n",
       "    }\n",
       "\n",
       "    .dataframe thead th {\n",
       "        text-align: right;\n",
       "    }\n",
       "</style>\n",
       "<table border=\"1\" class=\"dataframe\">\n",
       "  <thead>\n",
       "    <tr style=\"text-align: right;\">\n",
       "      <th></th>\n",
       "      <th>index</th>\n",
       "      <th>id</th>\n",
       "      <th>data_tweet</th>\n",
       "      <th>texto</th>\n",
       "      <th>sentimento</th>\n",
       "      <th>texto_tratado</th>\n",
       "    </tr>\n",
       "  </thead>\n",
       "  <tbody>\n",
       "    <tr>\n",
       "      <th>0</th>\n",
       "      <td>0</td>\n",
       "      <td>0</td>\n",
       "      <td>Sun Jan 08 01:22:05 +0000 2017</td>\n",
       "      <td>���⛪ @ Catedral de Santo Antônio - Governador ...</td>\n",
       "      <td>Neutro</td>\n",
       "      <td>catedral santo antonio governador valadares</td>\n",
       "    </tr>\n",
       "    <tr>\n",
       "      <th>1</th>\n",
       "      <td>1</td>\n",
       "      <td>1</td>\n",
       "      <td>Sun Jan 08 01:49:01 +0000 2017</td>\n",
       "      <td>� @ Governador Valadares, Minas Gerais https:/...</td>\n",
       "      <td>Neutro</td>\n",
       "      <td>governador valadares minas gerais</td>\n",
       "    </tr>\n",
       "    <tr>\n",
       "      <th>2</th>\n",
       "      <td>2</td>\n",
       "      <td>2</td>\n",
       "      <td>Sun Jan 08 01:01:46 +0000 2017</td>\n",
       "      <td>�� @ Governador Valadares, Minas Gerais https:...</td>\n",
       "      <td>Neutro</td>\n",
       "      <td>governador valadares minas gerais</td>\n",
       "    </tr>\n",
       "    <tr>\n",
       "      <th>3</th>\n",
       "      <td>4</td>\n",
       "      <td>4</td>\n",
       "      <td>Mon Jan 09 15:08:21 +0000 2017</td>\n",
       "      <td>��� PSOL vai questionar aumento de vereadores ...</td>\n",
       "      <td>Negativo</td>\n",
       "      <td>psol vai questionar aumento vereadores prefeit...</td>\n",
       "    </tr>\n",
       "    <tr>\n",
       "      <th>4</th>\n",
       "      <td>5</td>\n",
       "      <td>5</td>\n",
       "      <td>Sat Jan 07 13:47:55 +0000 2017</td>\n",
       "      <td>\" bom é bandido morto\"\\nDeputado Cabo Júlio é ...</td>\n",
       "      <td>Neutro</td>\n",
       "      <td>bom bandido morto deputado cabo julio condenad...</td>\n",
       "    </tr>\n",
       "  </tbody>\n",
       "</table>\n",
       "</div>"
      ],
      "text/plain": [
       "   index  id                      data_tweet  \\\n",
       "0      0   0  Sun Jan 08 01:22:05 +0000 2017   \n",
       "1      1   1  Sun Jan 08 01:49:01 +0000 2017   \n",
       "2      2   2  Sun Jan 08 01:01:46 +0000 2017   \n",
       "3      4   4  Mon Jan 09 15:08:21 +0000 2017   \n",
       "4      5   5  Sat Jan 07 13:47:55 +0000 2017   \n",
       "\n",
       "                                               texto sentimento  \\\n",
       "0  ���⛪ @ Catedral de Santo Antônio - Governador ...     Neutro   \n",
       "1  � @ Governador Valadares, Minas Gerais https:/...     Neutro   \n",
       "2  �� @ Governador Valadares, Minas Gerais https:...     Neutro   \n",
       "3  ��� PSOL vai questionar aumento de vereadores ...   Negativo   \n",
       "4  \" bom é bandido morto\"\\nDeputado Cabo Júlio é ...     Neutro   \n",
       "\n",
       "                                       texto_tratado  \n",
       "0        catedral santo antonio governador valadares  \n",
       "1                  governador valadares minas gerais  \n",
       "2                  governador valadares minas gerais  \n",
       "3  psol vai questionar aumento vereadores prefeit...  \n",
       "4  bom bandido morto deputado cabo julio condenad...  "
      ]
     },
     "execution_count": 29,
     "metadata": {},
     "output_type": "execute_result"
    }
   ],
   "source": [
    "#resposta\n",
    "df = df.drop(df.index[[list(np.where(df['texto_tratado']==''))[0]]]).reset_index()\n",
    "df.head()"
   ]
  },
  {
   "cell_type": "markdown",
   "id": "9657c5a9-de70-4500-b2ef-b28065659888",
   "metadata": {},
   "source": [
    "## ToDo 3\n",
    "\n",
    "Separe a coluna texto_tratado em conjunto de treino e teste na proporção 70/30"
   ]
  },
  {
   "cell_type": "code",
   "execution_count": 30,
   "id": "7e9a01f6-af94-4b98-9091-94b08ccc48f6",
   "metadata": {},
   "outputs": [],
   "source": [
    "from sklearn.model_selection import train_test_split\n",
    "\n",
    "# divide o dataframe em amostras de treino e teste\n",
    "df_train, df_test = train_test_split(\n",
    "      df, \n",
    "      test_size = 0.3, \n",
    "      random_state = 42\n",
    "  )"
   ]
  },
  {
   "cell_type": "markdown",
   "id": "b7434514-3e94-4d8d-abd3-f711bbada875",
   "metadata": {},
   "source": [
    "## ToDo 4\n",
    "\n",
    "Transforme os dados para criar a representação numérica dos textos. Use uma versão com CountVectorizer e outra com TFIDFVectorizer"
   ]
  },
  {
   "cell_type": "code",
   "execution_count": 33,
   "id": "64278ca9-3618-4002-a4d5-8b95803c70ec",
   "metadata": {},
   "outputs": [],
   "source": [
    "# resposta - CountVectorizer\n",
    "from sklearn.feature_extraction.text import CountVectorizer\n",
    "\n",
    "cv = CountVectorizer(ngram_range=(1,2))   \n",
    "cv.fit(df_train.texto_tratado)\n",
    "x_train_cv = cv.transform(df_train.texto_tratado)"
   ]
  },
  {
   "cell_type": "code",
   "execution_count": 34,
   "id": "9017f885-b3cb-4cfa-88f7-5dc7f52bd668",
   "metadata": {},
   "outputs": [],
   "source": [
    "# resposta - TFIDFVectorizer\n",
    "from sklearn.feature_extraction.text import TfidfVectorizer\n",
    "\n",
    "tfidf = TfidfVectorizer(ngram_range=(1,1))   \n",
    "tfidf.fit(df_train.texto_tratado)\n",
    "x_train_tf = tfidf.transform(df_train.texto_tratado)"
   ]
  },
  {
   "cell_type": "markdown",
   "id": "fabfb366-1e15-433a-a6e6-00ebe3f0844f",
   "metadata": {},
   "source": [
    "## ToDo 5\n",
    "\n",
    "Treine uma árvore de decisão nas duas abordagens e compare seus resultados"
   ]
  },
  {
   "cell_type": "code",
   "execution_count": 35,
   "id": "0925a9b3-ffd2-40cf-86ca-5a75c02ecd9b",
   "metadata": {},
   "outputs": [
    {
     "name": "stdout",
     "output_type": "stream",
     "text": [
      "0.9247685185185185\n"
     ]
    }
   ],
   "source": [
    "# resposta - CountVecorizer\n",
    "from sklearn.tree import DecisionTreeClassifier\n",
    "from sklearn.metrics import accuracy_score\n",
    "\n",
    "y_train = df_train[\"sentimento\"]\n",
    "tree = DecisionTreeClassifier(random_state=42)\n",
    "tree.fit(x_train_cv, y_train)\n",
    "\n",
    "x_test = cv.transform(df_test.texto_tratado)\n",
    "y_prediction = tree.predict(x_test)\n",
    "\n",
    "y_test = df_test[\"sentimento\"]\n",
    "accuracy = accuracy_score(y_prediction, y_test)\n",
    "print(accuracy)"
   ]
  },
  {
   "cell_type": "code",
   "execution_count": 36,
   "id": "12ea2e86-2685-426b-aad2-b58a75b9000f",
   "metadata": {},
   "outputs": [
    {
     "name": "stdout",
     "output_type": "stream",
     "text": [
      "0.9085648148148148\n"
     ]
    }
   ],
   "source": [
    "# resposta - TFIDFVectorizer\n",
    "from sklearn.tree import DecisionTreeClassifier\n",
    "from sklearn.metrics import accuracy_score\n",
    "\n",
    "y_train = df_train[\"sentimento\"]\n",
    "tree = DecisionTreeClassifier(random_state=42)\n",
    "tree.fit(x_train_tf, y_train)\n",
    "\n",
    "x_test = tfidf.transform(df_test.texto_tratado)\n",
    "y_prediction = tree.predict(x_test)\n",
    "\n",
    "y_test = df_test[\"sentimento\"]\n",
    "accuracy = accuracy_score(y_prediction, y_test)\n",
    "print(accuracy)"
   ]
  },
  {
   "cell_type": "markdown",
   "id": "ad7c2477-5e10-4d3a-a5e7-477812b5629f",
   "metadata": {},
   "source": [
    "## ToDo 6\n",
    "Crie uma função que lematiza as palavras da coluna texto_tratado apenas se elas forem um verbo. Depois, crie uma nova coluna chamada texto_tratado_lemma que conterá o resultado da aplicação da função na coluna texto_tratado. \n",
    "\n",
    "Dica: use o Corpus pt_core_news_sm como referência para determinar a classe gramatical da palavra"
   ]
  },
  {
   "cell_type": "code",
   "execution_count": 39,
   "id": "dec1f603-2481-47bd-b4e1-95dc5bba803d",
   "metadata": {},
   "outputs": [],
   "source": [
    "# resposta\n",
    "import spacy\n",
    "nlp = spacy.load('pt_core_news_sm')\n",
    "def lemmatizer_verbs(text):\n",
    "    sent = []\n",
    "    doc = nlp(text)\n",
    "    for word in doc:\n",
    "        if word.pos_ == \"VERB\":\n",
    "            sent.append(word.lemma_)\n",
    "        else:\n",
    "            sent.append(word.text)\n",
    "    return \" \".join(sent)"
   ]
  },
  {
   "cell_type": "code",
   "execution_count": 40,
   "id": "73cc4123-aa39-4d2f-bd34-2afdbe9a2605",
   "metadata": {},
   "outputs": [],
   "source": [
    "df['texto_tratado_lemma'] = df.texto_tratado.apply(lemmatizer_verbs)"
   ]
  },
  {
   "cell_type": "code",
   "execution_count": 41,
   "id": "c7e41c2e-e1ea-4573-a28b-31e1a3a4008a",
   "metadata": {},
   "outputs": [
    {
     "data": {
      "text/html": [
       "<div>\n",
       "<style scoped>\n",
       "    .dataframe tbody tr th:only-of-type {\n",
       "        vertical-align: middle;\n",
       "    }\n",
       "\n",
       "    .dataframe tbody tr th {\n",
       "        vertical-align: top;\n",
       "    }\n",
       "\n",
       "    .dataframe thead th {\n",
       "        text-align: right;\n",
       "    }\n",
       "</style>\n",
       "<table border=\"1\" class=\"dataframe\">\n",
       "  <thead>\n",
       "    <tr style=\"text-align: right;\">\n",
       "      <th></th>\n",
       "      <th>index</th>\n",
       "      <th>id</th>\n",
       "      <th>data_tweet</th>\n",
       "      <th>texto</th>\n",
       "      <th>sentimento</th>\n",
       "      <th>texto_tratado</th>\n",
       "      <th>texto_tratado_lemma</th>\n",
       "    </tr>\n",
       "  </thead>\n",
       "  <tbody>\n",
       "    <tr>\n",
       "      <th>0</th>\n",
       "      <td>0</td>\n",
       "      <td>0</td>\n",
       "      <td>Sun Jan 08 01:22:05 +0000 2017</td>\n",
       "      <td>���⛪ @ Catedral de Santo Antônio - Governador ...</td>\n",
       "      <td>Neutro</td>\n",
       "      <td>catedral santo antonio governador valadares</td>\n",
       "      <td>catedral santo antonio governador valadares</td>\n",
       "    </tr>\n",
       "    <tr>\n",
       "      <th>1</th>\n",
       "      <td>1</td>\n",
       "      <td>1</td>\n",
       "      <td>Sun Jan 08 01:49:01 +0000 2017</td>\n",
       "      <td>� @ Governador Valadares, Minas Gerais https:/...</td>\n",
       "      <td>Neutro</td>\n",
       "      <td>governador valadares minas gerais</td>\n",
       "      <td>governador valadar minas gerais</td>\n",
       "    </tr>\n",
       "    <tr>\n",
       "      <th>2</th>\n",
       "      <td>2</td>\n",
       "      <td>2</td>\n",
       "      <td>Sun Jan 08 01:01:46 +0000 2017</td>\n",
       "      <td>�� @ Governador Valadares, Minas Gerais https:...</td>\n",
       "      <td>Neutro</td>\n",
       "      <td>governador valadares minas gerais</td>\n",
       "      <td>governador valadar minas gerais</td>\n",
       "    </tr>\n",
       "    <tr>\n",
       "      <th>3</th>\n",
       "      <td>4</td>\n",
       "      <td>4</td>\n",
       "      <td>Mon Jan 09 15:08:21 +0000 2017</td>\n",
       "      <td>��� PSOL vai questionar aumento de vereadores ...</td>\n",
       "      <td>Negativo</td>\n",
       "      <td>psol vai questionar aumento vereadores prefeit...</td>\n",
       "      <td>psol vai questionar aumento vereadores prefeit...</td>\n",
       "    </tr>\n",
       "    <tr>\n",
       "      <th>4</th>\n",
       "      <td>5</td>\n",
       "      <td>5</td>\n",
       "      <td>Sat Jan 07 13:47:55 +0000 2017</td>\n",
       "      <td>\" bom é bandido morto\"\\nDeputado Cabo Júlio é ...</td>\n",
       "      <td>Neutro</td>\n",
       "      <td>bom bandido morto deputado cabo julio condenad...</td>\n",
       "      <td>bom bandido morrer deputado cabo julio condena...</td>\n",
       "    </tr>\n",
       "  </tbody>\n",
       "</table>\n",
       "</div>"
      ],
      "text/plain": [
       "   index  id                      data_tweet  \\\n",
       "0      0   0  Sun Jan 08 01:22:05 +0000 2017   \n",
       "1      1   1  Sun Jan 08 01:49:01 +0000 2017   \n",
       "2      2   2  Sun Jan 08 01:01:46 +0000 2017   \n",
       "3      4   4  Mon Jan 09 15:08:21 +0000 2017   \n",
       "4      5   5  Sat Jan 07 13:47:55 +0000 2017   \n",
       "\n",
       "                                               texto sentimento  \\\n",
       "0  ���⛪ @ Catedral de Santo Antônio - Governador ...     Neutro   \n",
       "1  � @ Governador Valadares, Minas Gerais https:/...     Neutro   \n",
       "2  �� @ Governador Valadares, Minas Gerais https:...     Neutro   \n",
       "3  ��� PSOL vai questionar aumento de vereadores ...   Negativo   \n",
       "4  \" bom é bandido morto\"\\nDeputado Cabo Júlio é ...     Neutro   \n",
       "\n",
       "                                       texto_tratado  \\\n",
       "0        catedral santo antonio governador valadares   \n",
       "1                  governador valadares minas gerais   \n",
       "2                  governador valadares minas gerais   \n",
       "3  psol vai questionar aumento vereadores prefeit...   \n",
       "4  bom bandido morto deputado cabo julio condenad...   \n",
       "\n",
       "                                 texto_tratado_lemma  \n",
       "0        catedral santo antonio governador valadares  \n",
       "1                    governador valadar minas gerais  \n",
       "2                    governador valadar minas gerais  \n",
       "3  psol vai questionar aumento vereadores prefeit...  \n",
       "4  bom bandido morrer deputado cabo julio condena...  "
      ]
     },
     "execution_count": 41,
     "metadata": {},
     "output_type": "execute_result"
    }
   ],
   "source": [
    "df.head()"
   ]
  },
  {
   "cell_type": "markdown",
   "id": "492f00ad-56d7-40d4-857b-1156c6f77bc3",
   "metadata": {},
   "source": [
    "## ToDo 7\n",
    "\n",
    "repita os ToDo 3, ToDo 4 e ToDo 5, usando como feature a coluna texto_tratado_lemma, e veja se os resultados tiveram melhora."
   ]
  },
  {
   "cell_type": "code",
   "execution_count": 43,
   "id": "e43f8ffe-358f-40a1-bed4-4470910c657d",
   "metadata": {},
   "outputs": [],
   "source": [
    "df_train, df_test = train_test_split(\n",
    "      df, \n",
    "      test_size = 0.3, \n",
    "      random_state = 42\n",
    "  )"
   ]
  },
  {
   "cell_type": "code",
   "execution_count": 47,
   "id": "d9237801-74d3-45bf-8c42-02776ff38cf7",
   "metadata": {},
   "outputs": [],
   "source": [
    "#resposta - CountVectorizer\n",
    "cv2 = CountVectorizer(ngram_range=(1,1))   \n",
    "cv2.fit(df_train.texto_tratado_lemma)\n",
    "x_train_cv2 = cv2.transform(df_train.texto_tratado_lemma)"
   ]
  },
  {
   "cell_type": "code",
   "execution_count": 48,
   "id": "fbef76f4-0099-478f-bf85-6ab91bc9148d",
   "metadata": {},
   "outputs": [],
   "source": [
    "# resposta - TFIDFVectorizer\n",
    "tfidf2 = TfidfVectorizer(ngram_range=(1,1))  \n",
    "tfidf2.fit(df_train.texto_tratado_lemma)\n",
    "x_train_tf2 = tfidf2.transform(df_train.texto_tratado_lemma)"
   ]
  },
  {
   "cell_type": "code",
   "execution_count": 50,
   "id": "9f0b4b58-0b38-451a-8690-e645dd81e985",
   "metadata": {},
   "outputs": [
    {
     "name": "stdout",
     "output_type": "stream",
     "text": [
      "Acurácia com CV:  0.9259259259259259\n"
     ]
    }
   ],
   "source": [
    "y_train = df_train[\"sentimento\"]\n",
    "model = DecisionTreeClassifier(random_state=42)\n",
    "model.fit(x_train_cv2, y_train)\n",
    "\n",
    "x_test = cv2.transform(df_test.texto_tratado_lemma)\n",
    "\n",
    "y_prediction = model.predict(x_test)\n",
    "\n",
    "y_test = df_test[\"sentimento\"]\n",
    "accuracy = accuracy_score(y_prediction, y_test)\n",
    "print('Acurácia com CV: ',accuracy)"
   ]
  },
  {
   "cell_type": "code",
   "execution_count": 51,
   "id": "d8fc8a04-3821-44f4-99bf-02c69f707738",
   "metadata": {},
   "outputs": [
    {
     "name": "stdout",
     "output_type": "stream",
     "text": [
      "Acurácia com TFIDF:  0.9033564814814815\n"
     ]
    }
   ],
   "source": [
    "y_train = df_train[\"sentimento\"]\n",
    "model = DecisionTreeClassifier(random_state=42)\n",
    "model.fit(x_train_tf2, y_train)\n",
    "\n",
    "x_test = tfidf2.transform(df_test.texto_tratado_lemma)\n",
    "\n",
    "y_prediction = model.predict(x_test)\n",
    "\n",
    "y_test = df_test[\"sentimento\"]\n",
    "accuracy = accuracy_score(y_prediction, y_test)\n",
    "print('Acurácia com TFIDF: ',accuracy)"
   ]
  },
  {
   "cell_type": "code",
   "execution_count": null,
   "id": "04833f75-32b9-4743-985d-d140576998f3",
   "metadata": {},
   "outputs": [],
   "source": []
  }
 ],
 "metadata": {
  "kernelspec": {
   "display_name": "Python 3 (ipykernel)",
   "language": "python",
   "name": "python3"
  },
  "language_info": {
   "codemirror_mode": {
    "name": "ipython",
    "version": 3
   },
   "file_extension": ".py",
   "mimetype": "text/x-python",
   "name": "python",
   "nbconvert_exporter": "python",
   "pygments_lexer": "ipython3",
   "version": "3.10.9"
  }
 },
 "nbformat": 4,
 "nbformat_minor": 5
}
