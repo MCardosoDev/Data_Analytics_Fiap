{
 "cells": [
  {
   "cell_type": "markdown",
   "id": "4f508572-98fc-4cf3-a86a-b5456a8cfc43",
   "metadata": {},
   "source": [
    "# Sistemas de Recomendação\n",
    "\n",
    "Nesta aula, aplicaremos os conhecimentos obtidos ao longo da disciplina para construir a base de um sistema de recomendação. Veremos desde sistemas simples até os mais complexos, usando técnicas de vetorização de textos que vimos em aulas anteriores para extrair informações de sinopses de filmes e fazer recomendações baseadas nelas. "
   ]
  },
  {
   "cell_type": "markdown",
   "id": "76b3f646-1358-44ff-9872-b5f0087e2809",
   "metadata": {},
   "source": [
    "## Introdução\n",
    "\n",
    "Usar sistemas de recomendação e, de fato, métodos de machine learning em produção, não é somente sobre implementar o melhor algoritmo, é sobre entender seus usuários e seu domínio. \n",
    "\n",
    "A definição de sistemas de recomendação é simples e vamos fornece-la futuramente. Por enquanto, vamos focar em quais problemas ela se propõe a resolver e como é usada. Em tópicos, vamos:\n",
    "\n",
    "* Entender a tarefa que um sistema de recomendação está tentando emular\n",
    "\n",
    "* Desenvolver um entendimento do que são recomendações personalizadas e não-personalizadas\n",
    "\n",
    "* Desenvolver uma taxonomia de como descrever sistemas de recomendação.\n",
    "\n",
    "Antes de nos aprofundarmos no tema, é importante entendermos a diferença entre recomendação e coisas que são parecidas com recomendação. Veja os exemplos e tente defini-los:\n",
    "\n",
    "1. Numa loja de música, pego uma pilha de CDs e, usando-os como contexto, inicio uma conversa com o atendente, que me indica vários outros discos que podem me agradar.\n",
    "\n",
    "2. Geralmente, recebo e-mails de supermercados com ofertas de produtos que eles dizem ser uma boa oferta\n",
    "\n",
    "3. Na televisão, muito se pensa em colocar comerciais com o conteúdo de televisão certo, com o objetivo de atingir públicos específicos\n",
    "\n",
    "4. Uma vez por semana, recebo um newsletter com os filmes mais assistidos no cinema\n",
    "\n",
    "E por que isso recomendação é importante? Para entendermos essa ideia, vamos usar o conceito de Long tail, cunhado por Chris Anderson em 2004. No artigo, originalmente publicado na revista Wired, o autor identificou um novo modelo de negócios que é frequentemente visto na internet. \n",
    "\n",
    "Numa loja virtual, é possível armazenar um número infinito de produtos visto que o aluguel de espaço é barato ou, se conteúdo digital é vendido, espaço não é um problema, o que leva seu custo a quase zero. O que é diferente de uma loja física, que é limitada geograficamente. \n",
    "\n",
    "A ideia por trás da economia *long tail* é que é possível lucrar vendendo muitos produtos, mas apenas alguns poucos de cada, para muitas pessoas diferentes. \n",
    "\n",
    "A grande questão que permanece é como os usuários encontram aquilo que eles precisam? \n",
    "\n",
    "Aqui entram os sistemas de recomendação, visto que eles ajudam pessoas a encontrar diversas coisas que, de outra maneira, eles jamais imaginariam que existissem. \n",
    "\n",
    "De posse dessas informações, podemos definir sistemas de recomendação: \n",
    "\n",
    " “Um sistema de recomendação calcula e provê conteúdo relevante ao usuário baseado no conhecimento do usuário, conteúdo e interações entre o usuário e o item.”\n",
    " \n",
    "Tomando a Netflix como exemplo, vamos definir alguns termos comuns quando se trata de sistemas de recomendação. Observe a tabela:\n"
   ]
  },
  {
   "cell_type": "markdown",
   "id": "73a4c309-ce2f-4c5f-b2c1-a4b9638956ad",
   "metadata": {},
   "source": [
    "<img src=\"img/tabela.png\" />"
   ]
  },
  {
   "cell_type": "markdown",
   "id": "74b07c87-e377-47ab-b4dd-95194200be49",
   "metadata": {},
   "source": [
    "Entretanto, veremos que construir um sistema de recomendação que forneça recomendações adequadas não é simples. Observe a imagem abaixo:"
   ]
  },
  {
   "cell_type": "markdown",
   "id": "08439f30-66ca-446b-bef4-d10a30879f67",
   "metadata": {},
   "source": [
    "<img src=\"img/netflix.png\" />"
   ]
  },
  {
   "cell_type": "markdown",
   "id": "9c8b43e4-02f5-4b31-b31b-a42bbeee4402",
   "metadata": {},
   "source": [
    "Vamos entende-la passo a passo:\n",
    "\n",
    "1. Uma requisição para uma lista das principais escolhas é recebida\n",
    "\n",
    "2. O sistema de recomendação é chamado, retornando itens da base de dados que são mais similares ao gosto do usuário atual\n",
    "\n",
    "3. Os tops 5 itens (pode ser muito mais, na prática) são postos para o próximo passo, que é fazer predição. \n",
    "\n",
    "4. A predição é feita usando as preferências do usuário obtidas da base de dados de usuários. É provável que alguns itens fiquem de fora devido à baixa correlação com o usuário.\n",
    "\n",
    "5. Os itens significantes são resultado da predição calculada, agora com o rating predito adicionado a eles.\n",
    "\n",
    "6. Os itens significantes são ordenados de acordo com a preferência do usuário, contexto e dados demográficos.\n",
    "\n",
    "7. Os itens são ordenados por relevância\n",
    "\n",
    "8. O pipeline retorna os itens\n",
    "\n",
    "9. O servidor apresenta os resultados\n",
    "\n",
    "A imagem anterior deixa evidente que existem muitos aspectos a serem considerados quando lidamos com sistemas de recomendação. Além disso, esse pipeline não apresenta partes como coleta de dados e a construção de modelos. \n",
    "\n",
    "Em nossa aula, vamos focar na construção e entendimentos dos modelos de recomendação. \n",
    "\n",
    "De maneira geral, os algoritmos de recomendação pertencem a dois grupos distintos. Os algoritmos que empregam o uso de dados são chamados filtros colaborativos. Algoritmos que usam conteúdo de metadados e perfis de usuários para calcular recomendações são chamados filtros baseados em conteúdos. Ainda existe um terceiro grupo, chamado de sistemas híbridos, que é uma combinação dos dois anteriores. \n",
    "\n",
    "Na prática, precisamos ter uma ideia do que queremos fazer com um sistema de recomendação. Podemos ter o seguinte ciclo de modelagem até ter um sistema em produção:"
   ]
  },
  {
   "cell_type": "markdown",
   "id": "3a913870-9a42-4e12-a94e-1729c648fba6",
   "metadata": {},
   "source": [
    "<img src=\"img/ciclo_modelagem.png\" />"
   ]
  },
  {
   "cell_type": "markdown",
   "id": "cc6d4a1e-1539-4886-8a34-b937cd4045a2",
   "metadata": {},
   "source": [
    "## Novos usuários e produtos"
   ]
  },
  {
   "cell_type": "markdown",
   "id": "af18fe82-5e03-47b9-92c0-c2edb488b904",
   "metadata": {},
   "source": [
    "Você percebeu que para fazer recomendações é preciso ter muitas informações sobre os gostos do usuário e também sobre os produtos que vamos recomendar, afinal, é preciso saber o que o usuário gosta e quais produtos são similares ao que ele gosta. Entretanto, mesmo possuindo muitos dados, apenas com isso não é possível resolver o problema de como introduzir novas coisas, sejam elas usuários ou produtos. \n",
    "\n",
    "Este problema é denominado __Cold Start__.\n",
    "\n",
    "Para novos produtos, a solução é relativamente simples. Geralmente, a introdução de novos itens é acompanhada da promoção deles, por exemplo, enviando e-mails aos usuários, ou criando uma área especial onde novos itens podem ser consultados. \n",
    "Para novos usuários a solução é mais complicada. Quando devemos começar oferecer recomendações personalizadas? Qual a quantidade mínima de dados suficiente para determinar a preferencia de uma pessoa? Quando um novo usuário chega, não sabemos nada. Sem dados = sem personalização. \n",
    "\n",
    "Assim sendo, precisamos de maneiras de lidar com esse problema. Para itens novos, usar filtros baseado em conteúdo pode ser uma solução. Veremos isso mais adiante.\n",
    "\n",
    "Entretanto, para usuários novos, temos outras abordagens. A solução é encontrar informação mesmo num conjunto de dados esparso. Podemos usar a informação que já temos e relacionar isso com o novo usuário. \n",
    "\n",
    "Podemos, então, usar regras de associação, bem como criar segmentos para usuários existentes e considerar o quão rápido podemos adequar um novo usuário a um segmento. \n",
    "\n",
    "Regras de associação dizem que, se um usuário colocou pão no seu carrinho de compras, oferecer manteiga a ele pode ser uma boa recomendação. Para um usuário novo, podemos usar regras de associação como, por exemplo, por onde o usuário navegou. Podemos implementar isso da seguinte forma:"
   ]
  },
  {
   "cell_type": "markdown",
   "id": "c6f02c37-223b-4de8-ba9f-24b8f461ebd3",
   "metadata": {},
   "source": [
    "<img src=\"img/association_rules.png\" />"
   ]
  },
  {
   "cell_type": "markdown",
   "id": "e41c6cc8-434f-42c0-b4cc-b38fb40541c0",
   "metadata": {},
   "source": [
    "Outra forma de recomendação para lidar com o cold start é usar regras de negócio e conhecimento de domínio. Por exemplo, se um usuário navega pela seção de desenhos animados, apenas recomende desenhos animados e filmes “família”.\n",
    "\n",
    "De outra maneira, podemos especificar coisas que nunca devem aparecer juntas. Exemplo: nunca recomende um filme de terror para alguém que está assistindo desenho animado. \n",
    "\n",
    "Podemos implementar isso da seguinte maneira:\n"
   ]
  },
  {
   "cell_type": "markdown",
   "id": "46bedeb3-69ed-4140-be72-f7e01f4aae78",
   "metadata": {},
   "source": [
    "<img src=\"img/business_rules.png\" />"
   ]
  },
  {
   "cell_type": "markdown",
   "id": "b5742e09-d6e2-40cb-bfc2-9e82fb9601b5",
   "metadata": {},
   "source": [
    "Uma terceira maneira de endereçar o problema de cold start é usar segmentação. A ideia é agrupar usuários com gostos similares, de modo que você consiga descobrir que tipo de pessoa gosta de que tipo de conteúdo. Quando um novo usuário chega, podemos recomendar conteúdo popular com aquele segmento. Isso é conhecido como recomendações demográficas. \n",
    "\n",
    "De maneira simples, você filtrar o ip do usuário e determinar sua localização e, então, oferecer produtos vendidos nessa localização. Se você sabe o gênero, você pode apresentar produtos mais vendidos para cada um deles. O mesmo serve para idade. Esses são os segmentos mais óbvios de serem encontrados. \n",
    "\n",
    "Por outro lado, podemos usar algoritmos não supervisionados (clustering) para agrupar nossos usuários conhecidos. Depois, podemos tentar encaixar um usuário novo num desses grupos e realizar as recomendações. \n",
    "\n",
    "Embora esse seja um problema para sistemas de recomendação, resolve-lo aqui não será o nosso foco. Nossa ideia é usar as técnicas que vimos até o momento para construir um modelo de recomendação. Mas como eu determino que um produto é similar a outro ou um usuário é similar a outro?"
   ]
  },
  {
   "cell_type": "markdown",
   "id": "63b09be1-504b-4bf3-a295-eed890302205",
   "metadata": {},
   "source": [
    "## Como calcular similaridade"
   ]
  },
  {
   "cell_type": "markdown",
   "id": "59b3cabd-6726-4290-aec2-3846347cd83c",
   "metadata": {},
   "source": [
    "Precisamos falar sobre similaridade porque queremos encontrar itens semelhantes àqueles que gostamos ou porque queremos encontrar usuários que gostem das mesmas coisas que gostamos. \n",
    "\n",
    "Entretanto, como definimos similaridade? Por exemplo, numa escala entre -1 a 1, quão similar duas pessoas são? Se talvez uma pessoa goste de Star Trek e outra goste de Star Wars, eles são similares?\n",
    "\n",
    "Assim, precisamos de uma maneira de mensurar similaridade, que pode ser obtida através de uma função de similaridade, definida da seguinte maneira:\n",
    "\n",
    "* Dados dois itens, $i_1$ e $i_2$, a similaridade entre eles é dada por uma função $sim(i_1,i_2)$.\n",
    "\n",
    "Geralmente tomamos o domínio $[0,1]$ para determinar a similaridade entre dois itens, com 0 sendo totalmente dissimilares e 1 sendo totalmente similares (mesmo item). \n",
    "\n",
    "A Figura abaixo ilustra dois exemplos de funções de similaridade. É importante pensar sobre qual deve ser escolhida, visto que determinar qual é melhor depende do domínio (contexto) e dos dados:\n",
    "\n"
   ]
  },
  {
   "cell_type": "markdown",
   "id": "a8ff1c2b-b58b-41c9-88f4-9f6f50541f52",
   "metadata": {},
   "source": [
    "<img src=\"img/similaridade.png\" />"
   ]
  },
  {
   "cell_type": "markdown",
   "id": "ffd0086d-8ffc-4610-943c-adf2960b3594",
   "metadata": {},
   "source": [
    "A medida de similaridade é intimamente relacionada com o cálculo da distancia entre itens. Geralmente, podemos dizer que a relação entre similaridade e distância é a seguinte:\n",
    "\n",
    "* Quando a distância aumenta, a similaridade tende a zero. \n",
    "\n",
    "* Quando a distância tende a zero, a similaridade tende a um. \n",
    "\n",
    "Como mencionado, não existe método certo ou método errado de similaridade. Diferentes métodos funcionarão melhor em diferentes datasets. Entretanto, existem alguns pontos de partidas e, aqui, vamos discutir algumas medidas de distancia:\n",
    "\n",
    "* Jaccard\n",
    "\n",
    "* Euclidiana\n",
    "\n",
    "* Cosseno\n",
    "\n",
    "* Pearson\n",
    "\n",
    "A distância de Jaccard é usada para indicar quão próximos dois conjuntos são. A explicação é simples: podemos dizer que cada filme é uma bag que contém todos os usuários que compraram esse filme. Assim, temos conjuntos de usuários, um para cada filme. Dessa maneira, podemos comparar dois filmes olhando para dois conjuntos de usuários. \n",
    "\n",
    "Datasets como o mencionado acima podem ser produzidos a partir das transações dos usuários, que podem ser transformadas numa lista onde cada linha indica se um usuário comprou um produto ou não (1 = comprou, 0 = não comprou).  \n",
    "Considere a seguinte imagem:"
   ]
  },
  {
   "cell_type": "markdown",
   "id": "8001c490-9992-48b6-be15-f405e404d525",
   "metadata": {},
   "source": [
    "<img src=\"img/jaccard1.png\" />"
   ]
  },
  {
   "cell_type": "markdown",
   "id": "87759a10-6b0d-471d-b6d1-35c9c1087145",
   "metadata": {},
   "source": [
    "Para calcular a similaridade entre dois itens, calculamos quantos usuários compraram (ou não) ambos os itens e, então, dividimos por quantos usuários compraram um ou outro. Formalmente, temos:\n",
    "\n",
    "$jaccard_{i,j} = \\frac{X}{Y}$\n",
    "\n",
    "em que:\n",
    "\n",
    "$X$ = número de usuários que compraram (ou não) ambos os itens\n",
    "\n",
    "$Y$ = número de usuários que compraram ou $i$ ou $j$\n",
    "\n",
    "Observe o exemplo para o caso abaixo:"
   ]
  },
  {
   "cell_type": "markdown",
   "id": "fe5f6450-1304-4ac6-a62b-8b34bf76906c",
   "metadata": {},
   "source": [
    "<img src=\"img/jaccard2.png\" />"
   ]
  },
  {
   "cell_type": "markdown",
   "id": "0713aadb-f303-481e-ac81-7181cd8e65be",
   "metadata": {},
   "source": [
    "A similaridade de Jaccard para esse caso é a seguinte:\n",
    "\n",
    "$jaccard_{i,j} = \\frac{4}{6} = 0.67$"
   ]
  },
  {
   "cell_type": "markdown",
   "id": "d87c937d-2e4d-4abb-abe5-e8a1627124bb",
   "metadata": {},
   "source": [
    "Quando meu conjunto de dados é composto, por exemplo, de ratings de filmes, uma métrica mais apropriada é a distância Euclidiana, derivada do Teorema de Pitágoras. Ela pode ser entendida como o tamanho do segmento de linha que junta dois pontos de dados plotados num plano cartesiano n-dimensional. \n",
    "\n",
    "Veja a imagem abaixo como exemplo:"
   ]
  },
  {
   "cell_type": "markdown",
   "id": "9b261fbe-d409-4352-bb39-f2dd2a9bbacd",
   "metadata": {},
   "source": [
    "<img src=\"img/euclidiana.png\" />"
   ]
  },
  {
   "cell_type": "markdown",
   "id": "eda2adda-b99c-4c1e-9b58-dd44f9ab9cf5",
   "metadata": {},
   "source": [
    "Os pontos no espaço n-dimensional são dados por vetores, definidos da seguinte maneira:\n",
    "\n",
    "* $v_1:(q_1,q_2, ⋯,q_n)$\n",
    "\n",
    "* $v_2:(r_1,r_2, ⋯,r_n)$\n",
    "\n",
    "Assim, podemos definir matematicamente a distancia euclidiana da seguinte maneira:\n",
    "\n",
    "$d(v_1,v_2) = \\sqrt{\\sum_{i=0}^{n} (q_i - r_i)^2}$\n",
    "\n",
    "A distância pode variar entre 0 e infinito. Quanto menor seu valor, mais similares dois vetores são um do outro. "
   ]
  },
  {
   "cell_type": "markdown",
   "id": "9657e604-25bc-430a-b22c-d3e925cbcca7",
   "metadata": {},
   "source": [
    "Uma outra maneira de olhar para conteúdos é enxergar as linhas de uma matriz de rating como vetores no espaço e, então, determinar o cosseno do ângulo entre eles. \n",
    "\n",
    "O cálculo é dado pela seguinte fórmula:\n",
    "\n",
    "$\\cos (\\theta ) =   \\dfrac {A \\cdot B} {\\left\\| A\\right\\| \\left\\| B\\right\\| } $\n",
    "\n",
    "Quando o valor da similaridade é 1 (ângulo = 0), os vetores são exatamente similares. Por outro lado, um valor de cosseno igual a -1 (ângulo = 180) significa que os vetores são totalmente diferentes. \n",
    "\n",
    "Considerando ainda o exemplo de um conjunto de ratings de filmes para dois (ou mais) usuários diferentes, podemos usar a correlação de Pearson para determinar a similaridades entre dois usuários. \n",
    "\n",
    "A correlação de Pearson mensura o quão diferente cada ponto é na média. O range varia entre $[-1,1]$.  Com esse coeficiente, os ratings são normalizados subtraindo-se o rating médio do item para cada rating, como mostrado na equação abaixo:\n",
    "\n",
    "$pearson = \\frac{{}\\sum_{i=1}^{n} (x_i - \\overline{x})(y_i - \\overline{y})}{\\sqrt{\\sum_{i=1}^{n} (x_i - \\overline{x})^2  \\sum_{i=1}^{n}(y_i - \\overline{y})^2}}$\n",
    "\n",
    "Tendo visto as principais medidas de distância usadas na construção de sistemas de recomendação, estamos prontos para efetivamente começar a construir um sistema de recomendação. Vamos começar por um bastante simples. "
   ]
  },
  {
   "cell_type": "markdown",
   "id": "d522f193-a40a-43a0-ac65-46cf8cdbc156",
   "metadata": {},
   "source": [
    "## Simple Recommender\n",
    "Para começarmos a entender os sistemas de recomendação, vamos usar como base de comparação a lista de 250 filmes do IMDB, calculados segundo uma métrica específica. Todos os filmes na lista são não-documentário, lançamento de cinema, possui pelo menos 45 minutos e tem mais de 250000 avaliações. \n",
    "\n",
    "Você pode consultar essa lista [aqui](https://www.imdb.com/chart/top/)\n",
    "\n",
    "Como vimos, isso é um tipo de recomendação.  Vamos usar o data set The Movies Dataset [link](https://www.kaggle.com/datasets/rounakbanik/the-movies-dataset) para criar uma lista parecida a fim de oferencer uma recomendação inicial. "
   ]
  },
  {
   "cell_type": "markdown",
   "id": "0ec5866d-7375-45d6-b9dc-39a9190ea01f",
   "metadata": {},
   "source": [
    "Link para download dos dados: [link](https://drive.google.com/drive/folders/12y6Wa9D4X1pQhCOnGE2DOGvmOvFijv8u?usp=sharing)"
   ]
  },
  {
   "cell_type": "code",
   "execution_count": 23,
   "id": "5e85f7c1-5ee8-4c55-a2cf-54440e80c234",
   "metadata": {},
   "outputs": [
    {
     "name": "stderr",
     "output_type": "stream",
     "text": [
      "/var/folders/b6/6gbr51r91pz6skgbf3cz9lvc0000gn/T/ipykernel_56331/3055881411.py:4: DtypeWarning: Columns (10) have mixed types. Specify dtype option on import or set low_memory=False.\n",
      "  df = pd.read_csv('dados/movies_metadata.csv')\n"
     ]
    },
    {
     "data": {
      "text/html": [
       "<div>\n",
       "<style scoped>\n",
       "    .dataframe tbody tr th:only-of-type {\n",
       "        vertical-align: middle;\n",
       "    }\n",
       "\n",
       "    .dataframe tbody tr th {\n",
       "        vertical-align: top;\n",
       "    }\n",
       "\n",
       "    .dataframe thead th {\n",
       "        text-align: right;\n",
       "    }\n",
       "</style>\n",
       "<table border=\"1\" class=\"dataframe\">\n",
       "  <thead>\n",
       "    <tr style=\"text-align: right;\">\n",
       "      <th></th>\n",
       "      <th>adult</th>\n",
       "      <th>belongs_to_collection</th>\n",
       "      <th>budget</th>\n",
       "      <th>genres</th>\n",
       "      <th>homepage</th>\n",
       "      <th>id</th>\n",
       "      <th>imdb_id</th>\n",
       "      <th>original_language</th>\n",
       "      <th>original_title</th>\n",
       "      <th>overview</th>\n",
       "      <th>...</th>\n",
       "      <th>release_date</th>\n",
       "      <th>revenue</th>\n",
       "      <th>runtime</th>\n",
       "      <th>spoken_languages</th>\n",
       "      <th>status</th>\n",
       "      <th>tagline</th>\n",
       "      <th>title</th>\n",
       "      <th>video</th>\n",
       "      <th>vote_average</th>\n",
       "      <th>vote_count</th>\n",
       "    </tr>\n",
       "  </thead>\n",
       "  <tbody>\n",
       "    <tr>\n",
       "      <th>0</th>\n",
       "      <td>False</td>\n",
       "      <td>{'id': 10194, 'name': 'Toy Story Collection', ...</td>\n",
       "      <td>30000000</td>\n",
       "      <td>[{'id': 16, 'name': 'Animation'}, {'id': 35, '...</td>\n",
       "      <td>http://toystory.disney.com/toy-story</td>\n",
       "      <td>862</td>\n",
       "      <td>tt0114709</td>\n",
       "      <td>en</td>\n",
       "      <td>Toy Story</td>\n",
       "      <td>Led by Woody, Andy's toys live happily in his ...</td>\n",
       "      <td>...</td>\n",
       "      <td>1995-10-30</td>\n",
       "      <td>373554033.0</td>\n",
       "      <td>81.0</td>\n",
       "      <td>[{'iso_639_1': 'en', 'name': 'English'}]</td>\n",
       "      <td>Released</td>\n",
       "      <td>NaN</td>\n",
       "      <td>Toy Story</td>\n",
       "      <td>False</td>\n",
       "      <td>7.7</td>\n",
       "      <td>5415.0</td>\n",
       "    </tr>\n",
       "    <tr>\n",
       "      <th>1</th>\n",
       "      <td>False</td>\n",
       "      <td>NaN</td>\n",
       "      <td>65000000</td>\n",
       "      <td>[{'id': 12, 'name': 'Adventure'}, {'id': 14, '...</td>\n",
       "      <td>NaN</td>\n",
       "      <td>8844</td>\n",
       "      <td>tt0113497</td>\n",
       "      <td>en</td>\n",
       "      <td>Jumanji</td>\n",
       "      <td>When siblings Judy and Peter discover an encha...</td>\n",
       "      <td>...</td>\n",
       "      <td>1995-12-15</td>\n",
       "      <td>262797249.0</td>\n",
       "      <td>104.0</td>\n",
       "      <td>[{'iso_639_1': 'en', 'name': 'English'}, {'iso...</td>\n",
       "      <td>Released</td>\n",
       "      <td>Roll the dice and unleash the excitement!</td>\n",
       "      <td>Jumanji</td>\n",
       "      <td>False</td>\n",
       "      <td>6.9</td>\n",
       "      <td>2413.0</td>\n",
       "    </tr>\n",
       "    <tr>\n",
       "      <th>2</th>\n",
       "      <td>False</td>\n",
       "      <td>{'id': 119050, 'name': 'Grumpy Old Men Collect...</td>\n",
       "      <td>0</td>\n",
       "      <td>[{'id': 10749, 'name': 'Romance'}, {'id': 35, ...</td>\n",
       "      <td>NaN</td>\n",
       "      <td>15602</td>\n",
       "      <td>tt0113228</td>\n",
       "      <td>en</td>\n",
       "      <td>Grumpier Old Men</td>\n",
       "      <td>A family wedding reignites the ancient feud be...</td>\n",
       "      <td>...</td>\n",
       "      <td>1995-12-22</td>\n",
       "      <td>0.0</td>\n",
       "      <td>101.0</td>\n",
       "      <td>[{'iso_639_1': 'en', 'name': 'English'}]</td>\n",
       "      <td>Released</td>\n",
       "      <td>Still Yelling. Still Fighting. Still Ready for...</td>\n",
       "      <td>Grumpier Old Men</td>\n",
       "      <td>False</td>\n",
       "      <td>6.5</td>\n",
       "      <td>92.0</td>\n",
       "    </tr>\n",
       "    <tr>\n",
       "      <th>3</th>\n",
       "      <td>False</td>\n",
       "      <td>NaN</td>\n",
       "      <td>16000000</td>\n",
       "      <td>[{'id': 35, 'name': 'Comedy'}, {'id': 18, 'nam...</td>\n",
       "      <td>NaN</td>\n",
       "      <td>31357</td>\n",
       "      <td>tt0114885</td>\n",
       "      <td>en</td>\n",
       "      <td>Waiting to Exhale</td>\n",
       "      <td>Cheated on, mistreated and stepped on, the wom...</td>\n",
       "      <td>...</td>\n",
       "      <td>1995-12-22</td>\n",
       "      <td>81452156.0</td>\n",
       "      <td>127.0</td>\n",
       "      <td>[{'iso_639_1': 'en', 'name': 'English'}]</td>\n",
       "      <td>Released</td>\n",
       "      <td>Friends are the people who let you be yourself...</td>\n",
       "      <td>Waiting to Exhale</td>\n",
       "      <td>False</td>\n",
       "      <td>6.1</td>\n",
       "      <td>34.0</td>\n",
       "    </tr>\n",
       "    <tr>\n",
       "      <th>4</th>\n",
       "      <td>False</td>\n",
       "      <td>{'id': 96871, 'name': 'Father of the Bride Col...</td>\n",
       "      <td>0</td>\n",
       "      <td>[{'id': 35, 'name': 'Comedy'}]</td>\n",
       "      <td>NaN</td>\n",
       "      <td>11862</td>\n",
       "      <td>tt0113041</td>\n",
       "      <td>en</td>\n",
       "      <td>Father of the Bride Part II</td>\n",
       "      <td>Just when George Banks has recovered from his ...</td>\n",
       "      <td>...</td>\n",
       "      <td>1995-02-10</td>\n",
       "      <td>76578911.0</td>\n",
       "      <td>106.0</td>\n",
       "      <td>[{'iso_639_1': 'en', 'name': 'English'}]</td>\n",
       "      <td>Released</td>\n",
       "      <td>Just When His World Is Back To Normal... He's ...</td>\n",
       "      <td>Father of the Bride Part II</td>\n",
       "      <td>False</td>\n",
       "      <td>5.7</td>\n",
       "      <td>173.0</td>\n",
       "    </tr>\n",
       "  </tbody>\n",
       "</table>\n",
       "<p>5 rows × 24 columns</p>\n",
       "</div>"
      ],
      "text/plain": [
       "   adult                              belongs_to_collection    budget  \\\n",
       "0  False  {'id': 10194, 'name': 'Toy Story Collection', ...  30000000   \n",
       "1  False                                                NaN  65000000   \n",
       "2  False  {'id': 119050, 'name': 'Grumpy Old Men Collect...         0   \n",
       "3  False                                                NaN  16000000   \n",
       "4  False  {'id': 96871, 'name': 'Father of the Bride Col...         0   \n",
       "\n",
       "                                              genres  \\\n",
       "0  [{'id': 16, 'name': 'Animation'}, {'id': 35, '...   \n",
       "1  [{'id': 12, 'name': 'Adventure'}, {'id': 14, '...   \n",
       "2  [{'id': 10749, 'name': 'Romance'}, {'id': 35, ...   \n",
       "3  [{'id': 35, 'name': 'Comedy'}, {'id': 18, 'nam...   \n",
       "4                     [{'id': 35, 'name': 'Comedy'}]   \n",
       "\n",
       "                               homepage     id    imdb_id original_language  \\\n",
       "0  http://toystory.disney.com/toy-story    862  tt0114709                en   \n",
       "1                                   NaN   8844  tt0113497                en   \n",
       "2                                   NaN  15602  tt0113228                en   \n",
       "3                                   NaN  31357  tt0114885                en   \n",
       "4                                   NaN  11862  tt0113041                en   \n",
       "\n",
       "                original_title  \\\n",
       "0                    Toy Story   \n",
       "1                      Jumanji   \n",
       "2             Grumpier Old Men   \n",
       "3            Waiting to Exhale   \n",
       "4  Father of the Bride Part II   \n",
       "\n",
       "                                            overview  ... release_date  \\\n",
       "0  Led by Woody, Andy's toys live happily in his ...  ...   1995-10-30   \n",
       "1  When siblings Judy and Peter discover an encha...  ...   1995-12-15   \n",
       "2  A family wedding reignites the ancient feud be...  ...   1995-12-22   \n",
       "3  Cheated on, mistreated and stepped on, the wom...  ...   1995-12-22   \n",
       "4  Just when George Banks has recovered from his ...  ...   1995-02-10   \n",
       "\n",
       "       revenue runtime                                   spoken_languages  \\\n",
       "0  373554033.0    81.0           [{'iso_639_1': 'en', 'name': 'English'}]   \n",
       "1  262797249.0   104.0  [{'iso_639_1': 'en', 'name': 'English'}, {'iso...   \n",
       "2          0.0   101.0           [{'iso_639_1': 'en', 'name': 'English'}]   \n",
       "3   81452156.0   127.0           [{'iso_639_1': 'en', 'name': 'English'}]   \n",
       "4   76578911.0   106.0           [{'iso_639_1': 'en', 'name': 'English'}]   \n",
       "\n",
       "     status                                            tagline  \\\n",
       "0  Released                                                NaN   \n",
       "1  Released          Roll the dice and unleash the excitement!   \n",
       "2  Released  Still Yelling. Still Fighting. Still Ready for...   \n",
       "3  Released  Friends are the people who let you be yourself...   \n",
       "4  Released  Just When His World Is Back To Normal... He's ...   \n",
       "\n",
       "                         title  video vote_average vote_count  \n",
       "0                    Toy Story  False          7.7     5415.0  \n",
       "1                      Jumanji  False          6.9     2413.0  \n",
       "2             Grumpier Old Men  False          6.5       92.0  \n",
       "3            Waiting to Exhale  False          6.1       34.0  \n",
       "4  Father of the Bride Part II  False          5.7      173.0  \n",
       "\n",
       "[5 rows x 24 columns]"
      ]
     },
     "execution_count": 23,
     "metadata": {},
     "output_type": "execute_result"
    }
   ],
   "source": [
    "import pandas as pd\n",
    "import numpy as np\n",
    "\n",
    "df = pd.read_csv('dados/movies_metadata.csv')\n",
    "df.head()"
   ]
  },
  {
   "cell_type": "markdown",
   "id": "c50b7a9e-3b1c-41f2-a507-28ebf298bc9e",
   "metadata": {},
   "source": [
    "Para construir esse simples recommender, vamos seguir os seguintes passos:\n",
    "\n",
    "1. Escolher uma métrica para avaliar os filmes\n",
    "2. Decidir os pré-requisitos para o filme fazer parte da lista\n",
    "3. Calcular o score para cada filme de acordo com a métrica e os pré-requisitos\n",
    "4. Retornar a lista de filmes em ordem decrescente de acordo com o score"
   ]
  },
  {
   "cell_type": "markdown",
   "id": "97247161-0111-413c-a59d-cc66c5dae734",
   "metadata": {},
   "source": [
    "**Escolha da Métrica**\n",
    "\n",
    "Para a métrica, vamos usar o Weighted Rating, definido da seguinte maneira:\n",
    "\n",
    "$ WR = (\\frac{v}{v+m} \\times R) + (\\frac{m}{v+m} \\times C) $\n",
    "\n",
    "Em que:\n",
    "\n",
    "* $v$ é o número de votos que o filme gerou\n",
    "* $m$ é o número mínumo de votos requerido para o filme fazer parte da lista\n",
    "* $R$ é o rating médio do filme\n",
    "* $C$ é o rating médio de todos os filmes no dataset\n",
    "\n",
    "Já temos os valores de $v$ e $R$ paara todos os filmes através das features *vote_count* e *vote_average*. Vamos calcular o valor de $m$. $m$ pode ser qualquer valor, mas para esse caso, vamos o número de votos acumulado pelo 80th percentil, que pode ser calculado da seguinte forma:"
   ]
  },
  {
   "cell_type": "code",
   "execution_count": 24,
   "id": "ea56b5eb-40f3-4ff4-bcc6-85e5e9d1c238",
   "metadata": {},
   "outputs": [
    {
     "data": {
      "text/plain": [
       "50.0"
      ]
     },
     "execution_count": 24,
     "metadata": {},
     "output_type": "execute_result"
    }
   ],
   "source": [
    "m = df['vote_count'].quantile(0.80)\n",
    "m #apenas 20% dos filmes ganharam mais que 50 votos"
   ]
  },
  {
   "cell_type": "markdown",
   "id": "71575791-59fd-40a8-b0db-960cea0b95e4",
   "metadata": {},
   "source": [
    "Vamos filtrar agora filmes que tiveram mais que 45 minutos e menos que 300 minutos de duração. Também vamos considerar apenas aqueles que tiveram mais que $m$ votos"
   ]
  },
  {
   "cell_type": "code",
   "execution_count": 25,
   "id": "6869bb79-bdc9-4645-b6ab-d893df133358",
   "metadata": {},
   "outputs": [
    {
     "data": {
      "text/plain": [
       "(8963, 24)"
      ]
     },
     "execution_count": 25,
     "metadata": {},
     "output_type": "execute_result"
    }
   ],
   "source": [
    "q_movies = df[(df['runtime'] >= 45) & (df['runtime'] <= 300)]\n",
    "q_movies = q_movies[q_movies['vote_count'] >= m]\n",
    "q_movies.shape"
   ]
  },
  {
   "cell_type": "markdown",
   "id": "4fabe41c-49a2-4480-9c4a-0b6cfe93e74e",
   "metadata": {},
   "source": [
    "Para calcular o valor de $C$, vamos obter a média da coluna *vote_average*"
   ]
  },
  {
   "cell_type": "code",
   "execution_count": 26,
   "id": "5c751786-c5e0-4773-a8ed-740528559fdc",
   "metadata": {},
   "outputs": [
    {
     "data": {
      "text/plain": [
       "5.618207215134185"
      ]
     },
     "execution_count": 26,
     "metadata": {},
     "output_type": "execute_result"
    }
   ],
   "source": [
    "C = df['vote_average'].mean()\n",
    "C"
   ]
  },
  {
   "cell_type": "markdown",
   "id": "bee5e83b-50ef-4b6a-b3e1-dcb7bc7fcd42",
   "metadata": {},
   "source": [
    "De posso de todas as informações, podemos escrever uma função para calcular o weighted rating:"
   ]
  },
  {
   "cell_type": "code",
   "execution_count": 27,
   "id": "8b0104a9-2c47-4714-8032-1731477022ba",
   "metadata": {},
   "outputs": [],
   "source": [
    "def weighted_rating(x, m=m, C=C):\n",
    "    v = x['vote_count']\n",
    "    R = x['vote_average']\n",
    "    return (v/(v+m) * R) + (m/(m+v) * C)"
   ]
  },
  {
   "cell_type": "code",
   "execution_count": 28,
   "id": "c25c1e19-11f8-4a30-98b3-f4cafb2f4ab1",
   "metadata": {},
   "outputs": [],
   "source": [
    "#cria uma nova coluna e aplica a funcao\n",
    "q_movies['score'] = q_movies.apply(weighted_rating, axis=1)"
   ]
  },
  {
   "cell_type": "code",
   "execution_count": 29,
   "id": "8c87497c-9094-4cfc-86ab-a02cce737ee9",
   "metadata": {},
   "outputs": [
    {
     "data": {
      "text/html": [
       "<div>\n",
       "<style scoped>\n",
       "    .dataframe tbody tr th:only-of-type {\n",
       "        vertical-align: middle;\n",
       "    }\n",
       "\n",
       "    .dataframe tbody tr th {\n",
       "        vertical-align: top;\n",
       "    }\n",
       "\n",
       "    .dataframe thead th {\n",
       "        text-align: right;\n",
       "    }\n",
       "</style>\n",
       "<table border=\"1\" class=\"dataframe\">\n",
       "  <thead>\n",
       "    <tr style=\"text-align: right;\">\n",
       "      <th></th>\n",
       "      <th>title</th>\n",
       "      <th>vote_count</th>\n",
       "      <th>vote_average</th>\n",
       "      <th>score</th>\n",
       "      <th>runtime</th>\n",
       "    </tr>\n",
       "  </thead>\n",
       "  <tbody>\n",
       "    <tr>\n",
       "      <th>10309</th>\n",
       "      <td>Dilwale Dulhania Le Jayenge</td>\n",
       "      <td>661.0</td>\n",
       "      <td>9.1</td>\n",
       "      <td>8.855148</td>\n",
       "      <td>190.0</td>\n",
       "    </tr>\n",
       "    <tr>\n",
       "      <th>314</th>\n",
       "      <td>The Shawshank Redemption</td>\n",
       "      <td>8358.0</td>\n",
       "      <td>8.5</td>\n",
       "      <td>8.482863</td>\n",
       "      <td>142.0</td>\n",
       "    </tr>\n",
       "    <tr>\n",
       "      <th>834</th>\n",
       "      <td>The Godfather</td>\n",
       "      <td>6024.0</td>\n",
       "      <td>8.5</td>\n",
       "      <td>8.476278</td>\n",
       "      <td>175.0</td>\n",
       "    </tr>\n",
       "    <tr>\n",
       "      <th>40251</th>\n",
       "      <td>Your Name.</td>\n",
       "      <td>1030.0</td>\n",
       "      <td>8.5</td>\n",
       "      <td>8.366584</td>\n",
       "      <td>106.0</td>\n",
       "    </tr>\n",
       "    <tr>\n",
       "      <th>12481</th>\n",
       "      <td>The Dark Knight</td>\n",
       "      <td>12269.0</td>\n",
       "      <td>8.3</td>\n",
       "      <td>8.289115</td>\n",
       "      <td>152.0</td>\n",
       "    </tr>\n",
       "    <tr>\n",
       "      <th>2843</th>\n",
       "      <td>Fight Club</td>\n",
       "      <td>9678.0</td>\n",
       "      <td>8.3</td>\n",
       "      <td>8.286216</td>\n",
       "      <td>139.0</td>\n",
       "    </tr>\n",
       "    <tr>\n",
       "      <th>292</th>\n",
       "      <td>Pulp Fiction</td>\n",
       "      <td>8670.0</td>\n",
       "      <td>8.3</td>\n",
       "      <td>8.284623</td>\n",
       "      <td>154.0</td>\n",
       "    </tr>\n",
       "    <tr>\n",
       "      <th>522</th>\n",
       "      <td>Schindler's List</td>\n",
       "      <td>4436.0</td>\n",
       "      <td>8.3</td>\n",
       "      <td>8.270109</td>\n",
       "      <td>195.0</td>\n",
       "    </tr>\n",
       "    <tr>\n",
       "      <th>23673</th>\n",
       "      <td>Whiplash</td>\n",
       "      <td>4376.0</td>\n",
       "      <td>8.3</td>\n",
       "      <td>8.269704</td>\n",
       "      <td>105.0</td>\n",
       "    </tr>\n",
       "    <tr>\n",
       "      <th>5481</th>\n",
       "      <td>Spirited Away</td>\n",
       "      <td>3968.0</td>\n",
       "      <td>8.3</td>\n",
       "      <td>8.266628</td>\n",
       "      <td>125.0</td>\n",
       "    </tr>\n",
       "    <tr>\n",
       "      <th>2211</th>\n",
       "      <td>Life Is Beautiful</td>\n",
       "      <td>3643.0</td>\n",
       "      <td>8.3</td>\n",
       "      <td>8.263691</td>\n",
       "      <td>116.0</td>\n",
       "    </tr>\n",
       "    <tr>\n",
       "      <th>1178</th>\n",
       "      <td>The Godfather: Part II</td>\n",
       "      <td>3418.0</td>\n",
       "      <td>8.3</td>\n",
       "      <td>8.261335</td>\n",
       "      <td>200.0</td>\n",
       "    </tr>\n",
       "    <tr>\n",
       "      <th>1152</th>\n",
       "      <td>One Flew Over the Cuckoo's Nest</td>\n",
       "      <td>3001.0</td>\n",
       "      <td>8.3</td>\n",
       "      <td>8.256051</td>\n",
       "      <td>133.0</td>\n",
       "    </tr>\n",
       "    <tr>\n",
       "      <th>1176</th>\n",
       "      <td>Psycho</td>\n",
       "      <td>2405.0</td>\n",
       "      <td>8.3</td>\n",
       "      <td>8.245381</td>\n",
       "      <td>109.0</td>\n",
       "    </tr>\n",
       "    <tr>\n",
       "      <th>351</th>\n",
       "      <td>Forrest Gump</td>\n",
       "      <td>8147.0</td>\n",
       "      <td>8.2</td>\n",
       "      <td>8.184252</td>\n",
       "      <td>142.0</td>\n",
       "    </tr>\n",
       "    <tr>\n",
       "      <th>1184</th>\n",
       "      <td>Once Upon a Time in America</td>\n",
       "      <td>1104.0</td>\n",
       "      <td>8.3</td>\n",
       "      <td>8.183804</td>\n",
       "      <td>229.0</td>\n",
       "    </tr>\n",
       "    <tr>\n",
       "      <th>1154</th>\n",
       "      <td>The Empire Strikes Back</td>\n",
       "      <td>5998.0</td>\n",
       "      <td>8.2</td>\n",
       "      <td>8.178656</td>\n",
       "      <td>124.0</td>\n",
       "    </tr>\n",
       "    <tr>\n",
       "      <th>18465</th>\n",
       "      <td>The Intouchables</td>\n",
       "      <td>5410.0</td>\n",
       "      <td>8.2</td>\n",
       "      <td>8.176357</td>\n",
       "      <td>112.0</td>\n",
       "    </tr>\n",
       "    <tr>\n",
       "      <th>289</th>\n",
       "      <td>Leon: The Professional</td>\n",
       "      <td>4293.0</td>\n",
       "      <td>8.2</td>\n",
       "      <td>8.170276</td>\n",
       "      <td>110.0</td>\n",
       "    </tr>\n",
       "    <tr>\n",
       "      <th>3030</th>\n",
       "      <td>The Green Mile</td>\n",
       "      <td>4166.0</td>\n",
       "      <td>8.2</td>\n",
       "      <td>8.169381</td>\n",
       "      <td>189.0</td>\n",
       "    </tr>\n",
       "    <tr>\n",
       "      <th>1170</th>\n",
       "      <td>GoodFellas</td>\n",
       "      <td>3211.0</td>\n",
       "      <td>8.2</td>\n",
       "      <td>8.160414</td>\n",
       "      <td>145.0</td>\n",
       "    </tr>\n",
       "    <tr>\n",
       "      <th>2216</th>\n",
       "      <td>American History X</td>\n",
       "      <td>3120.0</td>\n",
       "      <td>8.2</td>\n",
       "      <td>8.159278</td>\n",
       "      <td>119.0</td>\n",
       "    </tr>\n",
       "    <tr>\n",
       "      <th>1161</th>\n",
       "      <td>12 Angry Men</td>\n",
       "      <td>2130.0</td>\n",
       "      <td>8.2</td>\n",
       "      <td>8.140785</td>\n",
       "      <td>96.0</td>\n",
       "    </tr>\n",
       "    <tr>\n",
       "      <th>9698</th>\n",
       "      <td>Howl's Moving Castle</td>\n",
       "      <td>2049.0</td>\n",
       "      <td>8.2</td>\n",
       "      <td>8.138499</td>\n",
       "      <td>119.0</td>\n",
       "    </tr>\n",
       "    <tr>\n",
       "      <th>2884</th>\n",
       "      <td>Princess Mononoke</td>\n",
       "      <td>2041.0</td>\n",
       "      <td>8.2</td>\n",
       "      <td>8.138264</td>\n",
       "      <td>134.0</td>\n",
       "    </tr>\n",
       "  </tbody>\n",
       "</table>\n",
       "</div>"
      ],
      "text/plain": [
       "                                 title  vote_count  vote_average     score  \\\n",
       "10309      Dilwale Dulhania Le Jayenge       661.0           9.1  8.855148   \n",
       "314           The Shawshank Redemption      8358.0           8.5  8.482863   \n",
       "834                      The Godfather      6024.0           8.5  8.476278   \n",
       "40251                       Your Name.      1030.0           8.5  8.366584   \n",
       "12481                  The Dark Knight     12269.0           8.3  8.289115   \n",
       "2843                        Fight Club      9678.0           8.3  8.286216   \n",
       "292                       Pulp Fiction      8670.0           8.3  8.284623   \n",
       "522                   Schindler's List      4436.0           8.3  8.270109   \n",
       "23673                         Whiplash      4376.0           8.3  8.269704   \n",
       "5481                     Spirited Away      3968.0           8.3  8.266628   \n",
       "2211                 Life Is Beautiful      3643.0           8.3  8.263691   \n",
       "1178            The Godfather: Part II      3418.0           8.3  8.261335   \n",
       "1152   One Flew Over the Cuckoo's Nest      3001.0           8.3  8.256051   \n",
       "1176                            Psycho      2405.0           8.3  8.245381   \n",
       "351                       Forrest Gump      8147.0           8.2  8.184252   \n",
       "1184       Once Upon a Time in America      1104.0           8.3  8.183804   \n",
       "1154           The Empire Strikes Back      5998.0           8.2  8.178656   \n",
       "18465                 The Intouchables      5410.0           8.2  8.176357   \n",
       "289             Leon: The Professional      4293.0           8.2  8.170276   \n",
       "3030                    The Green Mile      4166.0           8.2  8.169381   \n",
       "1170                        GoodFellas      3211.0           8.2  8.160414   \n",
       "2216                American History X      3120.0           8.2  8.159278   \n",
       "1161                      12 Angry Men      2130.0           8.2  8.140785   \n",
       "9698              Howl's Moving Castle      2049.0           8.2  8.138499   \n",
       "2884                 Princess Mononoke      2041.0           8.2  8.138264   \n",
       "\n",
       "       runtime  \n",
       "10309    190.0  \n",
       "314      142.0  \n",
       "834      175.0  \n",
       "40251    106.0  \n",
       "12481    152.0  \n",
       "2843     139.0  \n",
       "292      154.0  \n",
       "522      195.0  \n",
       "23673    105.0  \n",
       "5481     125.0  \n",
       "2211     116.0  \n",
       "1178     200.0  \n",
       "1152     133.0  \n",
       "1176     109.0  \n",
       "351      142.0  \n",
       "1184     229.0  \n",
       "1154     124.0  \n",
       "18465    112.0  \n",
       "289      110.0  \n",
       "3030     189.0  \n",
       "1170     145.0  \n",
       "2216     119.0  \n",
       "1161      96.0  \n",
       "9698     119.0  \n",
       "2884     134.0  "
      ]
     },
     "execution_count": 29,
     "metadata": {},
     "output_type": "execute_result"
    }
   ],
   "source": [
    "#ordena o dataset em ordem descendente de acordo com o score\n",
    "q_movies = q_movies.sort_values('score', ascending=False)\n",
    "\n",
    "#Imprime os top 25 filmes\n",
    "q_movies[['title', 'vote_count', 'vote_average', 'score', 'runtime']].head(25)"
   ]
  },
  {
   "cell_type": "markdown",
   "id": "50dbf262-eda8-4adb-840b-331e0d47f682",
   "metadata": {},
   "source": [
    "Obviamente que esse não é um tipo de recomendação personalizada. Ele apenas leva em conta as maiores notas que cada filme presente na base recebeu. A premissa é que, se muitas pessoas assistiram e gostaram, talvez seja uma boa você assistir também.\n",
    "\n",
    "Vamos agora ver outro tipo de sistema de recomendação que já leva em consideração as preferências do usuário. "
   ]
  },
  {
   "cell_type": "markdown",
   "id": "a16416b7-64d4-4187-a979-31e31ca6de11",
   "metadata": {},
   "source": [
    "## Knowledge-based recommender\n",
    "Vamos avançar um pouco e criar um sistema um pouco mais complexo para fazer recomendações. Vamos realizar essas tarefas:\n",
    "\n",
    "* Perguntar ao usuário seus gêneros preferidos\n",
    "* Perguntar ao usuário a duração do filme\n",
    "* Perguntar ao usuário a linha do tempo de filmes recomendados\n",
    "* Usando essas informações coletadas, recomende filmes ao usuário que possuam um alto score e que satisfaça as condições anteriores"
   ]
  },
  {
   "cell_type": "code",
   "execution_count": 30,
   "id": "1d745409-0ff9-42d7-9e75-64156f1c9c7c",
   "metadata": {},
   "outputs": [
    {
     "data": {
      "text/html": [
       "<div>\n",
       "<style scoped>\n",
       "    .dataframe tbody tr th:only-of-type {\n",
       "        vertical-align: middle;\n",
       "    }\n",
       "\n",
       "    .dataframe tbody tr th {\n",
       "        vertical-align: top;\n",
       "    }\n",
       "\n",
       "    .dataframe thead th {\n",
       "        text-align: right;\n",
       "    }\n",
       "</style>\n",
       "<table border=\"1\" class=\"dataframe\">\n",
       "  <thead>\n",
       "    <tr style=\"text-align: right;\">\n",
       "      <th></th>\n",
       "      <th>title</th>\n",
       "      <th>genres</th>\n",
       "      <th>release_date</th>\n",
       "      <th>runtime</th>\n",
       "      <th>vote_average</th>\n",
       "      <th>vote_count</th>\n",
       "    </tr>\n",
       "  </thead>\n",
       "  <tbody>\n",
       "    <tr>\n",
       "      <th>0</th>\n",
       "      <td>Toy Story</td>\n",
       "      <td>[{'id': 16, 'name': 'Animation'}, {'id': 35, '...</td>\n",
       "      <td>1995-10-30</td>\n",
       "      <td>81.0</td>\n",
       "      <td>7.7</td>\n",
       "      <td>5415.0</td>\n",
       "    </tr>\n",
       "    <tr>\n",
       "      <th>1</th>\n",
       "      <td>Jumanji</td>\n",
       "      <td>[{'id': 12, 'name': 'Adventure'}, {'id': 14, '...</td>\n",
       "      <td>1995-12-15</td>\n",
       "      <td>104.0</td>\n",
       "      <td>6.9</td>\n",
       "      <td>2413.0</td>\n",
       "    </tr>\n",
       "    <tr>\n",
       "      <th>2</th>\n",
       "      <td>Grumpier Old Men</td>\n",
       "      <td>[{'id': 10749, 'name': 'Romance'}, {'id': 35, ...</td>\n",
       "      <td>1995-12-22</td>\n",
       "      <td>101.0</td>\n",
       "      <td>6.5</td>\n",
       "      <td>92.0</td>\n",
       "    </tr>\n",
       "    <tr>\n",
       "      <th>3</th>\n",
       "      <td>Waiting to Exhale</td>\n",
       "      <td>[{'id': 35, 'name': 'Comedy'}, {'id': 18, 'nam...</td>\n",
       "      <td>1995-12-22</td>\n",
       "      <td>127.0</td>\n",
       "      <td>6.1</td>\n",
       "      <td>34.0</td>\n",
       "    </tr>\n",
       "    <tr>\n",
       "      <th>4</th>\n",
       "      <td>Father of the Bride Part II</td>\n",
       "      <td>[{'id': 35, 'name': 'Comedy'}]</td>\n",
       "      <td>1995-02-10</td>\n",
       "      <td>106.0</td>\n",
       "      <td>5.7</td>\n",
       "      <td>173.0</td>\n",
       "    </tr>\n",
       "  </tbody>\n",
       "</table>\n",
       "</div>"
      ],
      "text/plain": [
       "                         title  \\\n",
       "0                    Toy Story   \n",
       "1                      Jumanji   \n",
       "2             Grumpier Old Men   \n",
       "3            Waiting to Exhale   \n",
       "4  Father of the Bride Part II   \n",
       "\n",
       "                                              genres release_date  runtime  \\\n",
       "0  [{'id': 16, 'name': 'Animation'}, {'id': 35, '...   1995-10-30     81.0   \n",
       "1  [{'id': 12, 'name': 'Adventure'}, {'id': 14, '...   1995-12-15    104.0   \n",
       "2  [{'id': 10749, 'name': 'Romance'}, {'id': 35, ...   1995-12-22    101.0   \n",
       "3  [{'id': 35, 'name': 'Comedy'}, {'id': 18, 'nam...   1995-12-22    127.0   \n",
       "4                     [{'id': 35, 'name': 'Comedy'}]   1995-02-10    106.0   \n",
       "\n",
       "   vote_average  vote_count  \n",
       "0           7.7      5415.0  \n",
       "1           6.9      2413.0  \n",
       "2           6.5        92.0  \n",
       "3           6.1        34.0  \n",
       "4           5.7       173.0  "
      ]
     },
     "execution_count": 30,
     "metadata": {},
     "output_type": "execute_result"
    }
   ],
   "source": [
    "#vamos usar o mesmo dataset e manter apenas as features de interesse\n",
    "df = df[['title','genres', 'release_date', 'runtime', 'vote_average', 'vote_count']]\n",
    "\n",
    "df.head()"
   ]
  },
  {
   "cell_type": "markdown",
   "id": "066390f3-6d69-4dcf-a7b3-9437292733ac",
   "metadata": {},
   "source": [
    "Vamos extrair o ano de lançamento a partir da coluna *release_date*"
   ]
  },
  {
   "cell_type": "code",
   "execution_count": 31,
   "id": "5e5c649c-e95a-4ac7-97ff-e5b0dbd455c5",
   "metadata": {},
   "outputs": [],
   "source": [
    "df['release_date'] = pd.to_datetime(df['release_date'], errors='coerce')\n",
    "df['year'] = df['release_date'].apply(lambda x: str(x).split('-')[0] if x != np.nan else np.nan)"
   ]
  },
  {
   "cell_type": "code",
   "execution_count": 32,
   "id": "0d9deed2-d44b-4b4c-a802-29633c915606",
   "metadata": {},
   "outputs": [
    {
     "data": {
      "text/plain": [
       "dtype('O')"
      ]
     },
     "execution_count": 32,
     "metadata": {},
     "output_type": "execute_result"
    }
   ],
   "source": [
    "df['year'].dtype"
   ]
  },
  {
   "cell_type": "markdown",
   "id": "89424b46-8408-4e5e-a534-668302c48249",
   "metadata": {},
   "source": [
    "Percebemos que o tipo de dados é objeto, pois existem valores NaT nos dados. Vamos usar uma função para transformar NaT em 0 e todos os demais valores em int"
   ]
  },
  {
   "cell_type": "code",
   "execution_count": 33,
   "id": "8f92c5e5-768f-47ae-83e9-65600ffebe69",
   "metadata": {},
   "outputs": [],
   "source": [
    "def convert_int(x):\n",
    "    try:\n",
    "        return int(x)\n",
    "    except:\n",
    "        return 0\n",
    "    \n",
    "df['year'] = df['year'].apply(convert_int)"
   ]
  },
  {
   "cell_type": "markdown",
   "id": "e7e6aa5c-ee3f-42e1-8cfe-503cf034bea7",
   "metadata": {},
   "source": [
    "Por fim, podemos dropar a coluna *release_date*"
   ]
  },
  {
   "cell_type": "code",
   "execution_count": 34,
   "id": "420ee9d8-a452-4741-bcee-44f58bcbbd37",
   "metadata": {},
   "outputs": [
    {
     "data": {
      "text/html": [
       "<div>\n",
       "<style scoped>\n",
       "    .dataframe tbody tr th:only-of-type {\n",
       "        vertical-align: middle;\n",
       "    }\n",
       "\n",
       "    .dataframe tbody tr th {\n",
       "        vertical-align: top;\n",
       "    }\n",
       "\n",
       "    .dataframe thead th {\n",
       "        text-align: right;\n",
       "    }\n",
       "</style>\n",
       "<table border=\"1\" class=\"dataframe\">\n",
       "  <thead>\n",
       "    <tr style=\"text-align: right;\">\n",
       "      <th></th>\n",
       "      <th>title</th>\n",
       "      <th>genres</th>\n",
       "      <th>runtime</th>\n",
       "      <th>vote_average</th>\n",
       "      <th>vote_count</th>\n",
       "      <th>year</th>\n",
       "    </tr>\n",
       "  </thead>\n",
       "  <tbody>\n",
       "    <tr>\n",
       "      <th>0</th>\n",
       "      <td>Toy Story</td>\n",
       "      <td>[{'id': 16, 'name': 'Animation'}, {'id': 35, '...</td>\n",
       "      <td>81.0</td>\n",
       "      <td>7.7</td>\n",
       "      <td>5415.0</td>\n",
       "      <td>1995</td>\n",
       "    </tr>\n",
       "    <tr>\n",
       "      <th>1</th>\n",
       "      <td>Jumanji</td>\n",
       "      <td>[{'id': 12, 'name': 'Adventure'}, {'id': 14, '...</td>\n",
       "      <td>104.0</td>\n",
       "      <td>6.9</td>\n",
       "      <td>2413.0</td>\n",
       "      <td>1995</td>\n",
       "    </tr>\n",
       "    <tr>\n",
       "      <th>2</th>\n",
       "      <td>Grumpier Old Men</td>\n",
       "      <td>[{'id': 10749, 'name': 'Romance'}, {'id': 35, ...</td>\n",
       "      <td>101.0</td>\n",
       "      <td>6.5</td>\n",
       "      <td>92.0</td>\n",
       "      <td>1995</td>\n",
       "    </tr>\n",
       "    <tr>\n",
       "      <th>3</th>\n",
       "      <td>Waiting to Exhale</td>\n",
       "      <td>[{'id': 35, 'name': 'Comedy'}, {'id': 18, 'nam...</td>\n",
       "      <td>127.0</td>\n",
       "      <td>6.1</td>\n",
       "      <td>34.0</td>\n",
       "      <td>1995</td>\n",
       "    </tr>\n",
       "    <tr>\n",
       "      <th>4</th>\n",
       "      <td>Father of the Bride Part II</td>\n",
       "      <td>[{'id': 35, 'name': 'Comedy'}]</td>\n",
       "      <td>106.0</td>\n",
       "      <td>5.7</td>\n",
       "      <td>173.0</td>\n",
       "      <td>1995</td>\n",
       "    </tr>\n",
       "  </tbody>\n",
       "</table>\n",
       "</div>"
      ],
      "text/plain": [
       "                         title  \\\n",
       "0                    Toy Story   \n",
       "1                      Jumanji   \n",
       "2             Grumpier Old Men   \n",
       "3            Waiting to Exhale   \n",
       "4  Father of the Bride Part II   \n",
       "\n",
       "                                              genres  runtime  vote_average  \\\n",
       "0  [{'id': 16, 'name': 'Animation'}, {'id': 35, '...     81.0           7.7   \n",
       "1  [{'id': 12, 'name': 'Adventure'}, {'id': 14, '...    104.0           6.9   \n",
       "2  [{'id': 10749, 'name': 'Romance'}, {'id': 35, ...    101.0           6.5   \n",
       "3  [{'id': 35, 'name': 'Comedy'}, {'id': 18, 'nam...    127.0           6.1   \n",
       "4                     [{'id': 35, 'name': 'Comedy'}]    106.0           5.7   \n",
       "\n",
       "   vote_count  year  \n",
       "0      5415.0  1995  \n",
       "1      2413.0  1995  \n",
       "2        92.0  1995  \n",
       "3        34.0  1995  \n",
       "4       173.0  1995  "
      ]
     },
     "execution_count": 34,
     "metadata": {},
     "output_type": "execute_result"
    }
   ],
   "source": [
    "df = df.drop('release_date', axis=1)\n",
    "df.head()"
   ]
  },
  {
   "cell_type": "markdown",
   "id": "5d0f82ec-be3c-456e-8159-d615daa98b73",
   "metadata": {},
   "source": [
    "Agora, precisamos lidar com a feature *genres*, que a princípio, se parece com um json. Vamos ver um exemplo:"
   ]
  },
  {
   "cell_type": "code",
   "execution_count": 35,
   "id": "7e943510-4dc6-4e62-917c-4d5f4f24ea57",
   "metadata": {},
   "outputs": [
    {
     "data": {
      "text/plain": [
       "\"[{'id': 16, 'name': 'Animation'}, {'id': 35, 'name': 'Comedy'}, {'id': 10751, 'name': 'Family'}]\""
      ]
     },
     "execution_count": 35,
     "metadata": {},
     "output_type": "execute_result"
    }
   ],
   "source": [
    "df.iloc[0]['genres']"
   ]
  },
  {
   "cell_type": "markdown",
   "id": "2194f9f5-6570-4c1e-afd8-6e9816bf2e25",
   "metadata": {},
   "source": [
    "Para que essa feature seja usável, é importante convertermos ela para um dicionário nativo do Python. A função *literal_eval* faz exatamente isso. Veja um exemplo:"
   ]
  },
  {
   "cell_type": "code",
   "execution_count": 36,
   "id": "b03fc9dc-e33f-4dc3-b698-baf0ed539dc2",
   "metadata": {},
   "outputs": [
    {
     "name": "stdout",
     "output_type": "stream",
     "text": [
      "<class 'str'>\n",
      "<class 'list'>\n"
     ]
    }
   ],
   "source": [
    "from ast import literal_eval\n",
    "\n",
    "a = \"[1,2,3]\"\n",
    "print(type(a))\n",
    "\n",
    "b = literal_eval(a)\n",
    "print(type(b))\n"
   ]
  },
  {
   "cell_type": "markdown",
   "id": "5d3e2116-68cc-40b1-b15a-beee0de55825",
   "metadata": {},
   "source": [
    "Agora, podemos aplicar nos nossos dados"
   ]
  },
  {
   "cell_type": "code",
   "execution_count": 37,
   "id": "fc41ed2c-a9ea-4d88-b9eb-46a40654600c",
   "metadata": {},
   "outputs": [],
   "source": [
    "#converte todos os NaN em strings de listas vazias\n",
    "df['genres'] = df['genres'].fillna('[]')\n",
    "\n",
    "#Applica literal_eval para converter para list\n",
    "df['genres'] = df['genres'].apply(literal_eval)\n",
    "\n",
    "#Converte lista de dicionário em lista de string\n",
    "df['genres'] = df['genres'].apply(lambda x: [i['name'].lower() for i in x] if isinstance(x, list) else [])\n"
   ]
  },
  {
   "cell_type": "code",
   "execution_count": 38,
   "id": "1ef39a74-4d54-48f5-a311-92f3e97c12f1",
   "metadata": {},
   "outputs": [
    {
     "data": {
      "text/html": [
       "<div>\n",
       "<style scoped>\n",
       "    .dataframe tbody tr th:only-of-type {\n",
       "        vertical-align: middle;\n",
       "    }\n",
       "\n",
       "    .dataframe tbody tr th {\n",
       "        vertical-align: top;\n",
       "    }\n",
       "\n",
       "    .dataframe thead th {\n",
       "        text-align: right;\n",
       "    }\n",
       "</style>\n",
       "<table border=\"1\" class=\"dataframe\">\n",
       "  <thead>\n",
       "    <tr style=\"text-align: right;\">\n",
       "      <th></th>\n",
       "      <th>title</th>\n",
       "      <th>genres</th>\n",
       "      <th>runtime</th>\n",
       "      <th>vote_average</th>\n",
       "      <th>vote_count</th>\n",
       "      <th>year</th>\n",
       "    </tr>\n",
       "  </thead>\n",
       "  <tbody>\n",
       "    <tr>\n",
       "      <th>0</th>\n",
       "      <td>Toy Story</td>\n",
       "      <td>[animation, comedy, family]</td>\n",
       "      <td>81.0</td>\n",
       "      <td>7.7</td>\n",
       "      <td>5415.0</td>\n",
       "      <td>1995</td>\n",
       "    </tr>\n",
       "    <tr>\n",
       "      <th>1</th>\n",
       "      <td>Jumanji</td>\n",
       "      <td>[adventure, fantasy, family]</td>\n",
       "      <td>104.0</td>\n",
       "      <td>6.9</td>\n",
       "      <td>2413.0</td>\n",
       "      <td>1995</td>\n",
       "    </tr>\n",
       "    <tr>\n",
       "      <th>2</th>\n",
       "      <td>Grumpier Old Men</td>\n",
       "      <td>[romance, comedy]</td>\n",
       "      <td>101.0</td>\n",
       "      <td>6.5</td>\n",
       "      <td>92.0</td>\n",
       "      <td>1995</td>\n",
       "    </tr>\n",
       "    <tr>\n",
       "      <th>3</th>\n",
       "      <td>Waiting to Exhale</td>\n",
       "      <td>[comedy, drama, romance]</td>\n",
       "      <td>127.0</td>\n",
       "      <td>6.1</td>\n",
       "      <td>34.0</td>\n",
       "      <td>1995</td>\n",
       "    </tr>\n",
       "    <tr>\n",
       "      <th>4</th>\n",
       "      <td>Father of the Bride Part II</td>\n",
       "      <td>[comedy]</td>\n",
       "      <td>106.0</td>\n",
       "      <td>5.7</td>\n",
       "      <td>173.0</td>\n",
       "      <td>1995</td>\n",
       "    </tr>\n",
       "  </tbody>\n",
       "</table>\n",
       "</div>"
      ],
      "text/plain": [
       "                         title                        genres  runtime  \\\n",
       "0                    Toy Story   [animation, comedy, family]     81.0   \n",
       "1                      Jumanji  [adventure, fantasy, family]    104.0   \n",
       "2             Grumpier Old Men             [romance, comedy]    101.0   \n",
       "3            Waiting to Exhale      [comedy, drama, romance]    127.0   \n",
       "4  Father of the Bride Part II                      [comedy]    106.0   \n",
       "\n",
       "   vote_average  vote_count  year  \n",
       "0           7.7      5415.0  1995  \n",
       "1           6.9      2413.0  1995  \n",
       "2           6.5        92.0  1995  \n",
       "3           6.1        34.0  1995  \n",
       "4           5.7       173.0  1995  "
      ]
     },
     "execution_count": 38,
     "metadata": {},
     "output_type": "execute_result"
    }
   ],
   "source": [
    "df.head()"
   ]
  },
  {
   "cell_type": "markdown",
   "id": "347ddc4a-247d-494d-9bca-69874d215595",
   "metadata": {},
   "source": [
    "Entretanto, esse formato não é útil para nós. Precisamos fazer algo chamado explode, que consiste em criar múltiplas cópias do filme, uma para cada gênero que ele possui, cada uma com um gênero. "
   ]
  },
  {
   "cell_type": "code",
   "execution_count": 39,
   "id": "95686508-f34e-438c-9e11-77d524c995eb",
   "metadata": {},
   "outputs": [
    {
     "data": {
      "text/html": [
       "<div>\n",
       "<style scoped>\n",
       "    .dataframe tbody tr th:only-of-type {\n",
       "        vertical-align: middle;\n",
       "    }\n",
       "\n",
       "    .dataframe tbody tr th {\n",
       "        vertical-align: top;\n",
       "    }\n",
       "\n",
       "    .dataframe thead th {\n",
       "        text-align: right;\n",
       "    }\n",
       "</style>\n",
       "<table border=\"1\" class=\"dataframe\">\n",
       "  <thead>\n",
       "    <tr style=\"text-align: right;\">\n",
       "      <th></th>\n",
       "      <th>title</th>\n",
       "      <th>runtime</th>\n",
       "      <th>vote_average</th>\n",
       "      <th>vote_count</th>\n",
       "      <th>year</th>\n",
       "      <th>genre</th>\n",
       "    </tr>\n",
       "  </thead>\n",
       "  <tbody>\n",
       "    <tr>\n",
       "      <th>0</th>\n",
       "      <td>Toy Story</td>\n",
       "      <td>81.0</td>\n",
       "      <td>7.7</td>\n",
       "      <td>5415.0</td>\n",
       "      <td>1995</td>\n",
       "      <td>animation</td>\n",
       "    </tr>\n",
       "    <tr>\n",
       "      <th>0</th>\n",
       "      <td>Toy Story</td>\n",
       "      <td>81.0</td>\n",
       "      <td>7.7</td>\n",
       "      <td>5415.0</td>\n",
       "      <td>1995</td>\n",
       "      <td>comedy</td>\n",
       "    </tr>\n",
       "    <tr>\n",
       "      <th>0</th>\n",
       "      <td>Toy Story</td>\n",
       "      <td>81.0</td>\n",
       "      <td>7.7</td>\n",
       "      <td>5415.0</td>\n",
       "      <td>1995</td>\n",
       "      <td>family</td>\n",
       "    </tr>\n",
       "    <tr>\n",
       "      <th>1</th>\n",
       "      <td>Jumanji</td>\n",
       "      <td>104.0</td>\n",
       "      <td>6.9</td>\n",
       "      <td>2413.0</td>\n",
       "      <td>1995</td>\n",
       "      <td>adventure</td>\n",
       "    </tr>\n",
       "    <tr>\n",
       "      <th>1</th>\n",
       "      <td>Jumanji</td>\n",
       "      <td>104.0</td>\n",
       "      <td>6.9</td>\n",
       "      <td>2413.0</td>\n",
       "      <td>1995</td>\n",
       "      <td>fantasy</td>\n",
       "    </tr>\n",
       "  </tbody>\n",
       "</table>\n",
       "</div>"
      ],
      "text/plain": [
       "       title  runtime  vote_average  vote_count  year      genre\n",
       "0  Toy Story     81.0           7.7      5415.0  1995  animation\n",
       "0  Toy Story     81.0           7.7      5415.0  1995     comedy\n",
       "0  Toy Story     81.0           7.7      5415.0  1995     family\n",
       "1    Jumanji    104.0           6.9      2413.0  1995  adventure\n",
       "1    Jumanji    104.0           6.9      2413.0  1995    fantasy"
      ]
     },
     "execution_count": 39,
     "metadata": {},
     "output_type": "execute_result"
    }
   ],
   "source": [
    "s = df.apply(lambda x: pd.Series(x['genres']),axis=1).stack().reset_index(level=1, drop=True)\n",
    "s.name = 'genre'\n",
    "gen_df = df.drop('genres', axis=1).join(s)\n",
    "gen_df.head()"
   ]
  },
  {
   "cell_type": "markdown",
   "id": "f208ca30-1c9e-4c09-b953-7db69db4bf8a",
   "metadata": {},
   "source": [
    "Agora estamos prontos para criar uma função que irá agir como nosso recommender. Vamos criar os seguintes passos: \n",
    "\n",
    "* Obter o input do usuário sobre suas preferências\n",
    "* Extrair todos os filmes que dão match com as condições do usuário\n",
    "* Calcular o valor de $m$ e $C$ apenas para esses filmes e construir a lista de recomendação como vimos anteriormente"
   ]
  },
  {
   "cell_type": "code",
   "execution_count": 40,
   "id": "fb9ce8dd-1580-48d2-96b3-b9bf90ece0a0",
   "metadata": {},
   "outputs": [],
   "source": [
    "def build_chart(gen_df, percentile=0.8):\n",
    "    \n",
    "    print(\"Diga seu gênero preferido:\")\n",
    "    genre = input()\n",
    "\n",
    "    print(\"Duração mínima:\")\n",
    "    low_time = int(input())\n",
    "    \n",
    "    print(\"Duração máxima:\")\n",
    "    high_time = int(input())\n",
    "\n",
    "    print(\"Ano de lançamento mínimo\")\n",
    "    low_year = int(input())\n",
    "\n",
    "    print(\"Ano de lançamento máximo\")\n",
    "    high_year = int(input())\n",
    "    \n",
    "    #Cria uma nova variável\n",
    "    movies = gen_df.copy()\n",
    "    \n",
    "    #Filtra os filmes baseados nas condições fornecidas\n",
    "    movies = movies[(movies['genre'] == genre) & \n",
    "                    (movies['runtime'] >= low_time) & \n",
    "                    (movies['runtime'] <= high_time) & \n",
    "                    (movies['year'] >= low_year) & \n",
    "                    (movies['year'] <= high_year)]\n",
    "    \n",
    "    #Calcula o valor de C e m\n",
    "    C = movies['vote_average'].mean()\n",
    "    m = movies['vote_count'].quantile(percentile)\n",
    "    \n",
    "    #considera apenas filmes com mais que m votos\n",
    "    q_movies = movies.copy().loc[movies['vote_count'] >= m]\n",
    "    \n",
    "    #Calcula o score\n",
    "    q_movies['score'] = q_movies.apply(lambda x: (x['vote_count']/(x['vote_count']+m) * x['vote_average']) \n",
    "                                       + (m/(m+x['vote_count']) * C)\n",
    "                                       ,axis=1)\n",
    "\n",
    "    #Ordena os filmes de maneira descendente\n",
    "    q_movies = q_movies.sort_values('score', ascending=False)\n",
    "    \n",
    "    return q_movies"
   ]
  },
  {
   "cell_type": "code",
   "execution_count": 41,
   "id": "18d3778c-f0d7-43b4-ac2a-ccb45affde02",
   "metadata": {},
   "outputs": [
    {
     "name": "stdout",
     "output_type": "stream",
     "text": [
      "Diga seu gênero preferido:\n",
      "Duração mínima:\n",
      "Duração máxima:\n",
      "Ano de lançamento mínimo\n",
      "Ano de lançamento máximo\n"
     ]
    },
    {
     "data": {
      "text/html": [
       "<div>\n",
       "<style scoped>\n",
       "    .dataframe tbody tr th:only-of-type {\n",
       "        vertical-align: middle;\n",
       "    }\n",
       "\n",
       "    .dataframe tbody tr th {\n",
       "        vertical-align: top;\n",
       "    }\n",
       "\n",
       "    .dataframe thead th {\n",
       "        text-align: right;\n",
       "    }\n",
       "</style>\n",
       "<table border=\"1\" class=\"dataframe\">\n",
       "  <thead>\n",
       "    <tr style=\"text-align: right;\">\n",
       "      <th></th>\n",
       "      <th>title</th>\n",
       "      <th>runtime</th>\n",
       "      <th>vote_average</th>\n",
       "      <th>vote_count</th>\n",
       "      <th>year</th>\n",
       "      <th>genre</th>\n",
       "      <th>score</th>\n",
       "    </tr>\n",
       "  </thead>\n",
       "  <tbody>\n",
       "    <tr>\n",
       "      <th>1154</th>\n",
       "      <td>The Empire Strikes Back</td>\n",
       "      <td>124.0</td>\n",
       "      <td>8.2</td>\n",
       "      <td>5998.0</td>\n",
       "      <td>1980</td>\n",
       "      <td>action</td>\n",
       "      <td>8.145861</td>\n",
       "    </tr>\n",
       "    <tr>\n",
       "      <th>2458</th>\n",
       "      <td>The Matrix</td>\n",
       "      <td>136.0</td>\n",
       "      <td>7.9</td>\n",
       "      <td>9079.0</td>\n",
       "      <td>1999</td>\n",
       "      <td>action</td>\n",
       "      <td>7.868089</td>\n",
       "    </tr>\n",
       "    <tr>\n",
       "      <th>3456</th>\n",
       "      <td>Gladiator</td>\n",
       "      <td>155.0</td>\n",
       "      <td>7.9</td>\n",
       "      <td>5566.0</td>\n",
       "      <td>2000</td>\n",
       "      <td>action</td>\n",
       "      <td>7.848393</td>\n",
       "    </tr>\n",
       "    <tr>\n",
       "      <th>1167</th>\n",
       "      <td>Return of the Jedi</td>\n",
       "      <td>135.0</td>\n",
       "      <td>7.9</td>\n",
       "      <td>4763.0</td>\n",
       "      <td>1983</td>\n",
       "      <td>action</td>\n",
       "      <td>7.839917</td>\n",
       "    </tr>\n",
       "    <tr>\n",
       "      <th>582</th>\n",
       "      <td>Terminator 2: Judgment Day</td>\n",
       "      <td>137.0</td>\n",
       "      <td>7.7</td>\n",
       "      <td>4274.0</td>\n",
       "      <td>1991</td>\n",
       "      <td>action</td>\n",
       "      <td>7.638967</td>\n",
       "    </tr>\n",
       "  </tbody>\n",
       "</table>\n",
       "</div>"
      ],
      "text/plain": [
       "                           title  runtime  vote_average  vote_count  year  \\\n",
       "1154     The Empire Strikes Back    124.0           8.2      5998.0  1980   \n",
       "2458                  The Matrix    136.0           7.9      9079.0  1999   \n",
       "3456                   Gladiator    155.0           7.9      5566.0  2000   \n",
       "1167          Return of the Jedi    135.0           7.9      4763.0  1983   \n",
       "582   Terminator 2: Judgment Day    137.0           7.7      4274.0  1991   \n",
       "\n",
       "       genre     score  \n",
       "1154  action  8.145861  \n",
       "2458  action  7.868089  \n",
       "3456  action  7.848393  \n",
       "1167  action  7.839917  \n",
       "582   action  7.638967  "
      ]
     },
     "execution_count": 41,
     "metadata": {},
     "output_type": "execute_result"
    }
   ],
   "source": [
    "# testa a função\n",
    "build_chart(gen_df).head()"
   ]
  },
  {
   "cell_type": "code",
   "execution_count": 42,
   "id": "c0886844-2847-439a-8025-d0fada55d8c6",
   "metadata": {},
   "outputs": [],
   "source": [
    "#salvando os dados para serem usados posteriormente\n",
    "df.to_csv('dados/metadata_clean.csv', index=False)"
   ]
  },
  {
   "cell_type": "markdown",
   "id": "eb11edf5-6fae-4c33-bfe2-2752d935f959",
   "metadata": {},
   "source": [
    "É um tipo de recomendação que leva em consideração os gostos do usuário, mas não considera o seu histórico e é custosa para ele, visto que ele teria que ficar inserindo essas informações toda vez que fosse procurar um filme. Além disso, ela é estática. Só seria alterada caso novos filmes fossem inseridos no conjunto de dados.\n",
    "\n",
    "Vamos agora usar modelos mais complexos para construir uma recomendação personalizada. "
   ]
  },
  {
   "cell_type": "markdown",
   "id": "0259a274-6139-43e8-a1c2-bee858bd9b17",
   "metadata": {},
   "source": [
    "## Filtros baseados em conteúdo\n",
    "\n",
    "Os recommenders que construímos anteriormente são extremamente primitivos. O Simple Recommender não leva em consideração as preferências individuais e, enquanto o Knowledge Recommender leva em consideração a preferência do usuário por gêneros, época de lançamento e duração, o modelo continua ainda muito genérico. \n",
    "\n",
    "Por exemplo, se uma pessoa gosta dos filmes The Dark Knight, Homem de Ferro e Superman, claramente ele tem uma preferência por filmes de superheróis. Entretanto, nosso modelo não será capaz de capturar tais detalhes. O máximo que conseguirá fazer é fornecer recomendações de filmes de ação, o que é gênero maior que envolve os filmes de superheróis. \n",
    "\n",
    "Poderíamos solicitar ao usuário mais informações sobre seus gostos e criar, por exemplo, uma categoria sub-gênero. No entanto, não temos informação pra isso e capturar todas as informações necessárias via usuário seria maçante e muito custoso. \n",
    "\n",
    "Ao invés disso, o que os usuários costumam fazer é **classificar seus filmes favoritos e o sistema apresenta a eles os mais similares.** \n",
    "\n",
    "Aqui, vamos construir dois tipos de filtros baseados em conteúdo:\n",
    "\n",
    "1. Recommender baseado na descrição dos filmes\n",
    "    > Ele vai comparar a descrição de diferentes filmes e prover recomendações de filmes que possuam descrição similar\n",
    "\n",
    "2. Recommender baseado em metadados\n",
    "    > Ele usa como features gêneros, keywords, cast, entre outros e faz recomendações baseadas nessas características"
   ]
  },
  {
   "cell_type": "markdown",
   "id": "0a4280e5-742c-47b6-9c18-206a62da02ea",
   "metadata": {},
   "source": [
    "#### Recommender baseado na descrição dos filmes"
   ]
  },
  {
   "cell_type": "code",
   "execution_count": 43,
   "id": "e902f114-ce2f-4829-b742-1cbe76832b24",
   "metadata": {},
   "outputs": [
    {
     "data": {
      "text/html": [
       "<div>\n",
       "<style scoped>\n",
       "    .dataframe tbody tr th:only-of-type {\n",
       "        vertical-align: middle;\n",
       "    }\n",
       "\n",
       "    .dataframe tbody tr th {\n",
       "        vertical-align: top;\n",
       "    }\n",
       "\n",
       "    .dataframe thead th {\n",
       "        text-align: right;\n",
       "    }\n",
       "</style>\n",
       "<table border=\"1\" class=\"dataframe\">\n",
       "  <thead>\n",
       "    <tr style=\"text-align: right;\">\n",
       "      <th></th>\n",
       "      <th>title</th>\n",
       "      <th>genres</th>\n",
       "      <th>runtime</th>\n",
       "      <th>vote_average</th>\n",
       "      <th>vote_count</th>\n",
       "      <th>year</th>\n",
       "    </tr>\n",
       "  </thead>\n",
       "  <tbody>\n",
       "    <tr>\n",
       "      <th>0</th>\n",
       "      <td>Toy Story</td>\n",
       "      <td>['animation', 'comedy', 'family']</td>\n",
       "      <td>81.0</td>\n",
       "      <td>7.7</td>\n",
       "      <td>5415.0</td>\n",
       "      <td>1995</td>\n",
       "    </tr>\n",
       "    <tr>\n",
       "      <th>1</th>\n",
       "      <td>Jumanji</td>\n",
       "      <td>['adventure', 'fantasy', 'family']</td>\n",
       "      <td>104.0</td>\n",
       "      <td>6.9</td>\n",
       "      <td>2413.0</td>\n",
       "      <td>1995</td>\n",
       "    </tr>\n",
       "    <tr>\n",
       "      <th>2</th>\n",
       "      <td>Grumpier Old Men</td>\n",
       "      <td>['romance', 'comedy']</td>\n",
       "      <td>101.0</td>\n",
       "      <td>6.5</td>\n",
       "      <td>92.0</td>\n",
       "      <td>1995</td>\n",
       "    </tr>\n",
       "    <tr>\n",
       "      <th>3</th>\n",
       "      <td>Waiting to Exhale</td>\n",
       "      <td>['comedy', 'drama', 'romance']</td>\n",
       "      <td>127.0</td>\n",
       "      <td>6.1</td>\n",
       "      <td>34.0</td>\n",
       "      <td>1995</td>\n",
       "    </tr>\n",
       "    <tr>\n",
       "      <th>4</th>\n",
       "      <td>Father of the Bride Part II</td>\n",
       "      <td>['comedy']</td>\n",
       "      <td>106.0</td>\n",
       "      <td>5.7</td>\n",
       "      <td>173.0</td>\n",
       "      <td>1995</td>\n",
       "    </tr>\n",
       "  </tbody>\n",
       "</table>\n",
       "</div>"
      ],
      "text/plain": [
       "                         title                              genres  runtime  \\\n",
       "0                    Toy Story   ['animation', 'comedy', 'family']     81.0   \n",
       "1                      Jumanji  ['adventure', 'fantasy', 'family']    104.0   \n",
       "2             Grumpier Old Men               ['romance', 'comedy']    101.0   \n",
       "3            Waiting to Exhale      ['comedy', 'drama', 'romance']    127.0   \n",
       "4  Father of the Bride Part II                          ['comedy']    106.0   \n",
       "\n",
       "   vote_average  vote_count  year  \n",
       "0           7.7      5415.0  1995  \n",
       "1           6.9      2413.0  1995  \n",
       "2           6.5        92.0  1995  \n",
       "3           6.1        34.0  1995  \n",
       "4           5.7       173.0  1995  "
      ]
     },
     "execution_count": 43,
     "metadata": {},
     "output_type": "execute_result"
    }
   ],
   "source": [
    "df = pd.read_csv('dados/metadata_clean.csv')\n",
    "df.head()"
   ]
  },
  {
   "cell_type": "markdown",
   "id": "06db980e-671d-4c82-b210-837d140f3ca5",
   "metadata": {},
   "source": [
    "Essencialmente, os modelos que estamos construíndo calcula a similaridade entre os textos das descrições, mas como conseguimos quantificar a similaridade entre dois textos? \n",
    "\n",
    "Bem, vamos usar as técnicas que vimos rapidamente durante a aula: vetorização. Mais precisamente, vamos trabalhar com o TI-IDF. \n",
    "\n",
    "Basicamente, nosso modelo irá receber o título do filme como argumento e retornar uma lista de filmes similares baseada na descrição. Estes são os passos que vamos executar para construir nosso modelo:\n",
    "\n",
    "* Obter os dados requeridos para construir o modelo\n",
    "* Criar vetorização usando TF-IDF para cada filme\n",
    "* Calcular a similaridade do cosseno par-a-par para cada filme\n",
    "* Escrever uma função que recebe um título de filme como entrada e retorna uma lista de filmes similares\n",
    "\n",
    "Olhando nossos dados, não temos a descrição dos filmes, mas isso é facilmente recuperado a partir dos dados originais. Vamos fazer isso:"
   ]
  },
  {
   "cell_type": "code",
   "execution_count": 44,
   "id": "2480133a-0e49-482f-9277-bf68f84b7484",
   "metadata": {},
   "outputs": [
    {
     "data": {
      "text/html": [
       "<div>\n",
       "<style scoped>\n",
       "    .dataframe tbody tr th:only-of-type {\n",
       "        vertical-align: middle;\n",
       "    }\n",
       "\n",
       "    .dataframe tbody tr th {\n",
       "        vertical-align: top;\n",
       "    }\n",
       "\n",
       "    .dataframe thead th {\n",
       "        text-align: right;\n",
       "    }\n",
       "</style>\n",
       "<table border=\"1\" class=\"dataframe\">\n",
       "  <thead>\n",
       "    <tr style=\"text-align: right;\">\n",
       "      <th></th>\n",
       "      <th>title</th>\n",
       "      <th>genres</th>\n",
       "      <th>runtime</th>\n",
       "      <th>vote_average</th>\n",
       "      <th>vote_count</th>\n",
       "      <th>year</th>\n",
       "      <th>overview</th>\n",
       "      <th>id</th>\n",
       "    </tr>\n",
       "  </thead>\n",
       "  <tbody>\n",
       "    <tr>\n",
       "      <th>0</th>\n",
       "      <td>Toy Story</td>\n",
       "      <td>['animation', 'comedy', 'family']</td>\n",
       "      <td>81.0</td>\n",
       "      <td>7.7</td>\n",
       "      <td>5415.0</td>\n",
       "      <td>1995</td>\n",
       "      <td>Led by Woody, Andy's toys live happily in his ...</td>\n",
       "      <td>862</td>\n",
       "    </tr>\n",
       "    <tr>\n",
       "      <th>1</th>\n",
       "      <td>Jumanji</td>\n",
       "      <td>['adventure', 'fantasy', 'family']</td>\n",
       "      <td>104.0</td>\n",
       "      <td>6.9</td>\n",
       "      <td>2413.0</td>\n",
       "      <td>1995</td>\n",
       "      <td>When siblings Judy and Peter discover an encha...</td>\n",
       "      <td>8844</td>\n",
       "    </tr>\n",
       "    <tr>\n",
       "      <th>2</th>\n",
       "      <td>Grumpier Old Men</td>\n",
       "      <td>['romance', 'comedy']</td>\n",
       "      <td>101.0</td>\n",
       "      <td>6.5</td>\n",
       "      <td>92.0</td>\n",
       "      <td>1995</td>\n",
       "      <td>A family wedding reignites the ancient feud be...</td>\n",
       "      <td>15602</td>\n",
       "    </tr>\n",
       "    <tr>\n",
       "      <th>3</th>\n",
       "      <td>Waiting to Exhale</td>\n",
       "      <td>['comedy', 'drama', 'romance']</td>\n",
       "      <td>127.0</td>\n",
       "      <td>6.1</td>\n",
       "      <td>34.0</td>\n",
       "      <td>1995</td>\n",
       "      <td>Cheated on, mistreated and stepped on, the wom...</td>\n",
       "      <td>31357</td>\n",
       "    </tr>\n",
       "    <tr>\n",
       "      <th>4</th>\n",
       "      <td>Father of the Bride Part II</td>\n",
       "      <td>['comedy']</td>\n",
       "      <td>106.0</td>\n",
       "      <td>5.7</td>\n",
       "      <td>173.0</td>\n",
       "      <td>1995</td>\n",
       "      <td>Just when George Banks has recovered from his ...</td>\n",
       "      <td>11862</td>\n",
       "    </tr>\n",
       "  </tbody>\n",
       "</table>\n",
       "</div>"
      ],
      "text/plain": [
       "                         title                              genres  runtime  \\\n",
       "0                    Toy Story   ['animation', 'comedy', 'family']     81.0   \n",
       "1                      Jumanji  ['adventure', 'fantasy', 'family']    104.0   \n",
       "2             Grumpier Old Men               ['romance', 'comedy']    101.0   \n",
       "3            Waiting to Exhale      ['comedy', 'drama', 'romance']    127.0   \n",
       "4  Father of the Bride Part II                          ['comedy']    106.0   \n",
       "\n",
       "   vote_average  vote_count  year  \\\n",
       "0           7.7      5415.0  1995   \n",
       "1           6.9      2413.0  1995   \n",
       "2           6.5        92.0  1995   \n",
       "3           6.1        34.0  1995   \n",
       "4           5.7       173.0  1995   \n",
       "\n",
       "                                            overview     id  \n",
       "0  Led by Woody, Andy's toys live happily in his ...    862  \n",
       "1  When siblings Judy and Peter discover an encha...   8844  \n",
       "2  A family wedding reignites the ancient feud be...  15602  \n",
       "3  Cheated on, mistreated and stepped on, the wom...  31357  \n",
       "4  Just when George Banks has recovered from his ...  11862  "
      ]
     },
     "execution_count": 44,
     "metadata": {},
     "output_type": "execute_result"
    }
   ],
   "source": [
    "orig_df = pd.read_csv('dados/movies_metadata.csv', low_memory=False)\n",
    "\n",
    "#Adiciona as informações necessárias no nosso dataseet\n",
    "df['overview'], df['id'] = orig_df['overview'], orig_df['id']\n",
    "df.head()\n"
   ]
  },
  {
   "cell_type": "markdown",
   "id": "598d3c20-947c-44b3-97a0-afb7c56503cb",
   "metadata": {},
   "source": [
    "Vamos usar a coluna *overview* para construir esse modelo e a coluna *id* para construir o próximo.\n",
    "\n",
    "O próximo passo agora é realizar a vetorização dos dados. Vamos usar Scikit-Learn para fazer isso:"
   ]
  },
  {
   "cell_type": "code",
   "execution_count": 45,
   "id": "81699c42-e44a-41fd-b522-21780a6faada",
   "metadata": {},
   "outputs": [
    {
     "data": {
      "text/plain": [
       "(45466, 75827)"
      ]
     },
     "execution_count": 45,
     "metadata": {},
     "output_type": "execute_result"
    }
   ],
   "source": [
    "from sklearn.feature_extraction.text import TfidfVectorizer\n",
    "\n",
    "tfidf = TfidfVectorizer(stop_words='english')\n",
    "\n",
    "#Caso haja algum review vazio, é preenchido com uma string\n",
    "df['overview'] = df['overview'].fillna('')\n",
    "\n",
    "#constrói a matriz TF-IDF\n",
    "tfidf_matrix = tfidf.fit_transform(df['overview'])\n",
    "tfidf_matrix.shape #qtde de amostras, qtde de features"
   ]
  },
  {
   "cell_type": "markdown",
   "id": "b58a8c09-e66b-4d3f-a3af-0d9118c03f61",
   "metadata": {},
   "source": [
    "O próximo passo é construir uma matriz que conterá a similaridade do cosseno par a par para cada filme, ou seja, vamos criar uma matriz de 45466x45466 em que a célula na linha $i$ e coluna $j$ representa a similaridade entre os filmes $i$ e $j$. Novamente, SKlearn vem para nos ajudar com uma função pronta:"
   ]
  },
  {
   "cell_type": "code",
   "execution_count": 46,
   "id": "787c02cc-6c25-4cd5-ad5b-6b55155a84bb",
   "metadata": {},
   "outputs": [],
   "source": [
    "from sklearn.metrics.pairwise import linear_kernel\n",
    "\n",
    "# Calcula a matriz de similaridade do cosseno\n",
    "cosine_sim = linear_kernel(tfidf_matrix, tfidf_matrix)\n"
   ]
  },
  {
   "cell_type": "markdown",
   "id": "cf2e89d8-7ece-40fe-ae85-80f5beed9411",
   "metadata": {},
   "source": [
    "O passo final é construir a função de recomendação. Antes disso, porém, vamos um mapeamento entre índice e título de filmes para facilitar a recuperação do nome dos filmes"
   ]
  },
  {
   "cell_type": "code",
   "execution_count": 47,
   "id": "73d9acdf-93af-44ef-ba45-f138f673cd66",
   "metadata": {},
   "outputs": [],
   "source": [
    "indices = pd.Series(df.index, index=df['title']).drop_duplicates()"
   ]
  },
  {
   "cell_type": "code",
   "execution_count": 48,
   "id": "11b8cf99-ddb3-4ce1-841c-aa0a0fec1316",
   "metadata": {},
   "outputs": [],
   "source": [
    "def content_recommender(title, cosine_sim=cosine_sim, df=df, indices=indices):\n",
    "    # obtém o índice do filme dado o título \n",
    "    idx = indices[title]\n",
    "\n",
    "    # obtém o score de similaridade par a par de todos os filmes com o filme em questão\n",
    "    # e converte numa lista de tuplas\n",
    "    sim_scores = list(enumerate(cosine_sim[idx]))\n",
    "\n",
    "    # Ordena os filmes baseados na similaridade do cosseno\n",
    "    sim_scores = sorted(sim_scores, key=lambda x: x[1], reverse=True)\n",
    "\n",
    "    # Obtém o score dos dez mais similares, ignorando o primeiro(próprio filme).\n",
    "    sim_scores = sim_scores[1:11]\n",
    "\n",
    "    # Obtém o índice dos filmes\n",
    "    movie_indices = [i[0] for i in sim_scores]\n",
    "\n",
    "    # Retorna o título dos 10 mais similares\n",
    "    return df['title'].iloc[movie_indices]"
   ]
  },
  {
   "cell_type": "code",
   "execution_count": 49,
   "id": "2f9fa5ca-7324-4384-8a25-53ca76f7ff93",
   "metadata": {},
   "outputs": [
    {
     "data": {
      "text/plain": [
       "44161                        A Detective Story\n",
       "44167                              Kid's Story\n",
       "44163                             World Record\n",
       "33854                                Algorithm\n",
       "167                                    Hackers\n",
       "20707    Underground: The Julian Assange Story\n",
       "6515                                  Commando\n",
       "24202                                 Who Am I\n",
       "22085                           Berlin Express\n",
       "9159                                  Takedown\n",
       "Name: title, dtype: object"
      ]
     },
     "execution_count": 49,
     "metadata": {},
     "output_type": "execute_result"
    }
   ],
   "source": [
    "content_recommender('The Matrix')"
   ]
  },
  {
   "cell_type": "markdown",
   "id": "48882782-1189-4fb6-932a-c117ae135281",
   "metadata": {},
   "source": [
    "Percebemos que nosso recommender funciona relativamente bem. A maioria das recomendações fazem sentido já que, de uma maneira ou outra, trata de filmes com leões em suas descrições. Entretanto, quem assistiu o Rei Leão, provavelmente gostaria de ver recomendação de filmes das disney, mas nosso recommender não consegue capturar essas nuances. \n",
    "\n",
    "Felizmente, temos uma maneira de resolver esse problema. É o que vamos fazer com o Recommender baseado em metadados"
   ]
  },
  {
   "cell_type": "markdown",
   "id": "2853bb37-0ead-4464-a3a1-8d906bcc794d",
   "metadata": {},
   "source": [
    "#### Recommender baseado em metadados\n",
    "Basicamente, vamos seguir os mesmos passos na criação de nosso recommender. Entretanto, os dados a serem usados serão diferentes. Basicamente, vamos usar os seguintes metadados:\n",
    "\n",
    "* Gênero  do filme\n",
    "* O diretor do filme\n",
    "* Três maiores estrelas do filme\n",
    "* Sub-gêneros ou keywords\n",
    "\n",
    "Para isso, vamos precisar de dois arquivos adicionais:"
   ]
  },
  {
   "cell_type": "code",
   "execution_count": 50,
   "id": "8d245514-201f-419e-81d9-26c6b30ed5fd",
   "metadata": {},
   "outputs": [],
   "source": [
    "cred_df = pd.read_csv('dados/credits.csv')\n",
    "key_df = pd.read_csv('dados/keywords.csv')\n"
   ]
  },
  {
   "cell_type": "code",
   "execution_count": 51,
   "id": "4877b1c9-1914-4b99-899e-3ab365e3ce33",
   "metadata": {},
   "outputs": [
    {
     "data": {
      "text/html": [
       "<div>\n",
       "<style scoped>\n",
       "    .dataframe tbody tr th:only-of-type {\n",
       "        vertical-align: middle;\n",
       "    }\n",
       "\n",
       "    .dataframe tbody tr th {\n",
       "        vertical-align: top;\n",
       "    }\n",
       "\n",
       "    .dataframe thead th {\n",
       "        text-align: right;\n",
       "    }\n",
       "</style>\n",
       "<table border=\"1\" class=\"dataframe\">\n",
       "  <thead>\n",
       "    <tr style=\"text-align: right;\">\n",
       "      <th></th>\n",
       "      <th>cast</th>\n",
       "      <th>crew</th>\n",
       "      <th>id</th>\n",
       "    </tr>\n",
       "  </thead>\n",
       "  <tbody>\n",
       "    <tr>\n",
       "      <th>0</th>\n",
       "      <td>[{'cast_id': 14, 'character': 'Woody (voice)',...</td>\n",
       "      <td>[{'credit_id': '52fe4284c3a36847f8024f49', 'de...</td>\n",
       "      <td>862</td>\n",
       "    </tr>\n",
       "    <tr>\n",
       "      <th>1</th>\n",
       "      <td>[{'cast_id': 1, 'character': 'Alan Parrish', '...</td>\n",
       "      <td>[{'credit_id': '52fe44bfc3a36847f80a7cd1', 'de...</td>\n",
       "      <td>8844</td>\n",
       "    </tr>\n",
       "    <tr>\n",
       "      <th>2</th>\n",
       "      <td>[{'cast_id': 2, 'character': 'Max Goldman', 'c...</td>\n",
       "      <td>[{'credit_id': '52fe466a9251416c75077a89', 'de...</td>\n",
       "      <td>15602</td>\n",
       "    </tr>\n",
       "    <tr>\n",
       "      <th>3</th>\n",
       "      <td>[{'cast_id': 1, 'character': \"Savannah 'Vannah...</td>\n",
       "      <td>[{'credit_id': '52fe44779251416c91011acb', 'de...</td>\n",
       "      <td>31357</td>\n",
       "    </tr>\n",
       "    <tr>\n",
       "      <th>4</th>\n",
       "      <td>[{'cast_id': 1, 'character': 'George Banks', '...</td>\n",
       "      <td>[{'credit_id': '52fe44959251416c75039ed7', 'de...</td>\n",
       "      <td>11862</td>\n",
       "    </tr>\n",
       "  </tbody>\n",
       "</table>\n",
       "</div>"
      ],
      "text/plain": [
       "                                                cast  \\\n",
       "0  [{'cast_id': 14, 'character': 'Woody (voice)',...   \n",
       "1  [{'cast_id': 1, 'character': 'Alan Parrish', '...   \n",
       "2  [{'cast_id': 2, 'character': 'Max Goldman', 'c...   \n",
       "3  [{'cast_id': 1, 'character': \"Savannah 'Vannah...   \n",
       "4  [{'cast_id': 1, 'character': 'George Banks', '...   \n",
       "\n",
       "                                                crew     id  \n",
       "0  [{'credit_id': '52fe4284c3a36847f8024f49', 'de...    862  \n",
       "1  [{'credit_id': '52fe44bfc3a36847f80a7cd1', 'de...   8844  \n",
       "2  [{'credit_id': '52fe466a9251416c75077a89', 'de...  15602  \n",
       "3  [{'credit_id': '52fe44779251416c91011acb', 'de...  31357  \n",
       "4  [{'credit_id': '52fe44959251416c75039ed7', 'de...  11862  "
      ]
     },
     "execution_count": 51,
     "metadata": {},
     "output_type": "execute_result"
    }
   ],
   "source": [
    "cred_df.head()"
   ]
  },
  {
   "cell_type": "code",
   "execution_count": 52,
   "id": "2fd0f19e-53b9-4e41-ae9f-8b0282663cc2",
   "metadata": {},
   "outputs": [
    {
     "data": {
      "text/plain": [
       "46419"
      ]
     },
     "execution_count": 52,
     "metadata": {},
     "output_type": "execute_result"
    }
   ],
   "source": [
    "len(key_df)"
   ]
  },
  {
   "cell_type": "code",
   "execution_count": 53,
   "id": "49f47e59-5a21-44fa-9d9d-98d77a69b774",
   "metadata": {},
   "outputs": [
    {
     "data": {
      "text/html": [
       "<div>\n",
       "<style scoped>\n",
       "    .dataframe tbody tr th:only-of-type {\n",
       "        vertical-align: middle;\n",
       "    }\n",
       "\n",
       "    .dataframe tbody tr th {\n",
       "        vertical-align: top;\n",
       "    }\n",
       "\n",
       "    .dataframe thead th {\n",
       "        text-align: right;\n",
       "    }\n",
       "</style>\n",
       "<table border=\"1\" class=\"dataframe\">\n",
       "  <thead>\n",
       "    <tr style=\"text-align: right;\">\n",
       "      <th></th>\n",
       "      <th>id</th>\n",
       "      <th>keywords</th>\n",
       "    </tr>\n",
       "  </thead>\n",
       "  <tbody>\n",
       "    <tr>\n",
       "      <th>0</th>\n",
       "      <td>862</td>\n",
       "      <td>[{'id': 931, 'name': 'jealousy'}, {'id': 4290,...</td>\n",
       "    </tr>\n",
       "    <tr>\n",
       "      <th>1</th>\n",
       "      <td>8844</td>\n",
       "      <td>[{'id': 10090, 'name': 'board game'}, {'id': 1...</td>\n",
       "    </tr>\n",
       "    <tr>\n",
       "      <th>2</th>\n",
       "      <td>15602</td>\n",
       "      <td>[{'id': 1495, 'name': 'fishing'}, {'id': 12392...</td>\n",
       "    </tr>\n",
       "    <tr>\n",
       "      <th>3</th>\n",
       "      <td>31357</td>\n",
       "      <td>[{'id': 818, 'name': 'based on novel'}, {'id':...</td>\n",
       "    </tr>\n",
       "    <tr>\n",
       "      <th>4</th>\n",
       "      <td>11862</td>\n",
       "      <td>[{'id': 1009, 'name': 'baby'}, {'id': 1599, 'n...</td>\n",
       "    </tr>\n",
       "  </tbody>\n",
       "</table>\n",
       "</div>"
      ],
      "text/plain": [
       "      id                                           keywords\n",
       "0    862  [{'id': 931, 'name': 'jealousy'}, {'id': 4290,...\n",
       "1   8844  [{'id': 10090, 'name': 'board game'}, {'id': 1...\n",
       "2  15602  [{'id': 1495, 'name': 'fishing'}, {'id': 12392...\n",
       "3  31357  [{'id': 818, 'name': 'based on novel'}, {'id':...\n",
       "4  11862  [{'id': 1009, 'name': 'baby'}, {'id': 1599, 'n..."
      ]
     },
     "execution_count": 53,
     "metadata": {},
     "output_type": "execute_result"
    }
   ],
   "source": [
    "key_df.head()"
   ]
  },
  {
   "cell_type": "markdown",
   "id": "a8f7c6fd-efa4-4874-b3b5-216f68f245f4",
   "metadata": {},
   "source": [
    "Podemos ver que as informações do cast, equipe técnica (crew) e keywords estão na forma de lista de dicionários. Assim como fizemos anteriormente com gênero, precisamos reduzie isso a uma string ou lista de strings. \n",
    "\n",
    "Antes disso, porém, vamos agrupar nossos três DataFrames de modo que todas as nossas features estejam num lugar só. Para fazer o join, vamos o *id* e, para evitar erros, vamos tratar os ids, já que temos \"1997-08-20\" como ID.  "
   ]
  },
  {
   "cell_type": "code",
   "execution_count": 54,
   "id": "c10daaa4-8e98-4e2c-9eb9-ddcb59908c53",
   "metadata": {},
   "outputs": [],
   "source": [
    "def clean_ids(x):\n",
    "    try:\n",
    "        return int(x)\n",
    "    except:\n",
    "        return np.nan"
   ]
  },
  {
   "cell_type": "code",
   "execution_count": 55,
   "id": "1e532e3d-273d-4d98-98a1-0df38cc10aaf",
   "metadata": {},
   "outputs": [],
   "source": [
    "df['id'] = df['id'].apply(clean_ids)\n",
    "df = df[df['id'].notnull()]"
   ]
  },
  {
   "cell_type": "markdown",
   "id": "0554e787-dce4-4898-8085-b9d0d2897405",
   "metadata": {},
   "source": [
    "Agora podemos converter todos os IDs em int e agrupar os DataFrames"
   ]
  },
  {
   "cell_type": "code",
   "execution_count": 56,
   "id": "426ce863-46cf-4dee-9553-98c01157f8e6",
   "metadata": {},
   "outputs": [
    {
     "name": "stderr",
     "output_type": "stream",
     "text": [
      "/var/folders/b6/6gbr51r91pz6skgbf3cz9lvc0000gn/T/ipykernel_56331/571838465.py:1: SettingWithCopyWarning: \n",
      "A value is trying to be set on a copy of a slice from a DataFrame.\n",
      "Try using .loc[row_indexer,col_indexer] = value instead\n",
      "\n",
      "See the caveats in the documentation: https://pandas.pydata.org/pandas-docs/stable/user_guide/indexing.html#returning-a-view-versus-a-copy\n",
      "  df['id'] = df['id'].astype(int)\n"
     ]
    },
    {
     "data": {
      "text/html": [
       "<div>\n",
       "<style scoped>\n",
       "    .dataframe tbody tr th:only-of-type {\n",
       "        vertical-align: middle;\n",
       "    }\n",
       "\n",
       "    .dataframe tbody tr th {\n",
       "        vertical-align: top;\n",
       "    }\n",
       "\n",
       "    .dataframe thead th {\n",
       "        text-align: right;\n",
       "    }\n",
       "</style>\n",
       "<table border=\"1\" class=\"dataframe\">\n",
       "  <thead>\n",
       "    <tr style=\"text-align: right;\">\n",
       "      <th></th>\n",
       "      <th>title</th>\n",
       "      <th>genres</th>\n",
       "      <th>runtime</th>\n",
       "      <th>vote_average</th>\n",
       "      <th>vote_count</th>\n",
       "      <th>year</th>\n",
       "      <th>overview</th>\n",
       "      <th>id</th>\n",
       "      <th>cast</th>\n",
       "      <th>crew</th>\n",
       "      <th>keywords</th>\n",
       "    </tr>\n",
       "  </thead>\n",
       "  <tbody>\n",
       "    <tr>\n",
       "      <th>0</th>\n",
       "      <td>Toy Story</td>\n",
       "      <td>['animation', 'comedy', 'family']</td>\n",
       "      <td>81.0</td>\n",
       "      <td>7.7</td>\n",
       "      <td>5415.0</td>\n",
       "      <td>1995</td>\n",
       "      <td>Led by Woody, Andy's toys live happily in his ...</td>\n",
       "      <td>862</td>\n",
       "      <td>[{'cast_id': 14, 'character': 'Woody (voice)',...</td>\n",
       "      <td>[{'credit_id': '52fe4284c3a36847f8024f49', 'de...</td>\n",
       "      <td>[{'id': 931, 'name': 'jealousy'}, {'id': 4290,...</td>\n",
       "    </tr>\n",
       "    <tr>\n",
       "      <th>1</th>\n",
       "      <td>Jumanji</td>\n",
       "      <td>['adventure', 'fantasy', 'family']</td>\n",
       "      <td>104.0</td>\n",
       "      <td>6.9</td>\n",
       "      <td>2413.0</td>\n",
       "      <td>1995</td>\n",
       "      <td>When siblings Judy and Peter discover an encha...</td>\n",
       "      <td>8844</td>\n",
       "      <td>[{'cast_id': 1, 'character': 'Alan Parrish', '...</td>\n",
       "      <td>[{'credit_id': '52fe44bfc3a36847f80a7cd1', 'de...</td>\n",
       "      <td>[{'id': 10090, 'name': 'board game'}, {'id': 1...</td>\n",
       "    </tr>\n",
       "    <tr>\n",
       "      <th>2</th>\n",
       "      <td>Grumpier Old Men</td>\n",
       "      <td>['romance', 'comedy']</td>\n",
       "      <td>101.0</td>\n",
       "      <td>6.5</td>\n",
       "      <td>92.0</td>\n",
       "      <td>1995</td>\n",
       "      <td>A family wedding reignites the ancient feud be...</td>\n",
       "      <td>15602</td>\n",
       "      <td>[{'cast_id': 2, 'character': 'Max Goldman', 'c...</td>\n",
       "      <td>[{'credit_id': '52fe466a9251416c75077a89', 'de...</td>\n",
       "      <td>[{'id': 1495, 'name': 'fishing'}, {'id': 12392...</td>\n",
       "    </tr>\n",
       "    <tr>\n",
       "      <th>3</th>\n",
       "      <td>Waiting to Exhale</td>\n",
       "      <td>['comedy', 'drama', 'romance']</td>\n",
       "      <td>127.0</td>\n",
       "      <td>6.1</td>\n",
       "      <td>34.0</td>\n",
       "      <td>1995</td>\n",
       "      <td>Cheated on, mistreated and stepped on, the wom...</td>\n",
       "      <td>31357</td>\n",
       "      <td>[{'cast_id': 1, 'character': \"Savannah 'Vannah...</td>\n",
       "      <td>[{'credit_id': '52fe44779251416c91011acb', 'de...</td>\n",
       "      <td>[{'id': 818, 'name': 'based on novel'}, {'id':...</td>\n",
       "    </tr>\n",
       "    <tr>\n",
       "      <th>4</th>\n",
       "      <td>Father of the Bride Part II</td>\n",
       "      <td>['comedy']</td>\n",
       "      <td>106.0</td>\n",
       "      <td>5.7</td>\n",
       "      <td>173.0</td>\n",
       "      <td>1995</td>\n",
       "      <td>Just when George Banks has recovered from his ...</td>\n",
       "      <td>11862</td>\n",
       "      <td>[{'cast_id': 1, 'character': 'George Banks', '...</td>\n",
       "      <td>[{'credit_id': '52fe44959251416c75039ed7', 'de...</td>\n",
       "      <td>[{'id': 1009, 'name': 'baby'}, {'id': 1599, 'n...</td>\n",
       "    </tr>\n",
       "  </tbody>\n",
       "</table>\n",
       "</div>"
      ],
      "text/plain": [
       "                         title                              genres  runtime  \\\n",
       "0                    Toy Story   ['animation', 'comedy', 'family']     81.0   \n",
       "1                      Jumanji  ['adventure', 'fantasy', 'family']    104.0   \n",
       "2             Grumpier Old Men               ['romance', 'comedy']    101.0   \n",
       "3            Waiting to Exhale      ['comedy', 'drama', 'romance']    127.0   \n",
       "4  Father of the Bride Part II                          ['comedy']    106.0   \n",
       "\n",
       "   vote_average  vote_count  year  \\\n",
       "0           7.7      5415.0  1995   \n",
       "1           6.9      2413.0  1995   \n",
       "2           6.5        92.0  1995   \n",
       "3           6.1        34.0  1995   \n",
       "4           5.7       173.0  1995   \n",
       "\n",
       "                                            overview     id  \\\n",
       "0  Led by Woody, Andy's toys live happily in his ...    862   \n",
       "1  When siblings Judy and Peter discover an encha...   8844   \n",
       "2  A family wedding reignites the ancient feud be...  15602   \n",
       "3  Cheated on, mistreated and stepped on, the wom...  31357   \n",
       "4  Just when George Banks has recovered from his ...  11862   \n",
       "\n",
       "                                                cast  \\\n",
       "0  [{'cast_id': 14, 'character': 'Woody (voice)',...   \n",
       "1  [{'cast_id': 1, 'character': 'Alan Parrish', '...   \n",
       "2  [{'cast_id': 2, 'character': 'Max Goldman', 'c...   \n",
       "3  [{'cast_id': 1, 'character': \"Savannah 'Vannah...   \n",
       "4  [{'cast_id': 1, 'character': 'George Banks', '...   \n",
       "\n",
       "                                                crew  \\\n",
       "0  [{'credit_id': '52fe4284c3a36847f8024f49', 'de...   \n",
       "1  [{'credit_id': '52fe44bfc3a36847f80a7cd1', 'de...   \n",
       "2  [{'credit_id': '52fe466a9251416c75077a89', 'de...   \n",
       "3  [{'credit_id': '52fe44779251416c91011acb', 'de...   \n",
       "4  [{'credit_id': '52fe44959251416c75039ed7', 'de...   \n",
       "\n",
       "                                            keywords  \n",
       "0  [{'id': 931, 'name': 'jealousy'}, {'id': 4290,...  \n",
       "1  [{'id': 10090, 'name': 'board game'}, {'id': 1...  \n",
       "2  [{'id': 1495, 'name': 'fishing'}, {'id': 12392...  \n",
       "3  [{'id': 818, 'name': 'based on novel'}, {'id':...  \n",
       "4  [{'id': 1009, 'name': 'baby'}, {'id': 1599, 'n...  "
      ]
     },
     "execution_count": 56,
     "metadata": {},
     "output_type": "execute_result"
    }
   ],
   "source": [
    "df['id'] = df['id'].astype(int)\n",
    "key_df['id'] = key_df['id'].astype(int)\n",
    "cred_df['id'] = cred_df['id'].astype(int)\n",
    "\n",
    "df = df.merge(cred_df, on='id')\n",
    "df = df.merge(key_df, on='id')\n",
    "df.head()\n"
   ]
  },
  {
   "cell_type": "markdown",
   "id": "96bc8501-ee64-4099-baa1-4f0585a16d24",
   "metadata": {},
   "source": [
    "Agora que temos todas as features num único Dataframe, vamos transformá-las num formáto útil. Especificamente, essas são as transformações que iremos executar:\n",
    "\n",
    "* Converter *keywords* numa lista de string (vamos inclur somente as top 3)\n",
    "* Converter *cast* numa lista de string (vamos incluir somente as top 3)\n",
    "* De *crew*, vamos recuperar somente o diretor"
   ]
  },
  {
   "cell_type": "code",
   "execution_count": 57,
   "id": "8954ba2e-0cd6-4770-afff-082f4ee044cb",
   "metadata": {},
   "outputs": [],
   "source": [
    "#convertendo em objetos python\n",
    "features = ['cast', 'crew', 'keywords', 'genres']\n",
    "for feature in features:\n",
    "    df[feature] = df[feature].apply(literal_eval)"
   ]
  },
  {
   "cell_type": "markdown",
   "id": "2b2c6a73-5394-492b-a4bf-e88c41228f48",
   "metadata": {},
   "source": [
    "Para extrair o nome do diretor, vamos analisar um objeto:"
   ]
  },
  {
   "cell_type": "code",
   "execution_count": 58,
   "id": "02da204e-1ecb-4246-b789-52d14a24541e",
   "metadata": {},
   "outputs": [
    {
     "data": {
      "text/plain": [
       "{'credit_id': '52fe4284c3a36847f8024f49',\n",
       " 'department': 'Directing',\n",
       " 'gender': 2,\n",
       " 'id': 7879,\n",
       " 'job': 'Director',\n",
       " 'name': 'John Lasseter',\n",
       " 'profile_path': '/7EdqiNbr4FRjIhKHyPPdFfEEEFG.jpg'}"
      ]
     },
     "execution_count": 58,
     "metadata": {},
     "output_type": "execute_result"
    }
   ],
   "source": [
    "df.iloc[0]['crew'][0]"
   ]
  },
  {
   "cell_type": "markdown",
   "id": "45a5ee33-a643-455a-8d52-7bbd5378ac89",
   "metadata": {},
   "source": [
    "Assim, vamos criar uma função que olhe somente para a key 'name' e recupera a informação desejada. "
   ]
  },
  {
   "cell_type": "code",
   "execution_count": 59,
   "id": "2b166fb5-fa71-4039-9149-e653d3534a43",
   "metadata": {},
   "outputs": [],
   "source": [
    "def get_director(x):\n",
    "    for crew_member in x:\n",
    "        if crew_member['job'] == 'Director':\n",
    "            return crew_member['name']\n",
    "    return np.nan"
   ]
  },
  {
   "cell_type": "code",
   "execution_count": 60,
   "id": "58014962-9f2c-4a17-a4c8-a2ca978f983c",
   "metadata": {},
   "outputs": [
    {
     "data": {
      "text/plain": [
       "0      John Lasseter\n",
       "1       Joe Johnston\n",
       "2      Howard Deutch\n",
       "3    Forest Whitaker\n",
       "4      Charles Shyer\n",
       "Name: director, dtype: object"
      ]
     },
     "execution_count": 60,
     "metadata": {},
     "output_type": "execute_result"
    }
   ],
   "source": [
    "df['director'] = df['crew'].apply(get_director)\n",
    "df['director'].head()"
   ]
  },
  {
   "cell_type": "markdown",
   "id": "1f9652dd-b6ad-4391-967f-bc4acc4b2e35",
   "metadata": {},
   "source": [
    "*keywords* e *cast* são lista de dicionários e precisamos extrair o top 3 do atributo 'names'. Vamos escrever uma função que faça isso:"
   ]
  },
  {
   "cell_type": "code",
   "execution_count": 61,
   "id": "eeec2c9c-d86b-4a33-bfcd-f4e37164a64a",
   "metadata": {},
   "outputs": [],
   "source": [
    "def generate_list(x):\n",
    "    if isinstance(x, list):\n",
    "        names = [i['name'] for i in x]\n",
    "        #Se tiver mais que tres, retorna somente os tres primeiros\n",
    "        if len(names) > 3:\n",
    "            names = names[:3]\n",
    "        return names\n",
    "\n",
    "    #retorna uma lista vazia, caso nao tenha tres\n",
    "    return []"
   ]
  },
  {
   "cell_type": "code",
   "execution_count": 62,
   "id": "fde19bd6-789f-4043-90f4-6e3b241dcb6f",
   "metadata": {},
   "outputs": [],
   "source": [
    "df['cast'] = df['cast'].apply(generate_list)\n",
    "df['keywords'] = df['keywords'].apply(generate_list)"
   ]
  },
  {
   "cell_type": "code",
   "execution_count": 63,
   "id": "0dbcb747-1ff0-4e91-b90f-4c7ae3e479c0",
   "metadata": {},
   "outputs": [],
   "source": [
    "#recuperando somentes os top 3 generos\n",
    "df['genres'] = df['genres'].apply(lambda x: x[:3])"
   ]
  },
  {
   "cell_type": "code",
   "execution_count": 64,
   "id": "0deb418a-8aae-4622-b1cb-4a3a852479e7",
   "metadata": {},
   "outputs": [
    {
     "data": {
      "text/html": [
       "<div>\n",
       "<style scoped>\n",
       "    .dataframe tbody tr th:only-of-type {\n",
       "        vertical-align: middle;\n",
       "    }\n",
       "\n",
       "    .dataframe tbody tr th {\n",
       "        vertical-align: top;\n",
       "    }\n",
       "\n",
       "    .dataframe thead th {\n",
       "        text-align: right;\n",
       "    }\n",
       "</style>\n",
       "<table border=\"1\" class=\"dataframe\">\n",
       "  <thead>\n",
       "    <tr style=\"text-align: right;\">\n",
       "      <th></th>\n",
       "      <th>title</th>\n",
       "      <th>cast</th>\n",
       "      <th>director</th>\n",
       "      <th>keywords</th>\n",
       "      <th>genres</th>\n",
       "    </tr>\n",
       "  </thead>\n",
       "  <tbody>\n",
       "    <tr>\n",
       "      <th>0</th>\n",
       "      <td>Toy Story</td>\n",
       "      <td>[Tom Hanks, Tim Allen, Don Rickles]</td>\n",
       "      <td>John Lasseter</td>\n",
       "      <td>[jealousy, toy, boy]</td>\n",
       "      <td>[animation, comedy, family]</td>\n",
       "    </tr>\n",
       "    <tr>\n",
       "      <th>1</th>\n",
       "      <td>Jumanji</td>\n",
       "      <td>[Robin Williams, Jonathan Hyde, Kirsten Dunst]</td>\n",
       "      <td>Joe Johnston</td>\n",
       "      <td>[board game, disappearance, based on children'...</td>\n",
       "      <td>[adventure, fantasy, family]</td>\n",
       "    </tr>\n",
       "    <tr>\n",
       "      <th>2</th>\n",
       "      <td>Grumpier Old Men</td>\n",
       "      <td>[Walter Matthau, Jack Lemmon, Ann-Margret]</td>\n",
       "      <td>Howard Deutch</td>\n",
       "      <td>[fishing, best friend, duringcreditsstinger]</td>\n",
       "      <td>[romance, comedy]</td>\n",
       "    </tr>\n",
       "    <tr>\n",
       "      <th>3</th>\n",
       "      <td>Waiting to Exhale</td>\n",
       "      <td>[Whitney Houston, Angela Bassett, Loretta Devine]</td>\n",
       "      <td>Forest Whitaker</td>\n",
       "      <td>[based on novel, interracial relationship, sin...</td>\n",
       "      <td>[comedy, drama, romance]</td>\n",
       "    </tr>\n",
       "    <tr>\n",
       "      <th>4</th>\n",
       "      <td>Father of the Bride Part II</td>\n",
       "      <td>[Steve Martin, Diane Keaton, Martin Short]</td>\n",
       "      <td>Charles Shyer</td>\n",
       "      <td>[baby, midlife crisis, confidence]</td>\n",
       "      <td>[comedy]</td>\n",
       "    </tr>\n",
       "  </tbody>\n",
       "</table>\n",
       "</div>"
      ],
      "text/plain": [
       "                         title  \\\n",
       "0                    Toy Story   \n",
       "1                      Jumanji   \n",
       "2             Grumpier Old Men   \n",
       "3            Waiting to Exhale   \n",
       "4  Father of the Bride Part II   \n",
       "\n",
       "                                                cast         director  \\\n",
       "0                [Tom Hanks, Tim Allen, Don Rickles]    John Lasseter   \n",
       "1     [Robin Williams, Jonathan Hyde, Kirsten Dunst]     Joe Johnston   \n",
       "2         [Walter Matthau, Jack Lemmon, Ann-Margret]    Howard Deutch   \n",
       "3  [Whitney Houston, Angela Bassett, Loretta Devine]  Forest Whitaker   \n",
       "4         [Steve Martin, Diane Keaton, Martin Short]    Charles Shyer   \n",
       "\n",
       "                                            keywords  \\\n",
       "0                               [jealousy, toy, boy]   \n",
       "1  [board game, disappearance, based on children'...   \n",
       "2       [fishing, best friend, duringcreditsstinger]   \n",
       "3  [based on novel, interracial relationship, sin...   \n",
       "4                 [baby, midlife crisis, confidence]   \n",
       "\n",
       "                         genres  \n",
       "0   [animation, comedy, family]  \n",
       "1  [adventure, fantasy, family]  \n",
       "2             [romance, comedy]  \n",
       "3      [comedy, drama, romance]  \n",
       "4                      [comedy]  "
      ]
     },
     "execution_count": 64,
     "metadata": {},
     "output_type": "execute_result"
    }
   ],
   "source": [
    "#vamos verificar como ficou nosso DataFrame\n",
    "df[['title', 'cast', 'director', 'keywords', 'genres']].head()"
   ]
  },
  {
   "cell_type": "markdown",
   "id": "6c9ddd82-a4bb-47e4-a23b-3a50a91f9650",
   "metadata": {},
   "source": [
    "Por último, precisamos criar uma função simples para preparar esses textos. Vamos remover os espaços em branco dos nomes de cast e director (de modo que Ryan Reynolds e Ryan Gosling sejam tratados de forma diferente) e colocar todos os textos em minúsculas. "
   ]
  },
  {
   "cell_type": "code",
   "execution_count": 65,
   "id": "3d222480-b364-422d-a2a7-554494942a8b",
   "metadata": {},
   "outputs": [],
   "source": [
    "def sanitize(x):\n",
    "    if isinstance(x, list):\n",
    "        #remove espaço em branco e coloca em minúscula\n",
    "        return [str.lower(i.replace(\" \", \"\")) for i in x]\n",
    "    else:\n",
    "        #s nao tiver diretor, retorna uma string vazia\n",
    "        if isinstance(x, str):\n",
    "            return str.lower(x.replace(\" \", \"\"))\n",
    "        else:\n",
    "            return ''"
   ]
  },
  {
   "cell_type": "code",
   "execution_count": 66,
   "id": "c061ee24-7719-4697-bc19-4421601b782f",
   "metadata": {},
   "outputs": [],
   "source": [
    "for feature in ['cast', 'director', 'genres', 'keywords']:\n",
    "    df[feature] = df[feature].apply(sanitize)"
   ]
  },
  {
   "cell_type": "markdown",
   "id": "362fbb12-612f-4803-85cd-fc8b67004e79",
   "metadata": {},
   "source": [
    "Antes de aplicar a vetorização, no entanto, precisamos concatenar todas as features que temos numa só. "
   ]
  },
  {
   "cell_type": "code",
   "execution_count": 67,
   "id": "ba966f05-45c0-4d58-ad86-fbef469c5b7d",
   "metadata": {},
   "outputs": [],
   "source": [
    "def create_feat(x):\n",
    "    return ' '.join(x['keywords']) + ' ' + ' '.join(x['cast']) + ' ' + x['director'] + ' ' + ' '.join(x['genres'])"
   ]
  },
  {
   "cell_type": "code",
   "execution_count": 68,
   "id": "1a96696b-2838-410d-a16c-e84141a4a27a",
   "metadata": {},
   "outputs": [],
   "source": [
    "df['feature'] = df.apply(create_feat, axis=1)"
   ]
  },
  {
   "cell_type": "code",
   "execution_count": 69,
   "id": "0c597b89-70eb-48d7-b810-bd53d5737a6c",
   "metadata": {},
   "outputs": [
    {
     "data": {
      "text/plain": [
       "'jealousy toy boy tomhanks timallen donrickles johnlasseter animation comedy family'"
      ]
     },
     "execution_count": 69,
     "metadata": {},
     "output_type": "execute_result"
    }
   ],
   "source": [
    "df.iloc[0]['feature']"
   ]
  },
  {
   "cell_type": "markdown",
   "id": "480feca2-a229-4abe-98fa-4ba3289cdb4b",
   "metadata": {},
   "source": [
    "Agora estamos prontos para realizar a vetorização. Ao invés de usar TF-IDF, vamos usar o BoW (obtido através de CountVectorizer). Isso porque o TFIDI irá dar um peso menor para atores e diretores que atuaram e dirigiram um grande número de filmes."
   ]
  },
  {
   "cell_type": "code",
   "execution_count": 70,
   "id": "8fd8f93b-af0b-4029-9803-4e772452b5a9",
   "metadata": {},
   "outputs": [
    {
     "data": {
      "text/plain": [
       "0        jealousy toy boy tomhanks timallen donrickles ...\n",
       "1        boardgame disappearance basedonchildren'sbook ...\n",
       "2        fishing bestfriend duringcreditsstinger walter...\n",
       "3        basedonnovel interracialrelationship singlemot...\n",
       "4        baby midlifecrisis confidence stevemartin dian...\n",
       "                               ...                        \n",
       "46623    tragiclove leilahatami kouroshtahami elhamkord...\n",
       "46624    artist play pinoy angelaquino perrydizon hazel...\n",
       "46625     erikaeleniak adambaldwin juliedupage markl.le...\n",
       "46626     iwanmosschuchin nathalielissenko pavelpavlov ...\n",
       "46627                                        daisyasquith \n",
       "Name: feature, Length: 46628, dtype: object"
      ]
     },
     "execution_count": 70,
     "metadata": {},
     "output_type": "execute_result"
    }
   ],
   "source": [
    "df['feature'][0:60000]"
   ]
  },
  {
   "cell_type": "code",
   "execution_count": 71,
   "id": "204a9cfa-d1fa-445d-8e25-6cc3db3d0fd2",
   "metadata": {},
   "outputs": [],
   "source": [
    "from sklearn.feature_extraction.text import CountVectorizer\n",
    "\n",
    "count = CountVectorizer(stop_words='english')\n",
    "count_matrix = count.fit_transform(df['feature']) #se der problema de memória, reduza a quantidade de linhas: df['feature'][0:30000]\n"
   ]
  },
  {
   "cell_type": "code",
   "execution_count": 72,
   "id": "31d6cdf6-53e5-47c3-936f-f1ed972a2228",
   "metadata": {},
   "outputs": [],
   "source": [
    "#calcula a similaridade par a par\n",
    "from sklearn.metrics.pairwise import cosine_similarity\n",
    "cosine_sim2 = cosine_similarity(count_matrix, count_matrix)"
   ]
  },
  {
   "cell_type": "markdown",
   "id": "fc216acd-30c2-4e03-99f3-f2a68571c785",
   "metadata": {},
   "source": [
    "Construindo o mapeamento para recuperar o nome dos filmes"
   ]
  },
  {
   "cell_type": "code",
   "execution_count": 73,
   "id": "aecd49fd-d3ba-4bbd-a812-0d4d121c4ac9",
   "metadata": {},
   "outputs": [],
   "source": [
    "df = df.reset_index()\n",
    "indices2 = pd.Series(df.index, index=df['title'])"
   ]
  },
  {
   "cell_type": "markdown",
   "id": "88feb9b8-974f-4229-ae0a-3c7702477813",
   "metadata": {},
   "source": [
    "Agora estamos prontos para usar nosso recommender"
   ]
  },
  {
   "cell_type": "code",
   "execution_count": 75,
   "id": "0491cc11-5072-4705-b550-eba016bb37b3",
   "metadata": {},
   "outputs": [
    {
     "data": {
      "text/plain": [
       "6290                    The Matrix Reloaded\n",
       "6852                 The Matrix Revolutions\n",
       "6457     Terminator 3: Rise of the Machines\n",
       "45332                           Kid's Story\n",
       "7993                               I, Robot\n",
       "730                      Ghost in the Shell\n",
       "1216                         The Terminator\n",
       "9453                          The Animatrix\n",
       "13844                  Terminator Salvation\n",
       "26066                    Terminator Genisys\n",
       "Name: title, dtype: object"
      ]
     },
     "execution_count": 75,
     "metadata": {},
     "output_type": "execute_result"
    }
   ],
   "source": [
    "content_recommender('The Matrix', cosine_sim2, df, indices2)"
   ]
  },
  {
   "cell_type": "markdown",
   "id": "5680258c-224d-469c-9145-f7134a785aab",
   "metadata": {},
   "source": [
    "As recomendações nesse caso foram muito diferentes das anteriores. Vimos que nosso recommender foi capaz de capturar mais informações que apenas 'leões'. Muitos dos filmes na lista são animações e dizem respeito a personagens antropomórficos. "
   ]
  },
  {
   "cell_type": "markdown",
   "id": "36f07679-e30b-42e5-86f0-536f3f78c4d7",
   "metadata": {},
   "source": [
    "# O que você viu nesta aula?\n",
    "\n",
    "Nesta aula, apresentamos o problema de recomendação. Definimos o problema e listamos diversas abordagens de como podemos fazer recomendação. Para isso, apresentamos o conceito de similaridade e as principais técnicas de recomendação, que são os filtros colaborativos."
   ]
  }
 ],
 "metadata": {
  "kernelspec": {
   "display_name": "Python 3 (ipykernel)",
   "language": "python",
   "name": "python3"
  },
  "language_info": {
   "codemirror_mode": {
    "name": "ipython",
    "version": 3
   },
   "file_extension": ".py",
   "mimetype": "text/x-python",
   "name": "python",
   "nbconvert_exporter": "python",
   "pygments_lexer": "ipython3",
   "version": "3.11.7"
  }
 },
 "nbformat": 4,
 "nbformat_minor": 5
}
