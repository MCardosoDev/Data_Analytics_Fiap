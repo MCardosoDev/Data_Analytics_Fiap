{
 "cells": [
  {
   "cell_type": "markdown",
   "id": "4f508572-98fc-4cf3-a86a-b5456a8cfc43",
   "metadata": {},
   "source": [
    "# Sistemas de Recomendação\n",
    "\n",
    "Nesta aula, aplicaremos os conhecimentos obtidos ao longo da disciplina para construir a base de um sistema de recomendação. Veremos desde sistemas simples até os mais complexos, usando técnicas de vetorização de textos que vimos em aulas anteriores para extrair informações de sinopses de filmes e fazer recomendações baseadas nelas. "
   ]
  },
  {
   "cell_type": "markdown",
   "id": "76b3f646-1358-44ff-9872-b5f0087e2809",
   "metadata": {},
   "source": [
    "## Introdução\n",
    "\n",
    "Usar sistemas de recomendação e, de fato, métodos de machine learning em produção, não é somente sobre implementar o melhor algoritmo, é sobre entender seus usuários e seu domínio. \n",
    "\n",
    "A definição de sistemas de recomendação é simples e vamos fornece-la futuramente. Por enquanto, vamos focar em quais problemas ela se propõe a resolver e como é usada. Em tópicos, vamos:\n",
    "\n",
    "* Entender a tarefa que um sistema de recomendação está tentando emular\n",
    "\n",
    "* Desenvolver um entendimento do que são recomendações personalizadas e não-personalizadas\n",
    "\n",
    "* Desenvolver uma taxonomia de como descrever sistemas de recomendação.\n",
    "\n",
    "Antes de nos aprofundarmos no tema, é importante entendermos a diferença entre recomendação e coisas que são parecidas com recomendação. Veja os exemplos e tente defini-los:\n",
    "\n",
    "1. Numa loja de música, pego uma pilha de CDs e, usando-os como contexto, inicio uma conversa com o atendente, que me indica vários outros discos que podem me agradar.\n",
    "\n",
    "2. Geralmente, recebo e-mails de supermercados com ofertas de produtos que eles dizem ser uma boa oferta\n",
    "\n",
    "3. Na televisão, muito se pensa em colocar comerciais com o conteúdo de televisão certo, com o objetivo de atingir públicos específicos\n",
    "\n",
    "4. Uma vez por semana, recebo um newsletter com os filmes mais assistidos no cinema\n",
    "\n",
    "E por que isso recomendação é importante? Para entendermos essa ideia, vamos usar o conceito de Long tail, cunhado por Chris Anderson em 2004. No artigo, originalmente publicado na revista Wired, o autor identificou um novo modelo de negócios que é frequentemente visto na internet. \n",
    "\n",
    "Numa loja virtual, é possível armazenar um número infinito de produtos visto que o aluguel de espaço é barato ou, se conteúdo digital é vendido, espaço não é um problema, o que leva seu custo a quase zero. O que é diferente de uma loja física, que é limitada geograficamente. \n",
    "\n",
    "A ideia por trás da economia *long tail* é que é possível lucrar vendendo muitos produtos, mas apenas alguns poucos de cada, para muitas pessoas diferentes. \n",
    "\n",
    "A grande questão que permanece é como os usuários encontram aquilo que eles precisam? \n",
    "\n",
    "Aqui entram os sistemas de recomendação, visto que eles ajudam pessoas a encontrar diversas coisas que, de outra maneira, eles jamais imaginariam que existissem. \n",
    "\n",
    "De posse dessas informações, podemos definir sistemas de recomendação: \n",
    "\n",
    " “Um sistema de recomendação calcula e provê conteúdo relevante ao usuário baseado no conhecimento do usuário, conteúdo e interações entre o usuário e o item.”\n",
    " \n",
    "Tomando a Netflix como exemplo, vamos definir alguns termos comuns quando se trata de sistemas de recomendação. Observe a tabela:\n"
   ]
  },
  {
   "cell_type": "markdown",
   "id": "73a4c309-ce2f-4c5f-b2c1-a4b9638956ad",
   "metadata": {},
   "source": [
    "<img src=\"img/tabela.png\" />"
   ]
  },
  {
   "cell_type": "markdown",
   "id": "74b07c87-e377-47ab-b4dd-95194200be49",
   "metadata": {},
   "source": [
    "Entretanto, veremos que construir um sistema de recomendação que forneça recomendações adequadas não é simples. Observe a imagem abaixo:"
   ]
  },
  {
   "cell_type": "markdown",
   "id": "08439f30-66ca-446b-bef4-d10a30879f67",
   "metadata": {},
   "source": [
    "<img src=\"img/netflix.png\" />"
   ]
  },
  {
   "cell_type": "markdown",
   "id": "9c8b43e4-02f5-4b31-b31b-a42bbeee4402",
   "metadata": {},
   "source": [
    "Vamos entende-la passo a passo:\n",
    "\n",
    "1. Uma requisição para uma lista das principais escolhas é recebida\n",
    "\n",
    "2. O sistema de recomendação é chamado, retornando itens da base de dados que são mais similares ao gosto do usuário atual\n",
    "\n",
    "3. Os tops 5 itens (pode ser muito mais, na prática) são postos para o próximo passo, que é fazer predição. \n",
    "\n",
    "4. A predição é feita usando as preferências do usuário obtidas da base de dados de usuários. É provável que alguns itens fiquem de fora devido à baixa correlação com o usuário.\n",
    "\n",
    "5. Os itens significantes são resultado da predição calculada, agora com o rating predito adicionado a eles.\n",
    "\n",
    "6. Os itens significantes são ordenados de acordo com a preferência do usuário, contexto e dados demográficos.\n",
    "\n",
    "7. Os itens são ordenados por relevância\n",
    "\n",
    "8. O pipeline retorna os itens\n",
    "\n",
    "9. O servidor apresenta os resultados\n",
    "\n",
    "A imagem anterior deixa evidente que existem muitos aspectos a serem considerados quando lidamos com sistemas de recomendação. Além disso, esse pipeline não apresenta partes como coleta de dados e a construção de modelos. \n",
    "\n",
    "Em nossa aula, vamos focar na construção e entendimentos dos modelos de recomendação. \n",
    "\n",
    "De maneira geral, os algoritmos de recomendação pertencem a dois grupos distintos. Os algoritmos que empregam o uso de dados são chamados filtros colaborativos. Algoritmos que usam conteúdo de metadados e perfis de usuários para calcular recomendações são chamados filtros baseados em conteúdos. Ainda existe um terceiro grupo, chamado de sistemas híbridos, que é uma combinação dos dois anteriores. \n",
    "\n",
    "Na prática, precisamos ter uma ideia do que queremos fazer com um sistema de recomendação. Podemos ter o seguinte ciclo de modelagem até ter um sistema em produção:"
   ]
  },
  {
   "cell_type": "markdown",
   "id": "3a913870-9a42-4e12-a94e-1729c648fba6",
   "metadata": {},
   "source": [
    "<img src=\"img/ciclo_modelagem.png\" />"
   ]
  },
  {
   "cell_type": "markdown",
   "id": "cc6d4a1e-1539-4886-8a34-b937cd4045a2",
   "metadata": {},
   "source": [
    "## Novos usuários e produtos"
   ]
  },
  {
   "cell_type": "markdown",
   "id": "af18fe82-5e03-47b9-92c0-c2edb488b904",
   "metadata": {},
   "source": [
    "Você percebeu que para fazer recomendações é preciso ter muitas informações sobre os gostos do usuário e também sobre os produtos que vamos recomendar, afinal, é preciso saber o que o usuário gosta e quais produtos são similares ao que ele gosta. Entretanto, mesmo possuindo muitos dados, apenas com isso não é possível resolver o problema de como introduzir novas coisas, sejam elas usuários ou produtos. \n",
    "\n",
    "Este problema é denominado __Cold Start__.\n",
    "\n",
    "Para novos produtos, a solução é relativamente simples. Geralmente, a introdução de novos itens é acompanhada da promoção deles, por exemplo, enviando e-mails aos usuários, ou criando uma área especial onde novos itens podem ser consultados. \n",
    "Para novos usuários a solução é mais complicada. Quando devemos começar oferecer recomendações personalizadas? Qual a quantidade mínima de dados suficiente para determinar a preferencia de uma pessoa? Quando um novo usuário chega, não sabemos nada. Sem dados = sem personalização. \n",
    "\n",
    "Assim sendo, precisamos de maneiras de lidar com esse problema. Para itens novos, usar filtros baseado em conteúdo pode ser uma solução. Veremos isso mais adiante.\n",
    "\n",
    "Entretanto, para usuários novos, temos outras abordagens. A solução é encontrar informação mesmo num conjunto de dados esparso. Podemos usar a informação que já temos e relacionar isso com o novo usuário. \n",
    "\n",
    "Podemos, então, usar regras de associação, bem como criar segmentos para usuários existentes e considerar o quão rápido podemos adequar um novo usuário a um segmento. \n",
    "\n",
    "Regras de associação dizem que, se um usuário colocou pão no seu carrinho de compras, oferecer manteiga a ele pode ser uma boa recomendação. Para um usuário novo, podemos usar regras de associação como, por exemplo, por onde o usuário navegou. Podemos implementar isso da seguinte forma:"
   ]
  },
  {
   "cell_type": "markdown",
   "id": "c6f02c37-223b-4de8-ba9f-24b8f461ebd3",
   "metadata": {},
   "source": [
    "<img src=\"img/association_rules.png\" />"
   ]
  },
  {
   "cell_type": "markdown",
   "id": "e41c6cc8-434f-42c0-b4cc-b38fb40541c0",
   "metadata": {},
   "source": [
    "Outra forma de recomendação para lidar com o cold start é usar regras de negócio e conhecimento de domínio. Por exemplo, se um usuário navega pela seção de desenhos animados, apenas recomende desenhos animados e filmes “família”.\n",
    "\n",
    "De outra maneira, podemos especificar coisas que nunca devem aparecer juntas. Exemplo: nunca recomende um filme de terror para alguém que está assistindo desenho animado. \n",
    "\n",
    "Podemos implementar isso da seguinte maneira:\n"
   ]
  },
  {
   "cell_type": "markdown",
   "id": "46bedeb3-69ed-4140-be72-f7e01f4aae78",
   "metadata": {},
   "source": [
    "<img src=\"img/business_rules.png\" />"
   ]
  },
  {
   "cell_type": "markdown",
   "id": "b5742e09-d6e2-40cb-bfc2-9e82fb9601b5",
   "metadata": {},
   "source": [
    "Uma terceira maneira de endereçar o problema de cold start é usar segmentação. A ideia é agrupar usuários com gostos similares, de modo que você consiga descobrir que tipo de pessoa gosta de que tipo de conteúdo. Quando um novo usuário chega, podemos recomendar conteúdo popular com aquele segmento. Isso é conhecido como recomendações demográficas. \n",
    "\n",
    "De maneira simples, você filtrar o ip do usuário e determinar sua localização e, então, oferecer produtos vendidos nessa localização. Se você sabe o gênero, você pode apresentar produtos mais vendidos para cada um deles. O mesmo serve para idade. Esses são os segmentos mais óbvios de serem encontrados. \n",
    "\n",
    "Por outro lado, podemos usar algoritmos não supervisionados (clustering) para agrupar nossos usuários conhecidos. Depois, podemos tentar encaixar um usuário novo num desses grupos e realizar as recomendações. \n",
    "\n",
    "Embora esse seja um problema para sistemas de recomendação, resolve-lo aqui não será o nosso foco. Nossa ideia é usar as técnicas que vimos até o momento para construir um modelo de recomendação. Mas como eu determino que um produto é similar a outro ou um usuário é similar a outro?"
   ]
  },
  {
   "cell_type": "markdown",
   "id": "63b09be1-504b-4bf3-a295-eed890302205",
   "metadata": {},
   "source": [
    "## Como calcular similaridade"
   ]
  },
  {
   "cell_type": "markdown",
   "id": "59b3cabd-6726-4290-aec2-3846347cd83c",
   "metadata": {},
   "source": [
    "Precisamos falar sobre similaridade porque queremos encontrar itens semelhantes àqueles que gostamos ou porque queremos encontrar usuários que gostem das mesmas coisas que gostamos. \n",
    "\n",
    "Entretanto, como definimos similaridade? Por exemplo, numa escala entre -1 a 1, quão similar duas pessoas são? Se talvez uma pessoa goste de Star Trek e outra goste de Star Wars, eles são similares?\n",
    "\n",
    "Assim, precisamos de uma maneira de mensurar similaridade, que pode ser obtida através de uma função de similaridade, definida da seguinte maneira:\n",
    "\n",
    "* Dados dois itens, $i_1$ e $i_2$, a similaridade entre eles é dada por uma função $sim(i_1,i_2)$.\n",
    "\n",
    "Geralmente tomamos o domínio $[0,1]$ para determinar a similaridade entre dois itens, com 0 sendo totalmente dissimilares e 1 sendo totalmente similares (mesmo item). \n",
    "\n",
    "A Figura abaixo ilustra dois exemplos de funções de similaridade. É importante pensar sobre qual deve ser escolhida, visto que determinar qual é melhor depende do domínio (contexto) e dos dados:\n",
    "\n"
   ]
  },
  {
   "cell_type": "markdown",
   "id": "a8ff1c2b-b58b-41c9-88f4-9f6f50541f52",
   "metadata": {},
   "source": [
    "<img src=\"img/similaridade.png\" />"
   ]
  },
  {
   "cell_type": "markdown",
   "id": "ffd0086d-8ffc-4610-943c-adf2960b3594",
   "metadata": {},
   "source": [
    "A medida de similaridade é intimamente relacionada com o cálculo da distancia entre itens. Geralmente, podemos dizer que a relação entre similaridade e distância é a seguinte:\n",
    "\n",
    "* Quando a distância aumenta, a similaridade tende a zero. \n",
    "\n",
    "* Quando a distância tende a zero, a similaridade tende a um. \n",
    "\n",
    "Como mencionado, não existe método certo ou método errado de similaridade. Diferentes métodos funcionarão melhor em diferentes datasets. Entretanto, existem alguns pontos de partidas e, aqui, vamos discutir algumas medidas de distancia:\n",
    "\n",
    "* Jaccard\n",
    "\n",
    "* Euclidiana\n",
    "\n",
    "* Cosseno\n",
    "\n",
    "* Pearson\n",
    "\n",
    "A distância de Jaccard é usada para indicar quão próximos dois conjuntos são. A explicação é simples: podemos dizer que cada filme é uma bag que contém todos os usuários que compraram esse filme. Assim, temos conjuntos de usuários, um para cada filme. Dessa maneira, podemos comparar dois filmes olhando para dois conjuntos de usuários. \n",
    "\n",
    "Datasets como o mencionado acima podem ser produzidos a partir das transações dos usuários, que podem ser transformadas numa lista onde cada linha indica se um usuário comprou um produto ou não (1 = comprou, 0 = não comprou).  \n",
    "Considere a seguinte imagem:"
   ]
  },
  {
   "cell_type": "markdown",
   "id": "8001c490-9992-48b6-be15-f405e404d525",
   "metadata": {},
   "source": [
    "<img src=\"img/jaccard1.png\" />"
   ]
  },
  {
   "cell_type": "markdown",
   "id": "87759a10-6b0d-471d-b6d1-35c9c1087145",
   "metadata": {},
   "source": [
    "Para calcular a similaridade entre dois itens, calculamos quantos usuários compraram (ou não) ambos os itens e, então, dividimos por quantos usuários compraram um ou outro. Formalmente, temos:\n",
    "\n",
    "$jaccard_{i,j} = \\frac{X}{Y}$\n",
    "\n",
    "em que:\n",
    "\n",
    "$X$ = número de usuários que compraram (ou não) ambos os itens\n",
    "\n",
    "$Y$ = número de usuários que compraram ou $i$ ou $j$\n",
    "\n",
    "Observe o exemplo para o caso abaixo:"
   ]
  },
  {
   "cell_type": "markdown",
   "id": "fe5f6450-1304-4ac6-a62b-8b34bf76906c",
   "metadata": {},
   "source": [
    "<img src=\"img/jaccard2.png\" />"
   ]
  },
  {
   "cell_type": "markdown",
   "id": "0713aadb-f303-481e-ac81-7181cd8e65be",
   "metadata": {},
   "source": [
    "A similaridade de Jaccard para esse caso é a seguinte:\n",
    "\n",
    "$jaccard_{i,j} = \\frac{4}{6} = 0.67$"
   ]
  },
  {
   "cell_type": "markdown",
   "id": "d87c937d-2e4d-4abb-abe5-e8a1627124bb",
   "metadata": {},
   "source": [
    "Quando meu conjunto de dados é composto, por exemplo, de ratings de filmes, uma métrica mais apropriada é a distância Euclidiana, derivada do Teorema de Pitágoras. Ela pode ser entendida como o tamanho do segmento de linha que junta dois pontos de dados plotados num plano cartesiano n-dimensional. \n",
    "\n",
    "Veja a imagem abaixo como exemplo:"
   ]
  },
  {
   "cell_type": "markdown",
   "id": "9b261fbe-d409-4352-bb39-f2dd2a9bbacd",
   "metadata": {},
   "source": [
    "<img src=\"img/euclidiana.png\" />"
   ]
  },
  {
   "cell_type": "markdown",
   "id": "eda2adda-b99c-4c1e-9b58-dd44f9ab9cf5",
   "metadata": {},
   "source": [
    "Os pontos no espaço n-dimensional são dados por vetores, definidos da seguinte maneira:\n",
    "\n",
    "* $v_1:(q_1,q_2, ⋯,q_n)$\n",
    "\n",
    "* $v_2:(r_1,r_2, ⋯,r_n)$\n",
    "\n",
    "Assim, podemos definir matematicamente a distancia euclidiana da seguinte maneira:\n",
    "\n",
    "$d(v_1,v_2) = \\sqrt{\\sum_{i=0}^{n} (q_i - r_i)^2}$\n",
    "\n",
    "A distância pode variar entre 0 e infinito. Quanto menor seu valor, mais similares dois vetores são um do outro. "
   ]
  },
  {
   "cell_type": "markdown",
   "id": "9657e604-25bc-430a-b22c-d3e925cbcca7",
   "metadata": {},
   "source": [
    "Uma outra maneira de olhar para conteúdos é enxergar as linhas de uma matriz de rating como vetores no espaço e, então, determinar o cosseno do ângulo entre eles. \n",
    "\n",
    "O cálculo é dado pela seguinte fórmula:\n",
    "\n",
    "$\\cos (\\theta ) =   \\dfrac {A \\cdot B} {\\left\\| A\\right\\| \\left\\| B\\right\\| } $\n",
    "\n",
    "Quando o valor da similaridade é 1 (ângulo = 0), os vetores são exatamente similares. Por outro lado, um valor de cosseno igual a -1 (ângulo = 180) significa que os vetores são totalmente diferentes. \n",
    "\n",
    "Considerando ainda o exemplo de um conjunto de ratings de filmes para dois (ou mais) usuários diferentes, podemos usar a correlação de Pearson para determinar a similaridades entre dois usuários. \n",
    "\n",
    "A correlação de Pearson mensura o quão diferente cada ponto é na média. O range varia entre $[-1,1]$.  Com esse coeficiente, os ratings são normalizados subtraindo-se o rating médio do item para cada rating, como mostrado na equação abaixo:\n",
    "\n",
    "$pearson = \\frac{{}\\sum_{i=1}^{n} (x_i - \\overline{x})(y_i - \\overline{y})}{\\sqrt{\\sum_{i=1}^{n} (x_i - \\overline{x})^2  \\sum_{i=1}^{n}(y_i - \\overline{y})^2}}$\n",
    "\n",
    "Tendo visto as principais medidas de distância usadas na construção de sistemas de recomendação, estamos prontos para efetivamente começar a construir um sistema de recomendação. Vamos começar por um bastante simples. "
   ]
  },
  {
   "cell_type": "markdown",
   "id": "d522f193-a40a-43a0-ac65-46cf8cdbc156",
   "metadata": {},
   "source": [
    "## Simple Recommender\n",
    "Para começarmos a entender os sistemas de recomendação, vamos usar como base de comparação a lista de 250 filmes do IMDB, calculados segundo uma métrica específica. Todos os filmes na lista são não-documentário, lançamento de cinema, possui pelo menos 45 minutos e tem mais de 250000 avaliações. \n",
    "\n",
    "Você pode consultar essa lista [aqui](https://www.imdb.com/chart/top/)\n",
    "\n",
    "Como vimos, isso é um tipo de recomendação.  Vamos usar o data set The Movies Dataset [link](https://www.kaggle.com/datasets/rounakbanik/the-movies-dataset) para criar uma lista parecida a fim de oferencer uma recomendação inicial. "
   ]
  },
  {
   "cell_type": "markdown",
   "id": "0ec5866d-7375-45d6-b9dc-39a9190ea01f",
   "metadata": {},
   "source": [
    "Link para download dos dados: [link](https://drive.google.com/drive/folders/12y6Wa9D4X1pQhCOnGE2DOGvmOvFijv8u?usp=sharing)"
   ]
  },
  {
   "cell_type": "code",
   "execution_count": null,
   "id": "5e85f7c1-5ee8-4c55-a2cf-54440e80c234",
   "metadata": {},
   "outputs": [],
   "source": [
    "import pandas as pd\n",
    "import numpy as np\n",
    "\n",
    "df = pd.read_csv('movies_metadata.csv')\n",
    "df.head()"
   ]
  },
  {
   "cell_type": "markdown",
   "id": "c50b7a9e-3b1c-41f2-a507-28ebf298bc9e",
   "metadata": {},
   "source": [
    "Para construir esse simples recommender, vamos seguir os seguintes passos:\n",
    "\n",
    "1. Escolher uma métrica para avaliar os filmes\n",
    "2. Decidir os pré-requisitos para o filme fazer parte da lista\n",
    "3. Calcular o score para cada filme de acordo com a métrica e os pré-requisitos\n",
    "4. Retornar a lista de filmes em ordem decrescente de acordo com o score"
   ]
  },
  {
   "cell_type": "markdown",
   "id": "97247161-0111-413c-a59d-cc66c5dae734",
   "metadata": {},
   "source": [
    "**Escolha da Métrica**\n",
    "\n",
    "Para a métrica, vamos usar o Weighted Rating, definido da seguinte maneira:\n",
    "\n",
    "$ WR = (\\frac{v}{v+m} \\times R) + (\\frac{m}{v+m} \\times C) $\n",
    "\n",
    "Em que:\n",
    "\n",
    "* $v$ é o número de votos que o filme gerou\n",
    "* $m$ é o número mínumo de votos requerido para o filme fazer parte da lista\n",
    "* $R$ é o rating médio do filme\n",
    "* $C$ é o rating médio de todos os filmes no dataset\n",
    "\n",
    "Já temos os valores de $v$ e $R$ paara todos os filmes através das features *vote_count* e *vote_average*. Vamos calcular o valor de $m$. $m$ pode ser qualquer valor, mas para esse caso, vamos o número de votos acumulado pelo 80th percentil, que pode ser calculado da seguinte forma:"
   ]
  },
  {
   "cell_type": "code",
   "execution_count": null,
   "id": "ea56b5eb-40f3-4ff4-bcc6-85e5e9d1c238",
   "metadata": {},
   "outputs": [],
   "source": [
    "m = df['vote_count'].quantile(0.80)\n",
    "m #apenas 20% dos filmes ganharam mais que 50 votos"
   ]
  },
  {
   "cell_type": "markdown",
   "id": "71575791-59fd-40a8-b0db-960cea0b95e4",
   "metadata": {},
   "source": [
    "Vamos filtrar agora filmes que tiveram mais que 45 minutos e menos que 300 minutos de duração. Também vamos considerar apenas aqueles que tiveram mais que $m$ votos"
   ]
  },
  {
   "cell_type": "code",
   "execution_count": null,
   "id": "6869bb79-bdc9-4645-b6ab-d893df133358",
   "metadata": {},
   "outputs": [],
   "source": [
    "q_movies = df[(df['runtime'] >= 45) & (df['runtime'] <= 300)]\n",
    "q_movies = q_movies[q_movies['vote_count'] >= m]\n",
    "q_movies.shape"
   ]
  },
  {
   "cell_type": "markdown",
   "id": "4fabe41c-49a2-4480-9c4a-0b6cfe93e74e",
   "metadata": {},
   "source": [
    "Para calcular o valor de $C$, vamos obter a média da coluna *vote_average*"
   ]
  },
  {
   "cell_type": "code",
   "execution_count": null,
   "id": "5c751786-c5e0-4773-a8ed-740528559fdc",
   "metadata": {},
   "outputs": [],
   "source": [
    "C = df['vote_average'].mean()\n",
    "C"
   ]
  },
  {
   "cell_type": "markdown",
   "id": "bee5e83b-50ef-4b6a-b3e1-dcb7bc7fcd42",
   "metadata": {},
   "source": [
    "De posso de todas as informações, podemos escrever uma função para calcular o weighted rating:"
   ]
  },
  {
   "cell_type": "code",
   "execution_count": null,
   "id": "8b0104a9-2c47-4714-8032-1731477022ba",
   "metadata": {},
   "outputs": [],
   "source": [
    "def weighted_rating(x, m=m, C=C):\n",
    "    v = x['vote_count']\n",
    "    R = x['vote_average']\n",
    "    return (v/(v+m) * R) + (m/(m+v) * C)"
   ]
  },
  {
   "cell_type": "code",
   "execution_count": null,
   "id": "c25c1e19-11f8-4a30-98b3-f4cafb2f4ab1",
   "metadata": {},
   "outputs": [],
   "source": [
    "#cria uma nova coluna e aplica a funcao\n",
    "q_movies['score'] = q_movies.apply(weighted_rating, axis=1)"
   ]
  },
  {
   "cell_type": "code",
   "execution_count": null,
   "id": "8c87497c-9094-4cfc-86ab-a02cce737ee9",
   "metadata": {},
   "outputs": [],
   "source": [
    "#ordena o dataset em ordem descendente de acordo com o score\n",
    "q_movies = q_movies.sort_values('score', ascending=False)\n",
    "\n",
    "#Imprime os top 25 filmes\n",
    "q_movies[['title', 'vote_count', 'vote_average', 'score', 'runtime']].head(25)"
   ]
  },
  {
   "cell_type": "markdown",
   "id": "50dbf262-eda8-4adb-840b-331e0d47f682",
   "metadata": {},
   "source": [
    "Obviamente que esse não é um tipo de recomendação personalizada. Ele apenas leva em conta as maiores notas que cada filme presente na base recebeu. A premissa é que, se muitas pessoas assistiram e gostaram, talvez seja uma boa você assistir também.\n",
    "\n",
    "Vamos agora ver outro tipo de sistema de recomendação que já leva em consideração as preferências do usuário. "
   ]
  },
  {
   "cell_type": "markdown",
   "id": "a16416b7-64d4-4187-a979-31e31ca6de11",
   "metadata": {},
   "source": [
    "## Knowledge-based recommender\n",
    "Vamos avançar um pouco e criar um sistema um pouco mais complexo para fazer recomendações. Vamos realizar essas tarefas:\n",
    "\n",
    "* Perguntar ao usuário seus gêneros preferidos\n",
    "* Perguntar ao usuário a duração do filme\n",
    "* Perguntar ao usuário a linha do tempo de filmes recomendados\n",
    "* Usando essas informações coletadas, recomende filmes ao usuário que possuam um alto score e que satisfaça as condições anteriores"
   ]
  },
  {
   "cell_type": "code",
   "execution_count": null,
   "id": "1d745409-0ff9-42d7-9e75-64156f1c9c7c",
   "metadata": {},
   "outputs": [],
   "source": [
    "#vamos usar o mesmo dataset e manter apenas as features de interesse\n",
    "df = df[['title','genres', 'release_date', 'runtime', 'vote_average', 'vote_count']]\n",
    "\n",
    "df.head()"
   ]
  },
  {
   "cell_type": "markdown",
   "id": "066390f3-6d69-4dcf-a7b3-9437292733ac",
   "metadata": {},
   "source": [
    "Vamos extrair o ano de lançamento a partir da coluna *release_date*"
   ]
  },
  {
   "cell_type": "code",
   "execution_count": null,
   "id": "5e5c649c-e95a-4ac7-97ff-e5b0dbd455c5",
   "metadata": {},
   "outputs": [],
   "source": [
    "df['release_date'] = pd.to_datetime(df['release_date'], errors='coerce')\n",
    "df['year'] = df['release_date'].apply(lambda x: str(x).split('-')[0] if x != np.nan else np.nan)"
   ]
  },
  {
   "cell_type": "code",
   "execution_count": null,
   "id": "0d9deed2-d44b-4b4c-a802-29633c915606",
   "metadata": {},
   "outputs": [],
   "source": [
    "df['year'].dtype"
   ]
  },
  {
   "cell_type": "markdown",
   "id": "89424b46-8408-4e5e-a534-668302c48249",
   "metadata": {},
   "source": [
    "Percebemos que o tipo de dados é objeto, pois existem valores NaT nos dados. Vamos usar uma função para transformar NaT em 0 e todos os demais valores em int"
   ]
  },
  {
   "cell_type": "code",
   "execution_count": null,
   "id": "8f92c5e5-768f-47ae-83e9-65600ffebe69",
   "metadata": {},
   "outputs": [],
   "source": [
    "def convert_int(x):\n",
    "    try:\n",
    "        return int(x)\n",
    "    except:\n",
    "        return 0\n",
    "    \n",
    "df['year'] = df['year'].apply(convert_int)"
   ]
  },
  {
   "cell_type": "markdown",
   "id": "e7e6aa5c-ee3f-42e1-8cfe-503cf034bea7",
   "metadata": {},
   "source": [
    "Por fim, podemos dropar a coluna *release_date*"
   ]
  },
  {
   "cell_type": "code",
   "execution_count": null,
   "id": "420ee9d8-a452-4741-bcee-44f58bcbbd37",
   "metadata": {},
   "outputs": [],
   "source": [
    "df = df.drop('release_date', axis=1)\n",
    "df.head()"
   ]
  },
  {
   "cell_type": "markdown",
   "id": "5d0f82ec-be3c-456e-8159-d615daa98b73",
   "metadata": {},
   "source": [
    "Agora, precisamos lidar com a feature *genres*, que a princípio, se parece com um json. Vamos ver um exemplo:"
   ]
  },
  {
   "cell_type": "code",
   "execution_count": null,
   "id": "7e943510-4dc6-4e62-917c-4d5f4f24ea57",
   "metadata": {},
   "outputs": [],
   "source": [
    "df.iloc[0]['genres']"
   ]
  },
  {
   "cell_type": "markdown",
   "id": "2194f9f5-6570-4c1e-afd8-6e9816bf2e25",
   "metadata": {},
   "source": [
    "Para que essa feature seja usável, é importante convertermos ela para um dicionário nativo do Python. A função *literal_eval* faz exatamente isso. Veja um exemplo:"
   ]
  },
  {
   "cell_type": "code",
   "execution_count": null,
   "id": "b03fc9dc-e33f-4dc3-b698-baf0ed539dc2",
   "metadata": {},
   "outputs": [],
   "source": [
    "from ast import literal_eval\n",
    "\n",
    "a = \"[1,2,3]\"\n",
    "print(type(a))\n",
    "\n",
    "b = literal_eval(a)\n",
    "print(type(b))\n"
   ]
  },
  {
   "cell_type": "markdown",
   "id": "5d3e2116-68cc-40b1-b15a-beee0de55825",
   "metadata": {},
   "source": [
    "Agora, podemos aplicar nos nossos dados"
   ]
  },
  {
   "cell_type": "code",
   "execution_count": null,
   "id": "fc41ed2c-a9ea-4d88-b9eb-46a40654600c",
   "metadata": {},
   "outputs": [],
   "source": [
    "#converte todos os NaN em strings de listas vazias\n",
    "df['genres'] = df['genres'].fillna('[]')\n",
    "\n",
    "#Applica literal_eval para converter para list\n",
    "df['genres'] = df['genres'].apply(literal_eval)\n",
    "\n",
    "#Converte lista de dicionário em lista de string\n",
    "df['genres'] = df['genres'].apply(lambda x: [i['name'].lower() for i in x] if isinstance(x, list) else [])\n"
   ]
  },
  {
   "cell_type": "code",
   "execution_count": null,
   "id": "1ef39a74-4d54-48f5-a311-92f3e97c12f1",
   "metadata": {},
   "outputs": [],
   "source": [
    "df.head()"
   ]
  },
  {
   "cell_type": "markdown",
   "id": "347ddc4a-247d-494d-9bca-69874d215595",
   "metadata": {},
   "source": [
    "Entretanto, esse formato não é útil para nós. Precisamos fazer algo chamado explode, que consiste em criar múltiplas cópias do filme, uma para cada gênero que ele possui, cada uma com um gênero. "
   ]
  },
  {
   "cell_type": "code",
   "execution_count": null,
   "id": "95686508-f34e-438c-9e11-77d524c995eb",
   "metadata": {},
   "outputs": [],
   "source": [
    "s = df.apply(lambda x: pd.Series(x['genres']),axis=1).stack().reset_index(level=1, drop=True)\n",
    "s.name = 'genre'\n",
    "gen_df = df.drop('genres', axis=1).join(s)\n",
    "gen_df.head()"
   ]
  },
  {
   "cell_type": "markdown",
   "id": "f208ca30-1c9e-4c09-b953-7db69db4bf8a",
   "metadata": {},
   "source": [
    "Agora estamos prontos para criar uma função que irá agir como nosso recommender. Vamos criar os seguintes passos: \n",
    "\n",
    "* Obter o input do usuário sobre suas preferências\n",
    "* Extrair todos os filmes que dão match com as condições do usuário\n",
    "* Calcular o valor de $m$ e $C$ apenas para esses filmes e construir a lista de recomendação como vimos anteriormente"
   ]
  },
  {
   "cell_type": "code",
   "execution_count": null,
   "id": "fb9ce8dd-1580-48d2-96b3-b9bf90ece0a0",
   "metadata": {},
   "outputs": [],
   "source": [
    "def build_chart(gen_df, percentile=0.8):\n",
    "    \n",
    "    print(\"Diga seu gênero preferido:\")\n",
    "    genre = input()\n",
    "\n",
    "    print(\"Duração mínima:\")\n",
    "    low_time = int(input())\n",
    "    \n",
    "    print(\"Duração máxima:\")\n",
    "    high_time = int(input())\n",
    "\n",
    "    print(\"Ano de lançamento mínimo\")\n",
    "    low_year = int(input())\n",
    "\n",
    "    print(\"Ano de lançamento máximo\")\n",
    "    high_year = int(input())\n",
    "    \n",
    "    #Cria uma nova variável\n",
    "    movies = gen_df.copy()\n",
    "    \n",
    "    #Filtra os filmes baseados nas condições fornecidas\n",
    "    movies = movies[(movies['genre'] == genre) & \n",
    "                    (movies['runtime'] >= low_time) & \n",
    "                    (movies['runtime'] <= high_time) & \n",
    "                    (movies['year'] >= low_year) & \n",
    "                    (movies['year'] <= high_year)]\n",
    "    \n",
    "    #Calcula o valor de C e m\n",
    "    C = movies['vote_average'].mean()\n",
    "    m = movies['vote_count'].quantile(percentile)\n",
    "    \n",
    "    #considera apenas filmes com mais que m votos\n",
    "    q_movies = movies.copy().loc[movies['vote_count'] >= m]\n",
    "    \n",
    "    #Calcula o score\n",
    "    q_movies['score'] = q_movies.apply(lambda x: (x['vote_count']/(x['vote_count']+m) * x['vote_average']) \n",
    "                                       + (m/(m+x['vote_count']) * C)\n",
    "                                       ,axis=1)\n",
    "\n",
    "    #Ordena os filmes de maneira descendente\n",
    "    q_movies = q_movies.sort_values('score', ascending=False)\n",
    "    \n",
    "    return q_movies"
   ]
  },
  {
   "cell_type": "code",
   "execution_count": null,
   "id": "18d3778c-f0d7-43b4-ac2a-ccb45affde02",
   "metadata": {},
   "outputs": [],
   "source": [
    "# testa a função\n",
    "build_chart(gen_df).head()"
   ]
  },
  {
   "cell_type": "code",
   "execution_count": null,
   "id": "c0886844-2847-439a-8025-d0fada55d8c6",
   "metadata": {},
   "outputs": [],
   "source": [
    "#salvando os dados para serem usados posteriormente\n",
    "df.to_csv('dados/metadata_clean.csv', index=False)"
   ]
  },
  {
   "cell_type": "markdown",
   "id": "eb11edf5-6fae-4c33-bfe2-2752d935f959",
   "metadata": {},
   "source": [
    "É um tipo de recomendação que leva em consideração os gostos do usuário, mas não considera o seu histórico e é custosa para ele, visto que ele teria que ficar inserindo essas informações toda vez que fosse procurar um filme. Além disso, ela é estática. Só seria alterada caso novos filmes fossem inseridos no conjunto de dados.\n",
    "\n",
    "Vamos agora usar modelos mais complexos para construir uma recomendação personalizada. "
   ]
  },
  {
   "cell_type": "markdown",
   "id": "0259a274-6139-43e8-a1c2-bee858bd9b17",
   "metadata": {},
   "source": [
    "## Filtros baseados em conteúdo\n",
    "\n",
    "Os recommenders que construímos anteriormente são extremamente primitivos. O Simple Recommender não leva em consideração as preferências individuais e, enquanto o Knowledge Recommender leva em consideração a preferência do usuário por gêneros, época de lançamento e duração, o modelo continua ainda muito genérico. \n",
    "\n",
    "Por exemplo, se uma pessoa gosta dos filmes The Dark Knight, Homem de Ferro e Superman, claramente ele tem uma preferência por filmes de superheróis. Entretanto, nosso modelo não será capaz de capturar tais detalhes. O máximo que conseguirá fazer é fornecer recomendações de filmes de ação, o que é gênero maior que envolve os filmes de superheróis. \n",
    "\n",
    "Poderíamos solicitar ao usuário mais informações sobre seus gostos e criar, por exemplo, uma categoria sub-gênero. No entanto, não temos informação pra isso e capturar todas as informações necessárias via usuário seria maçante e muito custoso. \n",
    "\n",
    "Ao invés disso, o que os usuários costumam fazer é **classificar seus filmes favoritos e o sistema apresenta a eles os mais similares.** \n",
    "\n",
    "Aqui, vamos construir dois tipos de filtros baseados em conteúdo:\n",
    "\n",
    "1. Recommender baseado na descrição dos filmes\n",
    "    > Ele vai comparar a descrição de diferentes filmes e prover recomendações de filmes que possuam descrição similar\n",
    "\n",
    "2. Recommender baseado em metadados\n",
    "    > Ele usa como features gêneros, keywords, cast, entre outros e faz recomendações baseadas nessas características"
   ]
  },
  {
   "cell_type": "markdown",
   "id": "0a4280e5-742c-47b6-9c18-206a62da02ea",
   "metadata": {},
   "source": [
    "#### Recommender baseado na descrição dos filmes"
   ]
  },
  {
   "cell_type": "code",
   "execution_count": null,
   "id": "e902f114-ce2f-4829-b742-1cbe76832b24",
   "metadata": {},
   "outputs": [],
   "source": [
    "df = pd.read_csv('dados/metadata_clean.csv')\n",
    "df.head()"
   ]
  },
  {
   "cell_type": "markdown",
   "id": "06db980e-671d-4c82-b210-837d140f3ca5",
   "metadata": {},
   "source": [
    "Essencialmente, os modelos que estamos construíndo calcula a similaridade entre os textos das descrições, mas como conseguimos quantificar a similaridade entre dois textos? \n",
    "\n",
    "Bem, vamos usar as técnicas que vimos rapidamente durante a aula: vetorização. Mais precisamente, vamos trabalhar com o TI-IDF. \n",
    "\n",
    "Basicamente, nosso modelo irá receber o título do filme como argumento e retornar uma lista de filmes similares baseada na descrição. Estes são os passos que vamos executar para construir nosso modelo:\n",
    "\n",
    "* Obter os dados requeridos para construir o modelo\n",
    "* Criar vetorização usando TF-IDF para cada filme\n",
    "* Calcular a similaridade do cosseno par-a-par para cada filme\n",
    "* Escrever uma função que recebe um título de filme como entrada e retorna uma lista de filmes similares\n",
    "\n",
    "Olhando nossos dados, não temos a descrição dos filmes, mas isso é facilmente recuperado a partir dos dados originais. Vamos fazer isso:"
   ]
  },
  {
   "cell_type": "code",
   "execution_count": null,
   "id": "2480133a-0e49-482f-9277-bf68f84b7484",
   "metadata": {},
   "outputs": [],
   "source": [
    "orig_df = pd.read_csv('dados/movies_metadata.csv', low_memory=False)\n",
    "\n",
    "#Adiciona as informações necessárias no nosso dataseet\n",
    "df['overview'], df['id'] = orig_df['overview'], orig_df['id']\n",
    "df.head()\n"
   ]
  },
  {
   "cell_type": "markdown",
   "id": "598d3c20-947c-44b3-97a0-afb7c56503cb",
   "metadata": {},
   "source": [
    "Vamos usar a coluna *overview* para construir esse modelo e a coluna *id* para construir o próximo.\n",
    "\n",
    "O próximo passo agora é realizar a vetorização dos dados. Vamos usar Scikit-Learn para fazer isso:"
   ]
  },
  {
   "cell_type": "code",
   "execution_count": null,
   "id": "81699c42-e44a-41fd-b522-21780a6faada",
   "metadata": {},
   "outputs": [],
   "source": [
    "from sklearn.feature_extraction.text import TfidfVectorizer\n",
    "\n",
    "tfidf = TfidfVectorizer(stop_words='english')\n",
    "\n",
    "#Caso haja algum review vazio, é preenchido com uma string\n",
    "df['overview'] = df['overview'].fillna('')\n",
    "\n",
    "#constrói a matriz TF-IDF\n",
    "tfidf_matrix = tfidf.fit_transform(df['overview'])\n",
    "tfidf_matrix.shape #qtde de amostras, qtde de features"
   ]
  },
  {
   "cell_type": "markdown",
   "id": "b58a8c09-e66b-4d3f-a3af-0d9118c03f61",
   "metadata": {},
   "source": [
    "O próximo passo é construir uma matriz que conterá a similaridade do cosseno par a par para cada filme, ou seja, vamos criar uma matriz de 45466x45466 em que a célula na linha $i$ e coluna $j$ representa a similaridade entre os filmes $i$ e $j$. Novamente, SKlearn vem para nos ajudar com uma função pronta:"
   ]
  },
  {
   "cell_type": "code",
   "execution_count": null,
   "id": "787c02cc-6c25-4cd5-ad5b-6b55155a84bb",
   "metadata": {},
   "outputs": [],
   "source": [
    "from sklearn.metrics.pairwise import linear_kernel\n",
    "\n",
    "# Calcula a matriz de similaridade do cosseno\n",
    "cosine_sim = linear_kernel(tfidf_matrix, tfidf_matrix)\n"
   ]
  },
  {
   "cell_type": "markdown",
   "id": "cf2e89d8-7ece-40fe-ae85-80f5beed9411",
   "metadata": {},
   "source": [
    "O passo final é construir a função de recomendação. Antes disso, porém, vamos um mapeamento entre índice e título de filmes para facilitar a recuperação do nome dos filmes"
   ]
  },
  {
   "cell_type": "code",
   "execution_count": null,
   "id": "73d9acdf-93af-44ef-ba45-f138f673cd66",
   "metadata": {},
   "outputs": [],
   "source": [
    "indices = pd.Series(df.index, index=df['title']).drop_duplicates()"
   ]
  },
  {
   "cell_type": "code",
   "execution_count": null,
   "id": "11b8cf99-ddb3-4ce1-841c-aa0a0fec1316",
   "metadata": {},
   "outputs": [],
   "source": [
    "def content_recommender(title, cosine_sim=cosine_sim, df=df, indices=indices):\n",
    "    # obtém o índice do filme dado o título \n",
    "    idx = indices[title]\n",
    "\n",
    "    # obtém o score de similaridade par a par de todos os filmes com o filme em questão\n",
    "    # e converte numa lista de tuplas\n",
    "    sim_scores = list(enumerate(cosine_sim[idx]))\n",
    "\n",
    "    # Ordena os filmes baseados na similaridade do cosseno\n",
    "    sim_scores = sorted(sim_scores, key=lambda x: x[1], reverse=True)\n",
    "\n",
    "    # Obtém o score dos dez mais similares, ignorando o primeiro(próprio filme).\n",
    "    sim_scores = sim_scores[1:11]\n",
    "\n",
    "    # Obtém o índice dos filmes\n",
    "    movie_indices = [i[0] for i in sim_scores]\n",
    "\n",
    "    # Retorna o título dos 10 mais similares\n",
    "    return df['title'].iloc[movie_indices]"
   ]
  },
  {
   "cell_type": "code",
   "execution_count": null,
   "id": "2f9fa5ca-7324-4384-8a25-53ca76f7ff93",
   "metadata": {},
   "outputs": [],
   "source": [
    "content_recommender('The Matrix')"
   ]
  },
  {
   "cell_type": "markdown",
   "id": "48882782-1189-4fb6-932a-c117ae135281",
   "metadata": {},
   "source": [
    "Percebemos que nosso recommender funciona relativamente bem. A maioria das recomendações fazem sentido já que, de uma maneira ou outra, trata de filmes com leões em suas descrições. Entretanto, quem assistiu o Rei Leão, provavelmente gostaria de ver recomendação de filmes das disney, mas nosso recommender não consegue capturar essas nuances. \n",
    "\n",
    "Felizmente, temos uma maneira de resolver esse problema. É o que vamos fazer com o Recommender baseado em metadados"
   ]
  },
  {
   "cell_type": "markdown",
   "id": "2853bb37-0ead-4464-a3a1-8d906bcc794d",
   "metadata": {},
   "source": [
    "#### Recommender baseado em metadados\n",
    "Basicamente, vamos seguir os mesmos passos na criação de nosso recommender. Entretanto, os dados a serem usados serão diferentes. Basicamente, vamos usar os seguintes metadados:\n",
    "\n",
    "* Gênero  do filme\n",
    "* O diretor do filme\n",
    "* Três maiores estrelas do filme\n",
    "* Sub-gêneros ou keywords\n",
    "\n",
    "Para isso, vamos precisar de dois arquivos adicionais:"
   ]
  },
  {
   "cell_type": "code",
   "execution_count": null,
   "id": "8d245514-201f-419e-81d9-26c6b30ed5fd",
   "metadata": {},
   "outputs": [],
   "source": [
    "cred_df = pd.read_csv('dados/credits.csv')\n",
    "key_df = pd.read_csv('dados/keywords.csv')\n"
   ]
  },
  {
   "cell_type": "code",
   "execution_count": null,
   "id": "4877b1c9-1914-4b99-899e-3ab365e3ce33",
   "metadata": {},
   "outputs": [],
   "source": [
    "cred_df.head()"
   ]
  },
  {
   "cell_type": "code",
   "execution_count": null,
   "id": "2fd0f19e-53b9-4e41-ae9f-8b0282663cc2",
   "metadata": {},
   "outputs": [],
   "source": [
    "len(key_df)"
   ]
  },
  {
   "cell_type": "code",
   "execution_count": null,
   "id": "49f47e59-5a21-44fa-9d9d-98d77a69b774",
   "metadata": {},
   "outputs": [],
   "source": [
    "key_df.head()"
   ]
  },
  {
   "cell_type": "markdown",
   "id": "a8f7c6fd-efa4-4874-b3b5-216f68f245f4",
   "metadata": {},
   "source": [
    "Podemos ver que as informações do cast, equipe técnica (crew) e keywords estão na forma de lista de dicionários. Assim como fizemos anteriormente com gênero, precisamos reduzie isso a uma string ou lista de strings. \n",
    "\n",
    "Antes disso, porém, vamos agrupar nossos três DataFrames de modo que todas as nossas features estejam num lugar só. Para fazer o join, vamos o *id* e, para evitar erros, vamos tratar os ids, já que temos \"1997-08-20\" como ID.  "
   ]
  },
  {
   "cell_type": "code",
   "execution_count": null,
   "id": "c10daaa4-8e98-4e2c-9eb9-ddcb59908c53",
   "metadata": {},
   "outputs": [],
   "source": [
    "def clean_ids(x):\n",
    "    try:\n",
    "        return int(x)\n",
    "    except:\n",
    "        return np.nan"
   ]
  },
  {
   "cell_type": "code",
   "execution_count": null,
   "id": "1e532e3d-273d-4d98-98a1-0df38cc10aaf",
   "metadata": {},
   "outputs": [],
   "source": [
    "df['id'] = df['id'].apply(clean_ids)\n",
    "df = df[df['id'].notnull()]"
   ]
  },
  {
   "cell_type": "markdown",
   "id": "0554e787-dce4-4898-8085-b9d0d2897405",
   "metadata": {},
   "source": [
    "Agora podemos converter todos os IDs em int e agrupar os DataFrames"
   ]
  },
  {
   "cell_type": "code",
   "execution_count": null,
   "id": "426ce863-46cf-4dee-9553-98c01157f8e6",
   "metadata": {},
   "outputs": [],
   "source": [
    "df['id'] = df['id'].astype(int)\n",
    "key_df['id'] = key_df['id'].astype(int)\n",
    "cred_df['id'] = cred_df['id'].astype(int)\n",
    "\n",
    "df = df.merge(cred_df, on='id')\n",
    "df = df.merge(key_df, on='id')\n",
    "df.head()\n"
   ]
  },
  {
   "cell_type": "markdown",
   "id": "96bc8501-ee64-4099-baa1-4f0585a16d24",
   "metadata": {},
   "source": [
    "Agora que temos todas as features num único Dataframe, vamos transformá-las num formáto útil. Especificamente, essas são as transformações que iremos executar:\n",
    "\n",
    "* Converter *keywords* numa lista de string (vamos inclur somente as top 3)\n",
    "* Converter *cast* numa lista de string (vamos incluir somente as top 3)\n",
    "* De *crew*, vamos recuperar somente o diretor"
   ]
  },
  {
   "cell_type": "code",
   "execution_count": null,
   "id": "8954ba2e-0cd6-4770-afff-082f4ee044cb",
   "metadata": {},
   "outputs": [],
   "source": [
    "#convertendo em objetos python\n",
    "features = ['cast', 'crew', 'keywords', 'genres']\n",
    "for feature in features:\n",
    "    df[feature] = df[feature].apply(literal_eval)"
   ]
  },
  {
   "cell_type": "markdown",
   "id": "2b2c6a73-5394-492b-a4bf-e88c41228f48",
   "metadata": {},
   "source": [
    "Para extrair o nome do diretor, vamos analisar um objeto:"
   ]
  },
  {
   "cell_type": "code",
   "execution_count": null,
   "id": "02da204e-1ecb-4246-b789-52d14a24541e",
   "metadata": {},
   "outputs": [],
   "source": [
    "df.iloc[0]['crew'][0]"
   ]
  },
  {
   "cell_type": "markdown",
   "id": "45a5ee33-a643-455a-8d52-7bbd5378ac89",
   "metadata": {},
   "source": [
    "Assim, vamos criar uma função que olhe somente para a key 'name' e recupera a informação desejada. "
   ]
  },
  {
   "cell_type": "code",
   "execution_count": null,
   "id": "2b166fb5-fa71-4039-9149-e653d3534a43",
   "metadata": {},
   "outputs": [],
   "source": [
    "def get_director(x):\n",
    "    for crew_member in x:\n",
    "        if crew_member['job'] == 'Director':\n",
    "            return crew_member['name']\n",
    "    return np.nan"
   ]
  },
  {
   "cell_type": "code",
   "execution_count": null,
   "id": "58014962-9f2c-4a17-a4c8-a2ca978f983c",
   "metadata": {},
   "outputs": [],
   "source": [
    "df['director'] = df['crew'].apply(get_director)\n",
    "df['director'].head()"
   ]
  },
  {
   "cell_type": "markdown",
   "id": "1f9652dd-b6ad-4391-967f-bc4acc4b2e35",
   "metadata": {},
   "source": [
    "*keywords* e *cast* são lista de dicionários e precisamos extrair o top 3 do atributo 'names'. Vamos escrever uma função que faça isso:"
   ]
  },
  {
   "cell_type": "code",
   "execution_count": null,
   "id": "eeec2c9c-d86b-4a33-bfcd-f4e37164a64a",
   "metadata": {},
   "outputs": [],
   "source": [
    "def generate_list(x):\n",
    "    if isinstance(x, list):\n",
    "        names = [i['name'] for i in x]\n",
    "        #Se tiver mais que tres, retorna somente os tres primeiros\n",
    "        if len(names) > 3:\n",
    "            names = names[:3]\n",
    "        return names\n",
    "\n",
    "    #retorna uma lista vazia, caso nao tenha tres\n",
    "    return []"
   ]
  },
  {
   "cell_type": "code",
   "execution_count": null,
   "id": "fde19bd6-789f-4043-90f4-6e3b241dcb6f",
   "metadata": {},
   "outputs": [],
   "source": [
    "df['cast'] = df['cast'].apply(generate_list)\n",
    "df['keywords'] = df['keywords'].apply(generate_list)"
   ]
  },
  {
   "cell_type": "code",
   "execution_count": null,
   "id": "0dbcb747-1ff0-4e91-b90f-4c7ae3e479c0",
   "metadata": {},
   "outputs": [],
   "source": [
    "#recuperando somentes os top 3 generos\n",
    "df['genres'] = df['genres'].apply(lambda x: x[:3])"
   ]
  },
  {
   "cell_type": "code",
   "execution_count": null,
   "id": "0deb418a-8aae-4622-b1cb-4a3a852479e7",
   "metadata": {},
   "outputs": [],
   "source": [
    "#vamos verificar como ficou nosso DataFrame\n",
    "df[['title', 'cast', 'director', 'keywords', 'genres']].head()"
   ]
  },
  {
   "cell_type": "markdown",
   "id": "6c9ddd82-a4bb-47e4-a23b-3a50a91f9650",
   "metadata": {},
   "source": [
    "Por último, precisamos criar uma função simples para preparar esses textos. Vamos remover os espaços em branco dos nomes de cast e director (de modo que Ryan Reynolds e Ryan Gosling sejam tratados de forma diferente) e colocar todos os textos em minúsculas. "
   ]
  },
  {
   "cell_type": "code",
   "execution_count": null,
   "id": "3d222480-b364-422d-a2a7-554494942a8b",
   "metadata": {},
   "outputs": [],
   "source": [
    "def sanitize(x):\n",
    "    if isinstance(x, list):\n",
    "        #remove espaço em branco e coloca em minúscula\n",
    "        return [str.lower(i.replace(\" \", \"\")) for i in x]\n",
    "    else:\n",
    "        #s nao tiver diretor, retorna uma string vazia\n",
    "        if isinstance(x, str):\n",
    "            return str.lower(x.replace(\" \", \"\"))\n",
    "        else:\n",
    "            return ''"
   ]
  },
  {
   "cell_type": "code",
   "execution_count": null,
   "id": "c061ee24-7719-4697-bc19-4421601b782f",
   "metadata": {},
   "outputs": [],
   "source": [
    "for feature in ['cast', 'director', 'genres', 'keywords']:\n",
    "    df[feature] = df[feature].apply(sanitize)"
   ]
  },
  {
   "cell_type": "markdown",
   "id": "362fbb12-612f-4803-85cd-fc8b67004e79",
   "metadata": {},
   "source": [
    "Antes de aplicar a vetorização, no entanto, precisamos concatenar todas as features que temos numa só. "
   ]
  },
  {
   "cell_type": "code",
   "execution_count": null,
   "id": "ba966f05-45c0-4d58-ad86-fbef469c5b7d",
   "metadata": {},
   "outputs": [],
   "source": [
    "def create_feat(x):\n",
    "    return ' '.join(x['keywords']) + ' ' + ' '.join(x['cast']) + ' ' + x['director'] + ' ' + ' '.join(x['genres'])"
   ]
  },
  {
   "cell_type": "code",
   "execution_count": null,
   "id": "1a96696b-2838-410d-a16c-e84141a4a27a",
   "metadata": {},
   "outputs": [],
   "source": [
    "df['feature'] = df.apply(create_feat, axis=1)"
   ]
  },
  {
   "cell_type": "code",
   "execution_count": null,
   "id": "0c597b89-70eb-48d7-b810-bd53d5737a6c",
   "metadata": {},
   "outputs": [],
   "source": [
    "df.iloc[0]['feature']"
   ]
  },
  {
   "cell_type": "markdown",
   "id": "480feca2-a229-4abe-98fa-4ba3289cdb4b",
   "metadata": {},
   "source": [
    "Agora estamos prontos para realizar a vetorização. Ao invés de usar TF-IDF, vamos usar o BoW (obtido através de CountVectorizer). Isso porque o TFIDI irá dar um peso menor para atores e diretores que atuaram e dirigiram um grande número de filmes."
   ]
  },
  {
   "cell_type": "code",
   "execution_count": null,
   "id": "8fd8f93b-af0b-4029-9803-4e772452b5a9",
   "metadata": {},
   "outputs": [],
   "source": [
    "df['feature'][0:40000]"
   ]
  },
  {
   "cell_type": "code",
   "execution_count": null,
   "id": "204a9cfa-d1fa-445d-8e25-6cc3db3d0fd2",
   "metadata": {},
   "outputs": [],
   "source": [
    "from sklearn.feature_extraction.text import CountVectorizer\n",
    "\n",
    "count = CountVectorizer(stop_words='english')\n",
    "count_matrix = count.fit_transform(df['feature']) #se der problema de memória, reduza a quantidade de linhas: df['feature'][0:30000]\n"
   ]
  },
  {
   "cell_type": "code",
   "execution_count": null,
   "id": "31d6cdf6-53e5-47c3-936f-f1ed972a2228",
   "metadata": {},
   "outputs": [],
   "source": [
    "#calcula a similaridade par a par\n",
    "from sklearn.metrics.pairwise import cosine_similarity\n",
    "cosine_sim2 = cosine_similarity(count_matrix, count_matrix)"
   ]
  },
  {
   "cell_type": "markdown",
   "id": "fc216acd-30c2-4e03-99f3-f2a68571c785",
   "metadata": {},
   "source": [
    "Construindo o mapeamento para recuperar o nome dos filmes"
   ]
  },
  {
   "cell_type": "code",
   "execution_count": null,
   "id": "aecd49fd-d3ba-4bbd-a812-0d4d121c4ac9",
   "metadata": {},
   "outputs": [],
   "source": [
    "df = df.reset_index()\n",
    "indices2 = pd.Series(df.index, index=df['title'])"
   ]
  },
  {
   "cell_type": "markdown",
   "id": "88feb9b8-974f-4229-ae0a-3c7702477813",
   "metadata": {},
   "source": [
    "Agora estamos prontos para usar nosso recommender"
   ]
  },
  {
   "cell_type": "code",
   "execution_count": null,
   "id": "0491cc11-5072-4705-b550-eba016bb37b3",
   "metadata": {},
   "outputs": [],
   "source": [
    "content_recommender('Shutter Island', cosine_sim2, df, indices2)"
   ]
  },
  {
   "cell_type": "markdown",
   "id": "5680258c-224d-469c-9145-f7134a785aab",
   "metadata": {},
   "source": [
    "As recomendações nesse caso foram muito diferentes das anteriores. Vimos que nosso recommender foi capaz de capturar mais informações que apenas 'leões'. Muitos dos filmes na lista são animações e dizem respeito a personagens antropomórficos. "
   ]
  },
  {
   "cell_type": "markdown",
   "id": "36f07679-e30b-42e5-86f0-536f3f78c4d7",
   "metadata": {},
   "source": [
    "# O que você viu nesta aula?\n",
    "\n",
    "Nesta aula, apresentamos o problema de recomendação. Definimos o problema e listamos diversas abordagens de como podemos fazer recomendação. Para isso, apresentamos o conceito de similaridade e as principais técnicas de recomendação, que são os filtros colaborativos."
   ]
  },
  {
   "cell_type": "code",
   "execution_count": null,
   "id": "101772b0-f974-47e4-bf6b-499b047bf10b",
   "metadata": {},
   "outputs": [],
   "source": []
  }
 ],
 "metadata": {
  "kernelspec": {
   "display_name": "Python 3 (ipykernel)",
   "language": "python",
   "name": "python3"
  },
  "language_info": {
   "codemirror_mode": {
    "name": "ipython",
    "version": 3
   },
   "file_extension": ".py",
   "mimetype": "text/x-python",
   "name": "python",
   "nbconvert_exporter": "python",
   "pygments_lexer": "ipython3",
   "version": "3.10.9"
  }
 },
 "nbformat": 4,
 "nbformat_minor": 5
}
