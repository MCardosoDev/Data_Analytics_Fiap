{
 "cells": [
  {
   "cell_type": "code",
   "execution_count": 46,
   "metadata": {},
   "outputs": [],
   "source": [
    "from IPython.display import Image #type: ignore\n",
    "\n",
    "import warnings\n",
    "warnings.filterwarnings('ignore')"
   ]
  },
  {
   "cell_type": "code",
   "execution_count": 19,
   "metadata": {},
   "outputs": [
    {
     "data": {
      "text/html": [
       "<img src=\"Data/image.png\" width=\"600\" height=\"400\"/>"
      ],
      "text/plain": [
       "<IPython.core.display.Image object>"
      ]
     },
     "metadata": {},
     "output_type": "display_data"
    }
   ],
   "source": [
    "display(Image(url=\"Data/image.png\", width=600, height=400))"
   ]
  },
  {
   "cell_type": "code",
   "execution_count": 47,
   "metadata": {},
   "outputs": [
    {
     "data": {
      "text/html": [
       "<div>\n",
       "<style scoped>\n",
       "    .dataframe tbody tr th:only-of-type {\n",
       "        vertical-align: middle;\n",
       "    }\n",
       "\n",
       "    .dataframe tbody tr th {\n",
       "        vertical-align: top;\n",
       "    }\n",
       "\n",
       "    .dataframe thead th {\n",
       "        text-align: right;\n",
       "    }\n",
       "</style>\n",
       "<table border=\"1\" class=\"dataframe\">\n",
       "  <thead>\n",
       "    <tr style=\"text-align: right;\">\n",
       "      <th></th>\n",
       "      <th>codigo</th>\n",
       "      <th>texto</th>\n",
       "      <th>sentimento</th>\n",
       "    </tr>\n",
       "  </thead>\n",
       "  <tbody>\n",
       "    <tr>\n",
       "      <th>0</th>\n",
       "      <td>1</td>\n",
       "      <td>Esse bocejo de pia de cozinha de orçamento mui...</td>\n",
       "      <td>neg</td>\n",
       "    </tr>\n",
       "    <tr>\n",
       "      <th>1</th>\n",
       "      <td>2</td>\n",
       "      <td>O Bravo parece indicar que o personagem princi...</td>\n",
       "      <td>neg</td>\n",
       "    </tr>\n",
       "    <tr>\n",
       "      <th>2</th>\n",
       "      <td>3</td>\n",
       "      <td>Durante a Guerra pela Independência do Sul, GE...</td>\n",
       "      <td>pos</td>\n",
       "    </tr>\n",
       "    <tr>\n",
       "      <th>3</th>\n",
       "      <td>4</td>\n",
       "      <td>É fora de questão que a verdadeira Anna Anders...</td>\n",
       "      <td>pos</td>\n",
       "    </tr>\n",
       "    <tr>\n",
       "      <th>4</th>\n",
       "      <td>5</td>\n",
       "      <td>Concordo totalmente com outro dos revisores aq...</td>\n",
       "      <td>neg</td>\n",
       "    </tr>\n",
       "    <tr>\n",
       "      <th>5</th>\n",
       "      <td>6</td>\n",
       "      <td>Obra-prima absoluta de um filme! Boa noite Mr....</td>\n",
       "      <td>pos</td>\n",
       "    </tr>\n",
       "    <tr>\n",
       "      <th>6</th>\n",
       "      <td>7</td>\n",
       "      <td>Embora a palavra megalmania seja muito usada p...</td>\n",
       "      <td>pos</td>\n",
       "    </tr>\n",
       "    <tr>\n",
       "      <th>7</th>\n",
       "      <td>8</td>\n",
       "      <td>Esta tem que ser a peça mais incrível de porca...</td>\n",
       "      <td>neg</td>\n",
       "    </tr>\n",
       "    <tr>\n",
       "      <th>8</th>\n",
       "      <td>9</td>\n",
       "      <td>Eu suponho que todas as piadas internas são o ...</td>\n",
       "      <td>neg</td>\n",
       "    </tr>\n",
       "    <tr>\n",
       "      <th>9</th>\n",
       "      <td>10</td>\n",
       "      <td>Se há um tema deste filme, é que as pessoas po...</td>\n",
       "      <td>pos</td>\n",
       "    </tr>\n",
       "  </tbody>\n",
       "</table>\n",
       "</div>"
      ],
      "text/plain": [
       "   codigo                                              texto sentimento\n",
       "0       1  Esse bocejo de pia de cozinha de orçamento mui...        neg\n",
       "1       2  O Bravo parece indicar que o personagem princi...        neg\n",
       "2       3  Durante a Guerra pela Independência do Sul, GE...        pos\n",
       "3       4  É fora de questão que a verdadeira Anna Anders...        pos\n",
       "4       5  Concordo totalmente com outro dos revisores aq...        neg\n",
       "5       6  Obra-prima absoluta de um filme! Boa noite Mr....        pos\n",
       "6       7  Embora a palavra megalmania seja muito usada p...        pos\n",
       "7       8  Esta tem que ser a peça mais incrível de porca...        neg\n",
       "8       9  Eu suponho que todas as piadas internas são o ...        neg\n",
       "9      10  Se há um tema deste filme, é que as pessoas po...        pos"
      ]
     },
     "execution_count": 47,
     "metadata": {},
     "output_type": "execute_result"
    }
   ],
   "source": [
    "import pandas as pd\n",
    "\n",
    "df = pd.read_csv(\"Data/reviews-pt-br.csv\", encoding='utf-8')\n",
    "df.head(10)"
   ]
  },
  {
   "cell_type": "code",
   "execution_count": 48,
   "metadata": {},
   "outputs": [
    {
     "data": {
      "text/plain": [
       "(44514, 3)"
      ]
     },
     "execution_count": 48,
     "metadata": {},
     "output_type": "execute_result"
    }
   ],
   "source": [
    "df.shape"
   ]
  },
  {
   "cell_type": "code",
   "execution_count": 49,
   "metadata": {},
   "outputs": [
    {
     "data": {
      "text/plain": [
       "array(['neg', 'pos'], dtype=object)"
      ]
     },
     "execution_count": 49,
     "metadata": {},
     "output_type": "execute_result"
    }
   ],
   "source": [
    "df['sentimento'].unique()"
   ]
  },
  {
   "cell_type": "code",
   "execution_count": 50,
   "metadata": {},
   "outputs": [],
   "source": [
    "import nltk\n",
    "import re\n",
    "import string\n",
    "import unicodedata\n",
    "from nltk.tokenize import word_tokenize\n",
    "from nltk.corpus import stopwords\n",
    "    \n",
    "def normalize_accents(text):\n",
    "    return unicodedata.normalize(\"NFKD\", text).encode(\"ASCII\", \"ignore\").decode(\"utf-8\")\n",
    "\n",
    "def normalize_str(text):\n",
    "    text = text.lower()\n",
    "    text = remove_punctuation(text)\n",
    "    text = normalize_accents(text)\n",
    "    text = re.sub(re.compile(r\" +\"), \" \",text)\n",
    "    return \" \".join([w for w in text.split()])\n",
    "\n",
    "def remove_punctuation(text):\n",
    "    punctuations = string.punctuation\n",
    "    table = str.maketrans({key: \" \" for key in punctuations})\n",
    "    text = text.translate(table)\n",
    "    return text\n",
    "\n",
    "\n",
    "def tokenizer(text):\n",
    "    stop_words = nltk.corpus.stopwords.words(\"portuguese\")\n",
    "    if isinstance(text, str):\n",
    "        text = normalize_str(text)\n",
    "        text = \"\".join([w for w in text if not w.isdigit()])\n",
    "        text = word_tokenize(text)\n",
    "        text = [x for x in text if x not in stop_words]\n",
    "        text = [y for y in text if len(y) > 2]\n",
    "        return [t for t in text]\n",
    "    else:\n",
    "        return None"
   ]
  },
  {
   "cell_type": "code",
   "execution_count": 51,
   "metadata": {},
   "outputs": [
    {
     "data": {
      "text/html": [
       "<div>\n",
       "<style scoped>\n",
       "    .dataframe tbody tr th:only-of-type {\n",
       "        vertical-align: middle;\n",
       "    }\n",
       "\n",
       "    .dataframe tbody tr th {\n",
       "        vertical-align: top;\n",
       "    }\n",
       "\n",
       "    .dataframe thead th {\n",
       "        text-align: right;\n",
       "    }\n",
       "</style>\n",
       "<table border=\"1\" class=\"dataframe\">\n",
       "  <thead>\n",
       "    <tr style=\"text-align: right;\">\n",
       "      <th></th>\n",
       "      <th>codigo</th>\n",
       "      <th>texto</th>\n",
       "      <th>sentimento</th>\n",
       "      <th>texto_tratado</th>\n",
       "      <th>sentimento_tratado</th>\n",
       "    </tr>\n",
       "  </thead>\n",
       "  <tbody>\n",
       "    <tr>\n",
       "      <th>0</th>\n",
       "      <td>1</td>\n",
       "      <td>Esse bocejo de pia de cozinha de orçamento mui...</td>\n",
       "      <td>neg</td>\n",
       "      <td>[bocejo, pia, cozinha, orcamento, baixo, tipo,...</td>\n",
       "      <td>0</td>\n",
       "    </tr>\n",
       "    <tr>\n",
       "      <th>1</th>\n",
       "      <td>2</td>\n",
       "      <td>O Bravo parece indicar que o personagem princi...</td>\n",
       "      <td>neg</td>\n",
       "      <td>[bravo, parece, indicar, personagem, principal...</td>\n",
       "      <td>0</td>\n",
       "    </tr>\n",
       "    <tr>\n",
       "      <th>2</th>\n",
       "      <td>3</td>\n",
       "      <td>Durante a Guerra pela Independência do Sul, GE...</td>\n",
       "      <td>pos</td>\n",
       "      <td>[durante, guerra, independencia, sul, general,...</td>\n",
       "      <td>1</td>\n",
       "    </tr>\n",
       "    <tr>\n",
       "      <th>3</th>\n",
       "      <td>4</td>\n",
       "      <td>É fora de questão que a verdadeira Anna Anders...</td>\n",
       "      <td>pos</td>\n",
       "      <td>[questao, verdadeira, anna, anderson, nao, pri...</td>\n",
       "      <td>1</td>\n",
       "    </tr>\n",
       "    <tr>\n",
       "      <th>4</th>\n",
       "      <td>5</td>\n",
       "      <td>Concordo totalmente com outro dos revisores aq...</td>\n",
       "      <td>neg</td>\n",
       "      <td>[concordo, totalmente, outro, revisores, aqui,...</td>\n",
       "      <td>0</td>\n",
       "    </tr>\n",
       "    <tr>\n",
       "      <th>5</th>\n",
       "      <td>6</td>\n",
       "      <td>Obra-prima absoluta de um filme! Boa noite Mr....</td>\n",
       "      <td>pos</td>\n",
       "      <td>[obra, prima, absoluta, filme, boa, noite, tom...</td>\n",
       "      <td>1</td>\n",
       "    </tr>\n",
       "    <tr>\n",
       "      <th>6</th>\n",
       "      <td>7</td>\n",
       "      <td>Embora a palavra megalmania seja muito usada p...</td>\n",
       "      <td>pos</td>\n",
       "      <td>[embora, palavra, megalmania, usada, descrever...</td>\n",
       "      <td>1</td>\n",
       "    </tr>\n",
       "    <tr>\n",
       "      <th>7</th>\n",
       "      <td>8</td>\n",
       "      <td>Esta tem que ser a peça mais incrível de porca...</td>\n",
       "      <td>neg</td>\n",
       "      <td>[peca, incrivel, porcaria, cinematografica, as...</td>\n",
       "      <td>0</td>\n",
       "    </tr>\n",
       "    <tr>\n",
       "      <th>8</th>\n",
       "      <td>9</td>\n",
       "      <td>Eu suponho que todas as piadas internas são o ...</td>\n",
       "      <td>neg</td>\n",
       "      <td>[suponho, todas, piadas, internas, sao, fez, m...</td>\n",
       "      <td>0</td>\n",
       "    </tr>\n",
       "    <tr>\n",
       "      <th>9</th>\n",
       "      <td>10</td>\n",
       "      <td>Se há um tema deste filme, é que as pessoas po...</td>\n",
       "      <td>pos</td>\n",
       "      <td>[tema, deste, filme, pessoas, podem, lidar, di...</td>\n",
       "      <td>1</td>\n",
       "    </tr>\n",
       "  </tbody>\n",
       "</table>\n",
       "</div>"
      ],
      "text/plain": [
       "   codigo                                              texto sentimento  \\\n",
       "0       1  Esse bocejo de pia de cozinha de orçamento mui...        neg   \n",
       "1       2  O Bravo parece indicar que o personagem princi...        neg   \n",
       "2       3  Durante a Guerra pela Independência do Sul, GE...        pos   \n",
       "3       4  É fora de questão que a verdadeira Anna Anders...        pos   \n",
       "4       5  Concordo totalmente com outro dos revisores aq...        neg   \n",
       "5       6  Obra-prima absoluta de um filme! Boa noite Mr....        pos   \n",
       "6       7  Embora a palavra megalmania seja muito usada p...        pos   \n",
       "7       8  Esta tem que ser a peça mais incrível de porca...        neg   \n",
       "8       9  Eu suponho que todas as piadas internas são o ...        neg   \n",
       "9      10  Se há um tema deste filme, é que as pessoas po...        pos   \n",
       "\n",
       "                                       texto_tratado  sentimento_tratado  \n",
       "0  [bocejo, pia, cozinha, orcamento, baixo, tipo,...                   0  \n",
       "1  [bravo, parece, indicar, personagem, principal...                   0  \n",
       "2  [durante, guerra, independencia, sul, general,...                   1  \n",
       "3  [questao, verdadeira, anna, anderson, nao, pri...                   1  \n",
       "4  [concordo, totalmente, outro, revisores, aqui,...                   0  \n",
       "5  [obra, prima, absoluta, filme, boa, noite, tom...                   1  \n",
       "6  [embora, palavra, megalmania, usada, descrever...                   1  \n",
       "7  [peca, incrivel, porcaria, cinematografica, as...                   0  \n",
       "8  [suponho, todas, piadas, internas, sao, fez, m...                   0  \n",
       "9  [tema, deste, filme, pessoas, podem, lidar, di...                   1  "
      ]
     },
     "execution_count": 51,
     "metadata": {},
     "output_type": "execute_result"
    }
   ],
   "source": [
    "df['texto_tratado'] = df['texto'].apply(tokenizer)\n",
    "df['sentimento_tratado'] = df['sentimento'].map({'pos': 1, 'neg': 0})\n",
    "df.head(10)"
   ]
  },
  {
   "cell_type": "code",
   "execution_count": 52,
   "metadata": {},
   "outputs": [
    {
     "data": {
      "text/plain": [
       "0"
      ]
     },
     "execution_count": 52,
     "metadata": {},
     "output_type": "execute_result"
    }
   ],
   "source": [
    "df.isnull().sum().sum()"
   ]
  },
  {
   "cell_type": "code",
   "execution_count": 53,
   "metadata": {},
   "outputs": [
    {
     "data": {
      "text/plain": [
       "sentimento\n",
       "neg    22307\n",
       "pos    22207\n",
       "Name: count, dtype: int64"
      ]
     },
     "execution_count": 53,
     "metadata": {},
     "output_type": "execute_result"
    }
   ],
   "source": [
    "df['sentimento'].value_counts()"
   ]
  },
  {
   "cell_type": "code",
   "execution_count": 54,
   "metadata": {},
   "outputs": [
    {
     "data": {
      "text/plain": [
       "sentimento_tratado\n",
       "0    22307\n",
       "1    22207\n",
       "Name: count, dtype: int64"
      ]
     },
     "execution_count": 54,
     "metadata": {},
     "output_type": "execute_result"
    }
   ],
   "source": [
    "df['sentimento_tratado'].value_counts()"
   ]
  },
  {
   "cell_type": "code",
   "execution_count": 55,
   "metadata": {},
   "outputs": [],
   "source": [
    "import multiprocessing\n",
    "import numpy as np\n",
    "\n",
    "dim_vec = 300\n",
    "min_count = 10\n",
    "window = 4\n",
    "num_workers = multiprocessing.cpu_count()\n",
    "seed = np.random.seed(42)"
   ]
  },
  {
   "cell_type": "code",
   "execution_count": 56,
   "metadata": {},
   "outputs": [],
   "source": [
    "from gensim.models import Word2Vec\n",
    "\n",
    "modelo = Word2Vec(df[\"texto_tratado\"],\n",
    "                    min_count = min_count, \n",
    "                    vector_size = dim_vec, \n",
    "                    window = window,\n",
    "                    seed = seed, #type: ignore\n",
    "                    workers = num_workers,\n",
    "                    sg = 1)"
   ]
  },
  {
   "cell_type": "code",
   "execution_count": 57,
   "metadata": {},
   "outputs": [
    {
     "name": "stdout",
     "output_type": "stream",
     "text": [
      "Tamanho do vocabulário do Word2Vec:  30443\n",
      "[('shows', 0.5126184225082397), ('programa', 0.5022436380386353), ('scary', 0.41896867752075195)]\n"
     ]
    }
   ],
   "source": [
    "print(\"Tamanho do vocabulário do Word2Vec: \", len(modelo.wv))\n",
    "\n",
    "print(modelo.wv.most_similar(positive = ['show', 'movie'], negative = ['home'], topn = 3)) # similaridade considerando exemplos positivos e negativos\n"
   ]
  },
  {
   "cell_type": "code",
   "execution_count": 58,
   "metadata": {},
   "outputs": [],
   "source": [
    "def meanVector(model,phrase):\n",
    "    vocab = list(model.wv.index_to_key)\n",
    "    phrase = \" \".join(phrase)\n",
    "    phrase = [x for x in word_tokenize(phrase) if x in vocab]\n",
    "    \n",
    "    if phrase == []:\n",
    "        vetor = [0.0]*dim_vec \n",
    "    else:\n",
    "        vetor = np.mean([model.wv[word] for word in phrase],axis=0)\n",
    "    return vetor"
   ]
  },
  {
   "cell_type": "code",
   "execution_count": 59,
   "metadata": {},
   "outputs": [],
   "source": [
    "def createFeatures(base): \n",
    "    features = [meanVector(modelo,base['texto_tratado'][i])for i in range(len(base))]\n",
    "    return features"
   ]
  },
  {
   "cell_type": "code",
   "execution_count": 60,
   "metadata": {},
   "outputs": [],
   "source": [
    "labels = np.array(df['sentimento'])\n",
    "labels_tratado = np.array(df['sentimento_tratado'])"
   ]
  },
  {
   "cell_type": "code",
   "execution_count": 61,
   "metadata": {},
   "outputs": [],
   "source": [
    "df = createFeatures(df)"
   ]
  },
  {
   "cell_type": "code",
   "execution_count": 62,
   "metadata": {},
   "outputs": [],
   "source": [
    "from sklearn.model_selection import train_test_split\n",
    "\n",
    "X_train, X_test, y_train, y_test = train_test_split(df, labels, test_size=0.2, random_state=42)\n",
    "X_train_b, X_test_b, y_train_b, y_test_b = train_test_split(df, labels_tratado, test_size=0.2, random_state=42)"
   ]
  },
  {
   "cell_type": "code",
   "execution_count": 40,
   "metadata": {},
   "outputs": [
    {
     "name": "stdout",
     "output_type": "stream",
     "text": [
      "Best Parameters: {'C': 10, 'gamma': 'scale'}\n"
     ]
    }
   ],
   "source": [
    "from sklearn import svm\n",
    "from sklearn.model_selection import GridSearchCV\n",
    "\n",
    "param_grid = {'C': [0.1, 1, 10, 100], 'gamma': ['scale', 'auto', 0.1, 0.01, 0.001]}\n",
    "grid_search = GridSearchCV(svm.SVC(kernel='rbf'), param_grid, cv=5)\n",
    "grid_search.fit(X_train, y_train)\n",
    "\n",
    "best_params = grid_search.best_params_\n",
    "best_model = grid_search.best_estimator_\n",
    "print(\"Best Parameters:\", best_params)\n",
    "\n",
    "y_pred = best_model.predict(X_test)"
   ]
  },
  {
   "cell_type": "code",
   "execution_count": 41,
   "metadata": {},
   "outputs": [
    {
     "name": "stdout",
     "output_type": "stream",
     "text": [
      "Accuracy: 0.8845333033808829\n",
      "Weighted F1-score: 0.8845335364604024\n"
     ]
    }
   ],
   "source": [
    "from sklearn import metrics\n",
    "\n",
    "print(\"Accuracy:\",metrics.accuracy_score(y_test, y_pred))\n",
    "print(\"Weighted F1-score:\", metrics.f1_score(y_test, y_pred, average='weighted'))"
   ]
  },
  {
   "cell_type": "code",
   "execution_count": 44,
   "metadata": {},
   "outputs": [
    {
     "name": "stdout",
     "output_type": "stream",
     "text": [
      "Best Parameters: {'activation': 'relu', 'alpha': 0.01, 'hidden_layer_sizes': (100,)}\n"
     ]
    }
   ],
   "source": [
    "from sklearn.neural_network import MLPClassifier\n",
    "\n",
    "param_grid = {\n",
    "    'hidden_layer_sizes': [(50, 50), (100,)],\n",
    "    'activation': ['relu', 'tanh'],\n",
    "    'alpha': [0.0001, 0.001, 0.01, 0.1],\n",
    "}\n",
    "\n",
    "\n",
    "grid_search = GridSearchCV(MLPClassifier(), param_grid, cv=5)\n",
    "grid_search.fit(X_train, y_train)\n",
    "\n",
    "best_params_mlp = grid_search.best_params_\n",
    "best_model_mlp = grid_search.best_estimator_\n",
    "\n",
    "print(\"Best Parameters:\", best_params_mlp)\n",
    "\n",
    "y_pred_mlp = best_model_mlp.predict(X_test)"
   ]
  },
  {
   "cell_type": "code",
   "execution_count": 45,
   "metadata": {},
   "outputs": [
    {
     "name": "stdout",
     "output_type": "stream",
     "text": [
      "Accuracy: 0.8830731214197461\n",
      "Weighted F1-score: 0.882994506712377\n"
     ]
    }
   ],
   "source": [
    "print(\"Accuracy:\",metrics.accuracy_score(y_test, y_pred_mlp))\n",
    "print(\"Weighted F1-score:\", metrics.f1_score(y_test, y_pred_mlp, average='weighted'))"
   ]
  }
 ],
 "metadata": {
  "kernelspec": {
   "display_name": ".venv",
   "language": "python",
   "name": "python3"
  },
  "language_info": {
   "codemirror_mode": {
    "name": "ipython",
    "version": 3
   },
   "file_extension": ".py",
   "mimetype": "text/x-python",
   "name": "python",
   "nbconvert_exporter": "python",
   "pygments_lexer": "ipython3",
   "version": "3.11.7"
  }
 },
 "nbformat": 4,
 "nbformat_minor": 2
}
