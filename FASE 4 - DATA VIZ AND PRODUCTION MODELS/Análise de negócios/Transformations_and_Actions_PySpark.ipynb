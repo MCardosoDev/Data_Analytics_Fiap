{
  "nbformat": 4,
  "nbformat_minor": 0,
  "metadata": {
    "colab": {
      "provenance": []
    },
    "kernelspec": {
      "name": "python3",
      "display_name": "Python 3"
    },
    "language_info": {
      "name": "python"
    }
  },
  "cells": [
    {
      "cell_type": "markdown",
      "source": [
        "# Transformations PySpark"
      ],
      "metadata": {
        "id": "DtPi3zvhItBb"
      }
    },
    {
      "cell_type": "code",
      "source": [
        "!pip install pyspark"
      ],
      "metadata": {
        "colab": {
          "base_uri": "https://localhost:8080/"
        },
        "id": "gZ-JqwDpIzmN",
        "outputId": "ff8dac73-54f7-4cac-be41-be333e7daff4"
      },
      "execution_count": null,
      "outputs": [
        {
          "output_type": "stream",
          "name": "stdout",
          "text": [
            "Collecting pyspark\n",
            "  Downloading pyspark-3.4.1.tar.gz (310.8 MB)\n",
            "\u001b[2K     \u001b[90m━━━━━━━━━━━━━━━━━━━━━━━━━━━━━━━━━━━━━━━\u001b[0m \u001b[32m310.8/310.8 MB\u001b[0m \u001b[31m2.9 MB/s\u001b[0m eta \u001b[36m0:00:00\u001b[0m\n",
            "\u001b[?25h  Preparing metadata (setup.py) ... \u001b[?25l\u001b[?25hdone\n",
            "Requirement already satisfied: py4j==0.10.9.7 in /usr/local/lib/python3.10/dist-packages (from pyspark) (0.10.9.7)\n",
            "Building wheels for collected packages: pyspark\n",
            "  Building wheel for pyspark (setup.py) ... \u001b[?25l\u001b[?25hdone\n",
            "  Created wheel for pyspark: filename=pyspark-3.4.1-py2.py3-none-any.whl size=311285398 sha256=d66abc130d9c7d43c9c5033160ad176e04f57309bfe070942d8e05295de3a3af\n",
            "  Stored in directory: /root/.cache/pip/wheels/0d/77/a3/ff2f74cc9ab41f8f594dabf0579c2a7c6de920d584206e0834\n",
            "Successfully built pyspark\n",
            "Installing collected packages: pyspark\n",
            "Successfully installed pyspark-3.4.1\n"
          ]
        }
      ]
    },
    {
      "cell_type": "code",
      "source": [
        "!pip install findspark"
      ],
      "metadata": {
        "colab": {
          "base_uri": "https://localhost:8080/"
        },
        "id": "f3Md3fv3I_XG",
        "outputId": "93350244-ee93-405b-f2a9-88d3a103d553"
      },
      "execution_count": null,
      "outputs": [
        {
          "output_type": "stream",
          "name": "stdout",
          "text": [
            "Collecting findspark\n",
            "  Downloading findspark-2.0.1-py2.py3-none-any.whl (4.4 kB)\n",
            "Installing collected packages: findspark\n",
            "Successfully installed findspark-2.0.1\n"
          ]
        }
      ]
    },
    {
      "cell_type": "code",
      "source": [
        "from pyspark import SparkContext\n",
        "from pyspark.sql import SparkSession"
      ],
      "metadata": {
        "id": "Qy0Z0nZHI8Wp"
      },
      "execution_count": null,
      "outputs": []
    },
    {
      "cell_type": "code",
      "source": [
        "sc = SparkContext.getOrCreate()"
      ],
      "metadata": {
        "id": "5eQ7NvRzJ0uQ"
      },
      "execution_count": null,
      "outputs": []
    },
    {
      "cell_type": "code",
      "source": [
        "spark = SparkSession.builder.appName('PySpark DataFrame From RDD').getOrCreate()"
      ],
      "metadata": {
        "id": "UZJ896PgJ2K1"
      },
      "execution_count": null,
      "outputs": []
    },
    {
      "cell_type": "markdown",
      "source": [
        "## map()"
      ],
      "metadata": {
        "id": "5pUVpU6yIwwQ"
      }
    },
    {
      "cell_type": "code",
      "execution_count": null,
      "metadata": {
        "colab": {
          "base_uri": "https://localhost:8080/"
        },
        "id": "kYKiwxjzImXY",
        "outputId": "59ee24eb-61f1-4978-e805-b9d72e8e0dd2"
      },
      "outputs": [
        {
          "output_type": "stream",
          "name": "stdout",
          "text": [
            "[2, 4, 6, 8, 10]\n"
          ]
        }
      ],
      "source": [
        "data= [1, 2, 3, 4, 5]\n",
        "myRDD= sc.parallelize(data)\n",
        "#Returns a new RDD by multiplying all elements of parent RDD by 2\n",
        "newRDD= myRDD.map(lambda x: x*2)\n",
        "print(newRDD.collect())"
      ]
    },
    {
      "cell_type": "markdown",
      "source": [
        "## flatMap()"
      ],
      "metadata": {
        "id": "8iz2mvvkKDMn"
      }
    },
    {
      "cell_type": "code",
      "source": [
        "data= [1, 2, 3]\n",
        "myRDD= sc.parallelize(data)\n",
        "#map() returns [[1], [1, 2], [1, 2, 3]]\n",
        "mapRDD= myRDD.map(lambda x: range(1,x))\n",
        "#flatmap() returns [1, 1, 2, 1, 2, 3]\n",
        "flatMapRDD = myRDD.flatMap(lambda x: range(1,x))"
      ],
      "metadata": {
        "id": "0EQYOAEjKCka"
      },
      "execution_count": null,
      "outputs": []
    },
    {
      "cell_type": "markdown",
      "source": [
        "## filter()"
      ],
      "metadata": {
        "id": "EGkIstSWKHV_"
      }
    },
    {
      "cell_type": "code",
      "source": [
        "data= [1, 2, 3, 4, 5, 6]\n",
        "myRDD= sc.parallelize(data)\n",
        "#returns an RDD with only the elements that are divisible by 2\n",
        "newRDD= myRDD.filter(lambda x: x%2 == 0)\n",
        "print(newRDD.collect())"
      ],
      "metadata": {
        "colab": {
          "base_uri": "https://localhost:8080/"
        },
        "id": "nsJ_5vZ4KIxm",
        "outputId": "7bbec148-e2b6-4730-ea3e-525f5e677301"
      },
      "execution_count": null,
      "outputs": [
        {
          "output_type": "stream",
          "name": "stdout",
          "text": [
            "[2, 4, 6]\n"
          ]
        }
      ]
    },
    {
      "cell_type": "markdown",
      "source": [
        "## distinct()"
      ],
      "metadata": {
        "id": "k66NCOyXKMGH"
      }
    },
    {
      "cell_type": "code",
      "source": [
        "data= [1, 2, 2, 3, 3, 3]\n",
        "myRDD= sc.parallelize(data)\n",
        "newRDD= myRDD.distinct()\n",
        "print(newRDD.collect())"
      ],
      "metadata": {
        "colab": {
          "base_uri": "https://localhost:8080/"
        },
        "id": "segwXsP4KNjO",
        "outputId": "30491411-0585-47ab-d59d-758ba283d0a1"
      },
      "execution_count": null,
      "outputs": [
        {
          "output_type": "stream",
          "name": "stdout",
          "text": [
            "[2, 1, 3]\n"
          ]
        }
      ]
    },
    {
      "cell_type": "markdown",
      "source": [
        "## groupByKey()"
      ],
      "metadata": {
        "id": "c4SOApzYKPC5"
      }
    },
    {
      "cell_type": "code",
      "source": [
        "myRDD = sc.parallelize([('a', 1), ('a', 2), ('a', 3), ('b', 1)])\n",
        "#print result as list\n",
        "resultList= myRDD.groupByKey().mapValues(list)\n",
        "resultList.collect()"
      ],
      "metadata": {
        "colab": {
          "base_uri": "https://localhost:8080/"
        },
        "id": "N3-m37wMKQW1",
        "outputId": "c4a2d202-08e2-4d59-8668-f555208d7a8b"
      },
      "execution_count": null,
      "outputs": [
        {
          "output_type": "execute_result",
          "data": {
            "text/plain": [
              "[('b', [1]), ('a', [1, 2, 3])]"
            ]
          },
          "metadata": {},
          "execution_count": 16
        }
      ]
    },
    {
      "cell_type": "markdown",
      "source": [
        "## reduceByKey()"
      ],
      "metadata": {
        "id": "-wwgB4nSKYVq"
      }
    },
    {
      "cell_type": "code",
      "source": [
        "from operator import add\n",
        "myRDD = sc.parallelize([('a', 1), ('a', 2), ('a', 3), ('b', 1)])\n",
        "#adds the values by keys\n",
        "newRDD= myRDD.reduceByKey(add)\n",
        "newRDD.collect()"
      ],
      "metadata": {
        "colab": {
          "base_uri": "https://localhost:8080/"
        },
        "id": "nyGxP_ufKZ6y",
        "outputId": "e9dd5d08-1db5-4607-dfb0-1c9b88464c35"
      },
      "execution_count": null,
      "outputs": [
        {
          "output_type": "execute_result",
          "data": {
            "text/plain": [
              "[('b', 1), ('a', 6)]"
            ]
          },
          "metadata": {},
          "execution_count": 18
        }
      ]
    },
    {
      "cell_type": "markdown",
      "source": [
        "## sortByKey()"
      ],
      "metadata": {
        "id": "4pJjGTUrKkAi"
      }
    },
    {
      "cell_type": "code",
      "source": [
        "myRDD = sc.parallelize([('c', 1), ('d', 2), ('a', 3), ('b', 4)])\n",
        "#sort by key\n",
        "newRDD= myRDD.sortByKey()\n",
        "newRDD.collect()"
      ],
      "metadata": {
        "colab": {
          "base_uri": "https://localhost:8080/"
        },
        "id": "nya6PABeKldr",
        "outputId": "7e25d77a-786e-4d38-924b-3e159612c0a3"
      },
      "execution_count": null,
      "outputs": [
        {
          "output_type": "execute_result",
          "data": {
            "text/plain": [
              "[('a', 3), ('b', 4), ('c', 1), ('d', 2)]"
            ]
          },
          "metadata": {},
          "execution_count": 20
        }
      ]
    },
    {
      "cell_type": "markdown",
      "source": [
        "## union()"
      ],
      "metadata": {
        "id": "qQiAF9EpKq3n"
      }
    },
    {
      "cell_type": "code",
      "source": [
        "myRDD1 = sc.parallelize([1, 2, 3, 4])\n",
        "myRDD2 = sc.parallelize([ 3, 4, 5, 6, 7])\n",
        "#union of myRDD1 and myRDD2\n",
        "newRDD = myRDD1.union(myRDD2)\n",
        "newRDD.collect()"
      ],
      "metadata": {
        "colab": {
          "base_uri": "https://localhost:8080/"
        },
        "id": "LxfM314VKsnA",
        "outputId": "ea8067a2-07f3-47ed-9c74-8ed96b99d51f"
      },
      "execution_count": null,
      "outputs": [
        {
          "output_type": "execute_result",
          "data": {
            "text/plain": [
              "[1, 2, 3, 4, 3, 4, 5, 6, 7]"
            ]
          },
          "metadata": {},
          "execution_count": 21
        }
      ]
    },
    {
      "cell_type": "markdown",
      "source": [
        "# Actions PySpark"
      ],
      "metadata": {
        "id": "R5eqe2hPKugZ"
      }
    },
    {
      "cell_type": "markdown",
      "source": [
        "## count()"
      ],
      "metadata": {
        "id": "MZ_WZU1EKzVL"
      }
    },
    {
      "cell_type": "code",
      "source": [
        "data= ['Scala', 'Python', 'Java', 'R']\n",
        "myRDD= sc.parallelize(data)\n",
        "#Returns 4 as output\n",
        "myRDD.count()"
      ],
      "metadata": {
        "colab": {
          "base_uri": "https://localhost:8080/"
        },
        "id": "PIXVbiyAKySe",
        "outputId": "c3ee0b44-b3cb-4712-84db-ab7835531916"
      },
      "execution_count": null,
      "outputs": [
        {
          "output_type": "execute_result",
          "data": {
            "text/plain": [
              "4"
            ]
          },
          "metadata": {},
          "execution_count": 22
        }
      ]
    },
    {
      "cell_type": "markdown",
      "source": [
        "## reduce()"
      ],
      "metadata": {
        "id": "Hv1Ha7gEK4x3"
      }
    },
    {
      "cell_type": "code",
      "source": [
        "data= [1, 2, 3, 4, 5]\n",
        "myRDD= sc.parallelize(data)\n",
        "#returns the product of all the elements\n",
        "myRDD.reduce(lambda x, y: x * y)"
      ],
      "metadata": {
        "colab": {
          "base_uri": "https://localhost:8080/"
        },
        "id": "01tur36zK6am",
        "outputId": "6eda15d5-ea2e-4dde-de45-c47c2a5ce2f4"
      },
      "execution_count": null,
      "outputs": [
        {
          "output_type": "execute_result",
          "data": {
            "text/plain": [
              "120"
            ]
          },
          "metadata": {},
          "execution_count": 23
        }
      ]
    },
    {
      "cell_type": "code",
      "source": [
        "data= ['Scala', 'Python', 'Java', 'R']\n",
        "myRDD= sc.parallelize(data)\n",
        "#Concatenate the string elements\n",
        "myRDD.reduce( lambda x, y: x + y)"
      ],
      "metadata": {
        "colab": {
          "base_uri": "https://localhost:8080/",
          "height": 36
        },
        "id": "O7jCKpFYK9XU",
        "outputId": "308babc8-4054-49d4-b004-579fc6f5c582"
      },
      "execution_count": null,
      "outputs": [
        {
          "output_type": "execute_result",
          "data": {
            "text/plain": [
              "'ScalaPythonJavaR'"
            ],
            "application/vnd.google.colaboratory.intrinsic+json": {
              "type": "string"
            }
          },
          "metadata": {},
          "execution_count": 24
        }
      ]
    },
    {
      "cell_type": "markdown",
      "source": [
        "## foreach()"
      ],
      "metadata": {
        "id": "QpULVIk4LBr6"
      }
    },
    {
      "cell_type": "code",
      "source": [
        "def fun(x):\n",
        "    print(x)\n",
        "data= ['Scala', 'Python', 'Java', 'R']\n",
        "myRDD= sc.parallelize(data)\n",
        "#function applied to all the elements\n",
        "myRDD.foreach(fun)"
      ],
      "metadata": {
        "id": "Gm7iAf0YLDnP"
      },
      "execution_count": null,
      "outputs": []
    },
    {
      "cell_type": "markdown",
      "source": [
        "## countByValue()"
      ],
      "metadata": {
        "id": "Yw6gTUqBLHF0"
      }
    },
    {
      "cell_type": "code",
      "source": [
        "data= ['Python', 'Scala', 'Python', 'R', 'Python', 'Java', 'R']\n",
        "myRDD= sc.parallelize(data)\n",
        "#items() returns a list with all the dictionary keys and values returned by countByValue()\n",
        "myRDD.countByValue().items()"
      ],
      "metadata": {
        "colab": {
          "base_uri": "https://localhost:8080/"
        },
        "id": "u1ySKgxJLIRW",
        "outputId": "895bc41f-2500-4161-a9db-2e87609a833b"
      },
      "execution_count": null,
      "outputs": [
        {
          "output_type": "execute_result",
          "data": {
            "text/plain": [
              "dict_items([('Python', 3), ('Scala', 1), ('R', 2), ('Java', 1)])"
            ]
          },
          "metadata": {},
          "execution_count": 27
        }
      ]
    },
    {
      "cell_type": "markdown",
      "source": [
        "## countByKey()"
      ],
      "metadata": {
        "id": "9FhAg63XLcqr"
      }
    },
    {
      "cell_type": "code",
      "source": [
        "data= [('a', 1), ('b', 1), ('c', 1), ('a', 1)]\n",
        "myRDD = sc.parallelize(data)\n",
        "myRDD.countByKey().items()"
      ],
      "metadata": {
        "colab": {
          "base_uri": "https://localhost:8080/"
        },
        "id": "DrLHUTGaLfSX",
        "outputId": "1ed0f052-5c7e-4f1b-8713-ddac4290bb99"
      },
      "execution_count": null,
      "outputs": [
        {
          "output_type": "execute_result",
          "data": {
            "text/plain": [
              "dict_items([('a', 2), ('b', 1), ('c', 1)])"
            ]
          },
          "metadata": {},
          "execution_count": 28
        }
      ]
    },
    {
      "cell_type": "markdown",
      "source": [
        "## take(n)"
      ],
      "metadata": {
        "id": "2PI_T0PnLlVL"
      }
    },
    {
      "cell_type": "code",
      "source": [
        "data= [2, 5, 3, 8, 4]\n",
        "myRDD= sc.parallelize(data)\n",
        "#return the first 2 elements\n",
        "myRDD.take(3)"
      ],
      "metadata": {
        "colab": {
          "base_uri": "https://localhost:8080/"
        },
        "id": "z2jLc1B5LmzG",
        "outputId": "aff87ab8-8e86-44c0-ead1-ac936b11e43f"
      },
      "execution_count": null,
      "outputs": [
        {
          "output_type": "execute_result",
          "data": {
            "text/plain": [
              "[2, 5, 3]"
            ]
          },
          "metadata": {},
          "execution_count": 29
        }
      ]
    },
    {
      "cell_type": "markdown",
      "source": [
        "## top(n)"
      ],
      "metadata": {
        "id": "9ZHLsm5YLqCK"
      }
    },
    {
      "cell_type": "code",
      "source": [
        "data= [2, 5, 3, 8, 4]\n",
        "myRDD= sc.parallelize(data)\n",
        "#return the first 2 elements\n",
        "myRDD.take(3)"
      ],
      "metadata": {
        "colab": {
          "base_uri": "https://localhost:8080/"
        },
        "id": "TNZCb9sOLrLG",
        "outputId": "0a1b929d-637d-40a9-a6ac-b62696e3cf91"
      },
      "execution_count": null,
      "outputs": [
        {
          "output_type": "execute_result",
          "data": {
            "text/plain": [
              "[2, 5, 3]"
            ]
          },
          "metadata": {},
          "execution_count": 30
        }
      ]
    }
  ]
}