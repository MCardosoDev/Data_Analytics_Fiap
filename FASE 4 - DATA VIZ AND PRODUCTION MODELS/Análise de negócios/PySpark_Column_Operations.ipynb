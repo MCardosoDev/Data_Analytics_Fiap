{
  "nbformat": 4,
  "nbformat_minor": 0,
  "metadata": {
    "colab": {
      "provenance": [],
      "toc_visible": true
    },
    "kernelspec": {
      "name": "python3",
      "display_name": "Python 3"
    },
    "language_info": {
      "name": "python"
    }
  },
  "cells": [
    {
      "cell_type": "markdown",
      "source": [
        "# Creating New Column in PySpark DataFrame"
      ],
      "metadata": {
        "id": "fp0aNsCIYV4Y"
      }
    },
    {
      "cell_type": "markdown",
      "source": [
        "## Installing Libraries"
      ],
      "metadata": {
        "id": "lTIwmVXEYvqO"
      }
    },
    {
      "cell_type": "code",
      "execution_count": 1,
      "metadata": {
        "colab": {
          "base_uri": "https://localhost:8080/"
        },
        "id": "cDM0Ro4QYPk6",
        "outputId": "f8604fd9-62d7-4028-b878-22b19232e7e9"
      },
      "outputs": [
        {
          "output_type": "stream",
          "name": "stdout",
          "text": [
            "Collecting pyspark\n",
            "  Downloading pyspark-3.4.1.tar.gz (310.8 MB)\n",
            "\u001b[2K     \u001b[90m━━━━━━━━━━━━━━━━━━━━━━━━━━━━━━━━━━━━━━━\u001b[0m \u001b[32m310.8/310.8 MB\u001b[0m \u001b[31m4.1 MB/s\u001b[0m eta \u001b[36m0:00:00\u001b[0m\n",
            "\u001b[?25h  Preparing metadata (setup.py) ... \u001b[?25l\u001b[?25hdone\n",
            "Requirement already satisfied: py4j==0.10.9.7 in /usr/local/lib/python3.10/dist-packages (from pyspark) (0.10.9.7)\n",
            "Building wheels for collected packages: pyspark\n",
            "  Building wheel for pyspark (setup.py) ... \u001b[?25l\u001b[?25hdone\n",
            "  Created wheel for pyspark: filename=pyspark-3.4.1-py2.py3-none-any.whl size=311285398 sha256=9d5e11cdda8c083c4d6eb0805f2784034981f8e4973d28bf226c6ddba9174b07\n",
            "  Stored in directory: /root/.cache/pip/wheels/0d/77/a3/ff2f74cc9ab41f8f594dabf0579c2a7c6de920d584206e0834\n",
            "Successfully built pyspark\n",
            "Installing collected packages: pyspark\n",
            "Successfully installed pyspark-3.4.1\n"
          ]
        }
      ],
      "source": [
        "!pip install pyspark"
      ]
    },
    {
      "cell_type": "markdown",
      "source": [
        "## Importing the Libraries"
      ],
      "metadata": {
        "id": "1TZXyu1vYzEX"
      }
    },
    {
      "cell_type": "code",
      "source": [
        "from pyspark.sql import SparkSession"
      ],
      "metadata": {
        "id": "J2RVV_40Ygnv"
      },
      "execution_count": 2,
      "outputs": []
    },
    {
      "cell_type": "markdown",
      "source": [
        "## Creating Spark Session"
      ],
      "metadata": {
        "id": "3RmGsf2WY42f"
      }
    },
    {
      "cell_type": "code",
      "source": [
        "spark = SparkSession.builder.appName('PySpark Column Ops').getOrCreate()"
      ],
      "metadata": {
        "id": "3gN4uCH6YkY8"
      },
      "execution_count": 3,
      "outputs": []
    },
    {
      "cell_type": "markdown",
      "source": [
        "## Reading the Dataset"
      ],
      "metadata": {
        "id": "1CVP3cmxY6u7"
      }
    },
    {
      "cell_type": "code",
      "source": [
        "df = spark.read.csv('Fish.csv', sep = ',', inferSchema = True, header = True)"
      ],
      "metadata": {
        "id": "sqAlMbX1YmpR"
      },
      "execution_count": 5,
      "outputs": []
    },
    {
      "cell_type": "markdown",
      "source": [
        "## Checking the Imported Dataset"
      ],
      "metadata": {
        "id": "06IlRwQwY8uz"
      }
    },
    {
      "cell_type": "code",
      "source": [
        "df.show()"
      ],
      "metadata": {
        "colab": {
          "base_uri": "https://localhost:8080/"
        },
        "id": "2t_6cc-NY-KE",
        "outputId": "00bfd217-ef19-493b-c56b-184ae7777c38"
      },
      "execution_count": 6,
      "outputs": [
        {
          "output_type": "stream",
          "name": "stdout",
          "text": [
            "+-------+------+-------+-------+-------+-------+------+\n",
            "|Species|Weight|Length1|Length2|Length3| Height| Width|\n",
            "+-------+------+-------+-------+-------+-------+------+\n",
            "|  Bream| 242.0|   23.2|   25.4|   30.0|  11.52|  4.02|\n",
            "|  Bream| 290.0|   24.0|   26.3|   31.2|  12.48|4.3056|\n",
            "|  Bream| 340.0|   23.9|   26.5|   31.1|12.3778|4.6961|\n",
            "|  Bream| 363.0|   26.3|   29.0|   33.5|  12.73|4.4555|\n",
            "|  Bream| 430.0|   26.5|   29.0|   34.0| 12.444| 5.134|\n",
            "|  Bream| 450.0|   26.8|   29.7|   34.7|13.6024|4.9274|\n",
            "|  Bream| 500.0|   26.8|   29.7|   34.5|14.1795|5.2785|\n",
            "|  Bream| 390.0|   27.6|   30.0|   35.0|  12.67|  4.69|\n",
            "|  Bream| 450.0|   27.6|   30.0|   35.1|14.0049|4.8438|\n",
            "|  Bream| 500.0|   28.5|   30.7|   36.2|14.2266|4.9594|\n",
            "|  Bream| 475.0|   28.4|   31.0|   36.2|14.2628|5.1042|\n",
            "|  Bream| 500.0|   28.7|   31.0|   36.2|14.3714|4.8146|\n",
            "|  Bream| 500.0|   29.1|   31.5|   36.4|13.7592| 4.368|\n",
            "|  Bream| 340.0|   29.5|   32.0|   37.3|13.9129|5.0728|\n",
            "|  Bream| 600.0|   29.4|   32.0|   37.2|14.9544|5.1708|\n",
            "|  Bream| 600.0|   29.4|   32.0|   37.2| 15.438|  5.58|\n",
            "|  Bream| 700.0|   30.4|   33.0|   38.3|14.8604|5.2854|\n",
            "|  Bream| 700.0|   30.4|   33.0|   38.5| 14.938|5.1975|\n",
            "|  Bream| 610.0|   30.9|   33.5|   38.6| 15.633|5.1338|\n",
            "|  Bream| 650.0|   31.0|   33.5|   38.7|14.4738|5.7276|\n",
            "+-------+------+-------+-------+-------+-------+------+\n",
            "only showing top 20 rows\n",
            "\n"
          ]
        }
      ]
    },
    {
      "cell_type": "markdown",
      "source": [
        "## Creating a New Column"
      ],
      "metadata": {
        "id": "fCiQ5-e6Y_uD"
      }
    },
    {
      "cell_type": "code",
      "source": [
        "df = df.withColumn('Weight in Kg', df.Weight/1000)"
      ],
      "metadata": {
        "id": "OoRAx0zKZD0r"
      },
      "execution_count": 7,
      "outputs": []
    },
    {
      "cell_type": "markdown",
      "source": [
        "## Checking the Updated DataFrame\n"
      ],
      "metadata": {
        "id": "lhwSPTh-ZHGH"
      }
    },
    {
      "cell_type": "code",
      "source": [
        "df.show()"
      ],
      "metadata": {
        "colab": {
          "base_uri": "https://localhost:8080/"
        },
        "id": "1btXaw6vZJfv",
        "outputId": "f0dc6e23-02e0-426c-f165-7eca346d5c95"
      },
      "execution_count": 8,
      "outputs": [
        {
          "output_type": "stream",
          "name": "stdout",
          "text": [
            "+-------+------+-------+-------+-------+-------+------+------------+\n",
            "|Species|Weight|Length1|Length2|Length3| Height| Width|Weight in Kg|\n",
            "+-------+------+-------+-------+-------+-------+------+------------+\n",
            "|  Bream| 242.0|   23.2|   25.4|   30.0|  11.52|  4.02|       0.242|\n",
            "|  Bream| 290.0|   24.0|   26.3|   31.2|  12.48|4.3056|        0.29|\n",
            "|  Bream| 340.0|   23.9|   26.5|   31.1|12.3778|4.6961|        0.34|\n",
            "|  Bream| 363.0|   26.3|   29.0|   33.5|  12.73|4.4555|       0.363|\n",
            "|  Bream| 430.0|   26.5|   29.0|   34.0| 12.444| 5.134|        0.43|\n",
            "|  Bream| 450.0|   26.8|   29.7|   34.7|13.6024|4.9274|        0.45|\n",
            "|  Bream| 500.0|   26.8|   29.7|   34.5|14.1795|5.2785|         0.5|\n",
            "|  Bream| 390.0|   27.6|   30.0|   35.0|  12.67|  4.69|        0.39|\n",
            "|  Bream| 450.0|   27.6|   30.0|   35.1|14.0049|4.8438|        0.45|\n",
            "|  Bream| 500.0|   28.5|   30.7|   36.2|14.2266|4.9594|         0.5|\n",
            "|  Bream| 475.0|   28.4|   31.0|   36.2|14.2628|5.1042|       0.475|\n",
            "|  Bream| 500.0|   28.7|   31.0|   36.2|14.3714|4.8146|         0.5|\n",
            "|  Bream| 500.0|   29.1|   31.5|   36.4|13.7592| 4.368|         0.5|\n",
            "|  Bream| 340.0|   29.5|   32.0|   37.3|13.9129|5.0728|        0.34|\n",
            "|  Bream| 600.0|   29.4|   32.0|   37.2|14.9544|5.1708|         0.6|\n",
            "|  Bream| 600.0|   29.4|   32.0|   37.2| 15.438|  5.58|         0.6|\n",
            "|  Bream| 700.0|   30.4|   33.0|   38.3|14.8604|5.2854|         0.7|\n",
            "|  Bream| 700.0|   30.4|   33.0|   38.5| 14.938|5.1975|         0.7|\n",
            "|  Bream| 610.0|   30.9|   33.5|   38.6| 15.633|5.1338|        0.61|\n",
            "|  Bream| 650.0|   31.0|   33.5|   38.7|14.4738|5.7276|        0.65|\n",
            "+-------+------+-------+-------+-------+-------+------+------------+\n",
            "only showing top 20 rows\n",
            "\n"
          ]
        }
      ]
    },
    {
      "cell_type": "markdown",
      "source": [
        "# Renaming an Existing Column in PySpark DataFrame\n"
      ],
      "metadata": {
        "id": "4N0umJ_BZLz3"
      }
    },
    {
      "cell_type": "markdown",
      "source": [
        "# Checking the Current PySpark DataFrame"
      ],
      "metadata": {
        "id": "vrEzPB7IZORL"
      }
    },
    {
      "cell_type": "code",
      "source": [
        "df.show()"
      ],
      "metadata": {
        "colab": {
          "base_uri": "https://localhost:8080/"
        },
        "id": "DqYVlcNUZN7p",
        "outputId": "7103be5a-8881-40c3-e3aa-e3e8e0fe7705"
      },
      "execution_count": 9,
      "outputs": [
        {
          "output_type": "stream",
          "name": "stdout",
          "text": [
            "+-------+------+-------+-------+-------+-------+------+------------+\n",
            "|Species|Weight|Length1|Length2|Length3| Height| Width|Weight in Kg|\n",
            "+-------+------+-------+-------+-------+-------+------+------------+\n",
            "|  Bream| 242.0|   23.2|   25.4|   30.0|  11.52|  4.02|       0.242|\n",
            "|  Bream| 290.0|   24.0|   26.3|   31.2|  12.48|4.3056|        0.29|\n",
            "|  Bream| 340.0|   23.9|   26.5|   31.1|12.3778|4.6961|        0.34|\n",
            "|  Bream| 363.0|   26.3|   29.0|   33.5|  12.73|4.4555|       0.363|\n",
            "|  Bream| 430.0|   26.5|   29.0|   34.0| 12.444| 5.134|        0.43|\n",
            "|  Bream| 450.0|   26.8|   29.7|   34.7|13.6024|4.9274|        0.45|\n",
            "|  Bream| 500.0|   26.8|   29.7|   34.5|14.1795|5.2785|         0.5|\n",
            "|  Bream| 390.0|   27.6|   30.0|   35.0|  12.67|  4.69|        0.39|\n",
            "|  Bream| 450.0|   27.6|   30.0|   35.1|14.0049|4.8438|        0.45|\n",
            "|  Bream| 500.0|   28.5|   30.7|   36.2|14.2266|4.9594|         0.5|\n",
            "|  Bream| 475.0|   28.4|   31.0|   36.2|14.2628|5.1042|       0.475|\n",
            "|  Bream| 500.0|   28.7|   31.0|   36.2|14.3714|4.8146|         0.5|\n",
            "|  Bream| 500.0|   29.1|   31.5|   36.4|13.7592| 4.368|         0.5|\n",
            "|  Bream| 340.0|   29.5|   32.0|   37.3|13.9129|5.0728|        0.34|\n",
            "|  Bream| 600.0|   29.4|   32.0|   37.2|14.9544|5.1708|         0.6|\n",
            "|  Bream| 600.0|   29.4|   32.0|   37.2| 15.438|  5.58|         0.6|\n",
            "|  Bream| 700.0|   30.4|   33.0|   38.3|14.8604|5.2854|         0.7|\n",
            "|  Bream| 700.0|   30.4|   33.0|   38.5| 14.938|5.1975|         0.7|\n",
            "|  Bream| 610.0|   30.9|   33.5|   38.6| 15.633|5.1338|        0.61|\n",
            "|  Bream| 650.0|   31.0|   33.5|   38.7|14.4738|5.7276|        0.65|\n",
            "+-------+------+-------+-------+-------+-------+------+------------+\n",
            "only showing top 20 rows\n",
            "\n"
          ]
        }
      ]
    },
    {
      "cell_type": "markdown",
      "source": [
        "## Renaming the Column\n"
      ],
      "metadata": {
        "id": "zjHt7IsIZS1A"
      }
    },
    {
      "cell_type": "code",
      "source": [
        "df = df.withColumnRenamed(\"Weight in Kg\", \"Weight in Kilograms\")"
      ],
      "metadata": {
        "id": "vZDmqdEFZWOV"
      },
      "execution_count": 17,
      "outputs": []
    },
    {
      "cell_type": "markdown",
      "source": [
        "## Checking the updated PySpark DataFrame"
      ],
      "metadata": {
        "id": "DIQa3FRBZYGb"
      }
    },
    {
      "cell_type": "code",
      "source": [
        "df.show()"
      ],
      "metadata": {
        "colab": {
          "base_uri": "https://localhost:8080/"
        },
        "id": "c_UHQ8XWZiVF",
        "outputId": "b087cb0b-681e-4ac5-91aa-b8e32435c428"
      },
      "execution_count": 11,
      "outputs": [
        {
          "output_type": "stream",
          "name": "stdout",
          "text": [
            "+-------+------+-------+-------+-------+-------+------+-------------------+\n",
            "|Species|Weight|Length1|Length2|Length3| Height| Width|Weight in Kilograms|\n",
            "+-------+------+-------+-------+-------+-------+------+-------------------+\n",
            "|  Bream| 242.0|   23.2|   25.4|   30.0|  11.52|  4.02|              0.242|\n",
            "|  Bream| 290.0|   24.0|   26.3|   31.2|  12.48|4.3056|               0.29|\n",
            "|  Bream| 340.0|   23.9|   26.5|   31.1|12.3778|4.6961|               0.34|\n",
            "|  Bream| 363.0|   26.3|   29.0|   33.5|  12.73|4.4555|              0.363|\n",
            "|  Bream| 430.0|   26.5|   29.0|   34.0| 12.444| 5.134|               0.43|\n",
            "|  Bream| 450.0|   26.8|   29.7|   34.7|13.6024|4.9274|               0.45|\n",
            "|  Bream| 500.0|   26.8|   29.7|   34.5|14.1795|5.2785|                0.5|\n",
            "|  Bream| 390.0|   27.6|   30.0|   35.0|  12.67|  4.69|               0.39|\n",
            "|  Bream| 450.0|   27.6|   30.0|   35.1|14.0049|4.8438|               0.45|\n",
            "|  Bream| 500.0|   28.5|   30.7|   36.2|14.2266|4.9594|                0.5|\n",
            "|  Bream| 475.0|   28.4|   31.0|   36.2|14.2628|5.1042|              0.475|\n",
            "|  Bream| 500.0|   28.7|   31.0|   36.2|14.3714|4.8146|                0.5|\n",
            "|  Bream| 500.0|   29.1|   31.5|   36.4|13.7592| 4.368|                0.5|\n",
            "|  Bream| 340.0|   29.5|   32.0|   37.3|13.9129|5.0728|               0.34|\n",
            "|  Bream| 600.0|   29.4|   32.0|   37.2|14.9544|5.1708|                0.6|\n",
            "|  Bream| 600.0|   29.4|   32.0|   37.2| 15.438|  5.58|                0.6|\n",
            "|  Bream| 700.0|   30.4|   33.0|   38.3|14.8604|5.2854|                0.7|\n",
            "|  Bream| 700.0|   30.4|   33.0|   38.5| 14.938|5.1975|                0.7|\n",
            "|  Bream| 610.0|   30.9|   33.5|   38.6| 15.633|5.1338|               0.61|\n",
            "|  Bream| 650.0|   31.0|   33.5|   38.7|14.4738|5.7276|               0.65|\n",
            "+-------+------+-------+-------+-------+-------+------+-------------------+\n",
            "only showing top 20 rows\n",
            "\n"
          ]
        }
      ]
    },
    {
      "cell_type": "markdown",
      "source": [
        "# Creating a Column Alias in PySpark DataFrame"
      ],
      "metadata": {
        "id": "fs6mwFAUZkrz"
      }
    },
    {
      "cell_type": "code",
      "source": [
        "df.show()"
      ],
      "metadata": {
        "colab": {
          "base_uri": "https://localhost:8080/"
        },
        "id": "HGG4KSgNZmnZ",
        "outputId": "c8156606-03a5-47d8-ead6-14fbb9f6db48"
      },
      "execution_count": 12,
      "outputs": [
        {
          "output_type": "stream",
          "name": "stdout",
          "text": [
            "+-------+------+-------+-------+-------+-------+------+-------------------+\n",
            "|Species|Weight|Length1|Length2|Length3| Height| Width|Weight in Kilograms|\n",
            "+-------+------+-------+-------+-------+-------+------+-------------------+\n",
            "|  Bream| 242.0|   23.2|   25.4|   30.0|  11.52|  4.02|              0.242|\n",
            "|  Bream| 290.0|   24.0|   26.3|   31.2|  12.48|4.3056|               0.29|\n",
            "|  Bream| 340.0|   23.9|   26.5|   31.1|12.3778|4.6961|               0.34|\n",
            "|  Bream| 363.0|   26.3|   29.0|   33.5|  12.73|4.4555|              0.363|\n",
            "|  Bream| 430.0|   26.5|   29.0|   34.0| 12.444| 5.134|               0.43|\n",
            "|  Bream| 450.0|   26.8|   29.7|   34.7|13.6024|4.9274|               0.45|\n",
            "|  Bream| 500.0|   26.8|   29.7|   34.5|14.1795|5.2785|                0.5|\n",
            "|  Bream| 390.0|   27.6|   30.0|   35.0|  12.67|  4.69|               0.39|\n",
            "|  Bream| 450.0|   27.6|   30.0|   35.1|14.0049|4.8438|               0.45|\n",
            "|  Bream| 500.0|   28.5|   30.7|   36.2|14.2266|4.9594|                0.5|\n",
            "|  Bream| 475.0|   28.4|   31.0|   36.2|14.2628|5.1042|              0.475|\n",
            "|  Bream| 500.0|   28.7|   31.0|   36.2|14.3714|4.8146|                0.5|\n",
            "|  Bream| 500.0|   29.1|   31.5|   36.4|13.7592| 4.368|                0.5|\n",
            "|  Bream| 340.0|   29.5|   32.0|   37.3|13.9129|5.0728|               0.34|\n",
            "|  Bream| 600.0|   29.4|   32.0|   37.2|14.9544|5.1708|                0.6|\n",
            "|  Bream| 600.0|   29.4|   32.0|   37.2| 15.438|  5.58|                0.6|\n",
            "|  Bream| 700.0|   30.4|   33.0|   38.3|14.8604|5.2854|                0.7|\n",
            "|  Bream| 700.0|   30.4|   33.0|   38.5| 14.938|5.1975|                0.7|\n",
            "|  Bream| 610.0|   30.9|   33.5|   38.6| 15.633|5.1338|               0.61|\n",
            "|  Bream| 650.0|   31.0|   33.5|   38.7|14.4738|5.7276|               0.65|\n",
            "+-------+------+-------+-------+-------+-------+------+-------------------+\n",
            "only showing top 20 rows\n",
            "\n"
          ]
        }
      ]
    },
    {
      "cell_type": "markdown",
      "source": [
        "## Creating Column Column Alias\n",
        "\n"
      ],
      "metadata": {
        "id": "HfDsR4q4aAzS"
      }
    },
    {
      "cell_type": "code",
      "source": [
        "df.select(df['Weight in Kilograms'].alias(\"Kilograms\")).show()"
      ],
      "metadata": {
        "colab": {
          "base_uri": "https://localhost:8080/"
        },
        "id": "ohVBLfInaC0J",
        "outputId": "e42cbe8c-359f-403e-abed-0e23c793e4d0"
      },
      "execution_count": 16,
      "outputs": [
        {
          "output_type": "stream",
          "name": "stdout",
          "text": [
            "+---------+\n",
            "|Kilograms|\n",
            "+---------+\n",
            "|    0.242|\n",
            "|     0.29|\n",
            "|     0.34|\n",
            "|    0.363|\n",
            "|     0.43|\n",
            "|     0.45|\n",
            "|      0.5|\n",
            "|     0.39|\n",
            "|     0.45|\n",
            "|      0.5|\n",
            "|    0.475|\n",
            "|      0.5|\n",
            "|      0.5|\n",
            "|     0.34|\n",
            "|      0.6|\n",
            "|      0.6|\n",
            "|      0.7|\n",
            "|      0.7|\n",
            "|     0.61|\n",
            "|     0.65|\n",
            "+---------+\n",
            "only showing top 20 rows\n",
            "\n"
          ]
        }
      ]
    }
  ]
}